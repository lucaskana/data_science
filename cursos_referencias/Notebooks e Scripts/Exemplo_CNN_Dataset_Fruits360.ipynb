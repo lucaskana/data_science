{
 "cells": [
  {
   "cell_type": "code",
   "execution_count": 3,
   "metadata": {
    "id": "Z-dlXc3p_aEL"
   },
   "outputs": [],
   "source": [
    "import matplotlib.pyplot as plt\n",
    "\n",
    "import tensorflow as tf\n",
    "from tensorflow import keras\n",
    "from tensorflow.keras import layers\n",
    "\n",
    "from tensorflow.keras.models import Sequential\n",
    "from tensorflow.keras.layers import Dense\n",
    "from tensorflow.keras.layers import Dropout\n",
    "from tensorflow.keras.layers import Flatten\n",
    "from tensorflow.keras.layers import Conv2D, MaxPooling2D,AveragePooling2D\n",
    "from tensorflow.keras.preprocessing.image import img_to_array, load_img\n",
    "import numpy as np\n",
    "from tensorflow.keras import preprocessing\n",
    "\n",
    "from tensorflow.keras.callbacks import ModelCheckpoint\n"
   ]
  },
  {
   "cell_type": "code",
   "execution_count": 4,
   "metadata": {
    "colab": {
     "base_uri": "https://localhost:8080/"
    },
    "id": "FLyqlsKVDhUl",
    "outputId": "7eedbdd1-1f9a-4294-b157-7763aff23d91"
   },
   "outputs": [
    {
     "name": "stdout",
     "output_type": "stream",
     "text": [
      "Found 8298 images belonging to 20 classes.\n"
     ]
    }
   ],
   "source": [
    "train_datagen = preprocessing.image.ImageDataGenerator(validation_split=0.20)\n",
    "train_generator = train_datagen.flow_from_directory(\n",
    "    '/home/lucas/Downloads/fruits-20/Training',\n",
    "    batch_size=500,\n",
    "    color_mode = 'rgb',\n",
    "    subset='training',\n",
    "    target_size=(50, 50))\n"
   ]
  },
  {
   "cell_type": "code",
   "execution_count": 5,
   "metadata": {},
   "outputs": [
    {
     "data": {
      "text/plain": [
       "{'Apple Braeburn': 0,\n",
       " 'Apple Crimson Snow': 1,\n",
       " 'Apple Golden 1': 2,\n",
       " 'Apple Golden 2': 3,\n",
       " 'Apple Golden 3': 4,\n",
       " 'Apple Granny Smith': 5,\n",
       " 'Apple Pink Lady': 6,\n",
       " 'Apple Red 1': 7,\n",
       " 'Apple Red 2': 8,\n",
       " 'Apple Red 3': 9,\n",
       " 'Apple Red Delicious': 10,\n",
       " 'Apple Red Yellow 1': 11,\n",
       " 'Apple Red Yellow 2': 12,\n",
       " 'Tomato 1': 13,\n",
       " 'Tomato 2': 14,\n",
       " 'Tomato 3': 15,\n",
       " 'Tomato 4': 16,\n",
       " 'Tomato Cherry Red': 17,\n",
       " 'Tomato Maroon': 18,\n",
       " 'Tomato Yellow': 19}"
      ]
     },
     "execution_count": 5,
     "metadata": {},
     "output_type": "execute_result"
    }
   ],
   "source": [
    "class_indices = train_generator.class_indices \n",
    "class_indices"
   ]
  },
  {
   "cell_type": "code",
   "execution_count": 7,
   "metadata": {
    "colab": {
     "base_uri": "https://localhost:8080/"
    },
    "id": "_BaY8FN6fR6x",
    "outputId": "7dab2d34-8c1d-4dc1-fc38-b1d4aab6d543"
   },
   "outputs": [
    {
     "name": "stdout",
     "output_type": "stream",
     "text": [
      "Found 2063 images belonging to 20 classes.\n"
     ]
    }
   ],
   "source": [
    "valid_generator = train_datagen.flow_from_directory(\n",
    "    '/home/lucas/Downloads/fruits-20/Training',\n",
    "    batch_size=500,\n",
    "    color_mode = 'rgb',\n",
    "    subset='validation',\n",
    "    target_size=(50, 50))"
   ]
  },
  {
   "cell_type": "code",
   "execution_count": 8,
   "metadata": {},
   "outputs": [],
   "source": [
    "#!pip install sciPy"
   ]
  },
  {
   "cell_type": "code",
   "execution_count": 9,
   "metadata": {
    "colab": {
     "base_uri": "https://localhost:8080/",
     "height": 266
    },
    "id": "j_lsEBqlfu4a",
    "outputId": "a8da0801-633f-42e3-a6a8-e1b68c316f5e"
   },
   "outputs": [
    {
     "data": {
      "image/png": "[encoded data removed]",
      "text/plain": [
       "<Figure size 432x288 with 1 Axes>"
      ]
     },
     "metadata": {
      "needs_background": "light"
     },
     "output_type": "display_data"
    }
   ],
   "source": [
    "#Visualizando \n",
    "x,y = train_generator.next()\n",
    "for i in range(0,1):\n",
    "    image = x[i]   \n",
    "    plt.imshow(image[:,:,0])\n",
    "    plt.show()"
   ]
  },
  {
   "cell_type": "code",
   "execution_count": 10,
   "metadata": {},
   "outputs": [
    {
     "data": {
      "text/plain": [
       "(500, 50, 50, 3)"
      ]
     },
     "execution_count": 10,
     "metadata": {},
     "output_type": "execute_result"
    }
   ],
   "source": [
    "x.shape"
   ]
  },
  {
   "cell_type": "code",
   "execution_count": 11,
   "metadata": {},
   "outputs": [
    {
     "data": {
      "text/plain": [
       "(500, 20)"
      ]
     },
     "execution_count": 11,
     "metadata": {},
     "output_type": "execute_result"
    }
   ],
   "source": [
    "y.shape"
   ]
  },
  {
   "cell_type": "code",
   "execution_count": 12,
   "metadata": {},
   "outputs": [
    {
     "data": {
      "text/plain": [
       "20"
      ]
     },
     "execution_count": 12,
     "metadata": {},
     "output_type": "execute_result"
    }
   ],
   "source": [
    "num_classes = y.shape[1]\n",
    "num_classes"
   ]
  },
  {
   "cell_type": "code",
   "execution_count": 13,
   "metadata": {
    "id": "NbOaV-gQgXpH"
   },
   "outputs": [],
   "source": [
    "STEP_SIZE_TRAIN=train_generator.n//train_generator.batch_size\n",
    "STEP_SIZE_VALID=valid_generator.n//valid_generator.batch_size"
   ]
  },
  {
   "cell_type": "code",
   "execution_count": 14,
   "metadata": {
    "colab": {
     "base_uri": "https://localhost:8080/"
    },
    "id": "kxlPBEOxgZMM",
    "outputId": "af9ea0b1-663d-43a9-d4da-1401e8587256"
   },
   "outputs": [
    {
     "name": "stdout",
     "output_type": "stream",
     "text": [
      "(None, 1152)\n",
      "(None, 512)\n",
      "(None, 128)\n",
      "(None, 64)\n",
      "(None, 20)\n"
     ]
    }
   ],
   "source": [
    "# Cria o modelo\n",
    "model = Sequential()\n",
    "#Convolução 2D com função de ativação Rectified Linear Units 32 kernels/Pesos (filtros) \n",
    "model.add(Conv2D(32, (7, 7), input_shape=(50,50,3), activation='relu')) \n",
    "#Camada de Pooling \t    \n",
    "model.add(MaxPooling2D(pool_size=(2, 2)))\n",
    "\t\n",
    "#Convolução 2D com função de ativação Rectified Linear Units 64 kernels/Pesos (filtros) \n",
    "model.add(Conv2D(64, (5, 5), activation='relu'))\n",
    "#Camada de Pooling \t\n",
    "model.add(MaxPooling2D(pool_size=(2, 2)))\n",
    "\n",
    "#Convolução 2D com função de ativação Rectified Linear Units 64 kernels/Pesos (filtros) \n",
    "model.add(Conv2D(128, (3, 3), activation='relu'))\n",
    "#Camada de Pooling \t\n",
    "model.add(MaxPooling2D(pool_size=(2, 2)))\n",
    "\n",
    "#Remove 30% dos dados de entrada aleatoriamente \n",
    "model.add(Dropout(0.3))\n",
    "#Converte o conjunto de imagens e um vetor unidimensional para a entrada da rede neural totalmente conectada\n",
    "model.add(Flatten())\n",
    "\n",
    "print( model.output_shape)\n",
    "model.add(Dense(512, activation='relu'))\n",
    "print( model.output_shape)\n",
    "model.add(Dense(128, activation='relu'))\n",
    "print( model.output_shape)\n",
    "model.add(Dense(64, activation='relu'))\n",
    "print( model.output_shape)\n",
    "model.add(Dense(num_classes, activation='softmax'))\n",
    "print( model.output_shape)\n"
   ]
  },
  {
   "cell_type": "code",
   "execution_count": 15,
   "metadata": {
    "id": "9Zo-NEaegdNh"
   },
   "outputs": [],
   "source": [
    "model.compile(loss='categorical_crossentropy', optimizer='adam', metrics=['accuracy'])"
   ]
  },
  {
   "cell_type": "code",
   "execution_count": 16,
   "metadata": {},
   "outputs": [
    {
     "name": "stdout",
     "output_type": "stream",
     "text": [
      "Model: \"sequential\"\n",
      "_________________________________________________________________\n",
      "Layer (type)                 Output Shape              Param #   \n",
      "=================================================================\n",
      "conv2d (Conv2D)              (None, 44, 44, 32)        4736      \n",
      "_________________________________________________________________\n",
      "max_pooling2d (MaxPooling2D) (None, 22, 22, 32)        0         \n",
      "_________________________________________________________________\n",
      "conv2d_1 (Conv2D)            (None, 18, 18, 64)        51264     \n",
      "_________________________________________________________________\n",
      "max_pooling2d_1 (MaxPooling2 (None, 9, 9, 64)          0         \n",
      "_________________________________________________________________\n",
      "conv2d_2 (Conv2D)            (None, 7, 7, 128)         73856     \n",
      "_________________________________________________________________\n",
      "max_pooling2d_2 (MaxPooling2 (None, 3, 3, 128)         0         \n",
      "_________________________________________________________________\n",
      "dropout (Dropout)            (None, 3, 3, 128)         0         \n",
      "_________________________________________________________________\n",
      "flatten (Flatten)            (None, 1152)              0         \n",
      "_________________________________________________________________\n",
      "dense (Dense)                (None, 512)               590336    \n",
      "_________________________________________________________________\n",
      "dense_1 (Dense)              (None, 128)               65664     \n",
      "_________________________________________________________________\n",
      "dense_2 (Dense)              (None, 64)                8256      \n",
      "_________________________________________________________________\n",
      "dense_3 (Dense)              (None, 20)                1300      \n",
      "=================================================================\n",
      "Total params: 795,412\n",
      "Trainable params: 795,412\n",
      "Non-trainable params: 0\n",
      "_________________________________________________________________\n"
     ]
    }
   ],
   "source": [
    "model.summary()"
   ]
  },
  {
   "cell_type": "code",
   "execution_count": 17,
   "metadata": {
    "colab": {
     "base_uri": "https://localhost:8080/",
     "height": 1000
    },
    "id": "az7y6EhkgiOe",
    "outputId": "d5e9a9e6-a1f1-4a72-c296-0edbe366914f"
   },
   "outputs": [
    {
     "name": "stdout",
     "output_type": "stream",
     "text": [
      "Epoch 1/30\n",
      "16/16 [==============================] - 15s 889ms/step - loss: 5.5918 - accuracy: 0.1318 - val_loss: 2.3939 - val_accuracy: 0.2005\n",
      "\n",
      "Epoch 00001: val_accuracy improved from -inf to 0.20050, saving model to model_best_fruits360.h5\n",
      "Epoch 2/30\n",
      "16/16 [==============================] - 13s 827ms/step - loss: 1.6912 - accuracy: 0.4395 - val_loss: 1.0895 - val_accuracy: 0.6685\n",
      "\n",
      "Epoch 00002: val_accuracy improved from 0.20050 to 0.66850, saving model to model_best_fruits360.h5\n",
      "Epoch 3/30\n",
      "16/16 [==============================] - 13s 833ms/step - loss: 0.6015 - accuracy: 0.7916 - val_loss: 0.5895 - val_accuracy: 0.8585\n",
      "\n",
      "Epoch 00003: val_accuracy improved from 0.66850 to 0.85850, saving model to model_best_fruits360.h5\n",
      "Epoch 4/30\n",
      "16/16 [==============================] - 14s 882ms/step - loss: 0.1880 - accuracy: 0.9373 - val_loss: 0.6671 - val_accuracy: 0.8685\n",
      "\n",
      "Epoch 00004: val_accuracy improved from 0.85850 to 0.86850, saving model to model_best_fruits360.h5\n",
      "Epoch 5/30\n",
      "16/16 [==============================] - 14s 834ms/step - loss: 0.0597 - accuracy: 0.9840 - val_loss: 0.6677 - val_accuracy: 0.8750\n",
      "\n",
      "Epoch 00005: val_accuracy improved from 0.86850 to 0.87500, saving model to model_best_fruits360.h5\n",
      "Epoch 6/30\n",
      "16/16 [==============================] - 14s 862ms/step - loss: 0.0453 - accuracy: 0.9864 - val_loss: 0.6784 - val_accuracy: 0.8840\n",
      "\n",
      "Epoch 00006: val_accuracy improved from 0.87500 to 0.88400, saving model to model_best_fruits360.h5\n",
      "Epoch 7/30\n",
      "16/16 [==============================] - 15s 875ms/step - loss: 0.0325 - accuracy: 0.9909 - val_loss: 0.7781 - val_accuracy: 0.8675\n",
      "\n",
      "Epoch 00007: val_accuracy did not improve from 0.88400\n",
      "Epoch 8/30\n",
      "16/16 [==============================] - 14s 875ms/step - loss: 0.1703 - accuracy: 0.9514 - val_loss: 1.0584 - val_accuracy: 0.7625\n",
      "\n",
      "Epoch 00008: val_accuracy did not improve from 0.88400\n",
      "Epoch 9/30\n",
      "16/16 [==============================] - 14s 834ms/step - loss: 0.1051 - accuracy: 0.9674 - val_loss: 1.0710 - val_accuracy: 0.8370\n",
      "\n",
      "Epoch 00009: val_accuracy did not improve from 0.88400\n",
      "Epoch 10/30\n",
      "16/16 [==============================] - 13s 844ms/step - loss: 0.0258 - accuracy: 0.9932 - val_loss: 0.7947 - val_accuracy: 0.8670\n",
      "\n",
      "Epoch 00010: val_accuracy did not improve from 0.88400\n",
      "Epoch 11/30\n",
      "16/16 [==============================] - 14s 881ms/step - loss: 0.0109 - accuracy: 0.9969 - val_loss: 0.9717 - val_accuracy: 0.8655\n",
      "\n",
      "Epoch 00011: val_accuracy did not improve from 0.88400\n",
      "Epoch 12/30\n",
      "16/16 [==============================] - 14s 877ms/step - loss: 0.0077 - accuracy: 0.9984 - val_loss: 0.9369 - val_accuracy: 0.8815\n",
      "\n",
      "Epoch 00012: val_accuracy did not improve from 0.88400\n",
      "Epoch 13/30\n",
      "16/16 [==============================] - 14s 835ms/step - loss: 0.0043 - accuracy: 0.9994 - val_loss: 1.0083 - val_accuracy: 0.8765\n",
      "\n",
      "Epoch 00013: val_accuracy did not improve from 0.88400\n",
      "Epoch 14/30\n",
      "16/16 [==============================] - 13s 826ms/step - loss: 0.0039 - accuracy: 0.9995 - val_loss: 0.8373 - val_accuracy: 0.8900\n",
      "\n",
      "Epoch 00014: val_accuracy improved from 0.88400 to 0.89000, saving model to model_best_fruits360.h5\n",
      "Epoch 15/30\n",
      "16/16 [==============================] - 14s 843ms/step - loss: 0.0038 - accuracy: 0.9991 - val_loss: 0.8250 - val_accuracy: 0.8870\n",
      "\n",
      "Epoch 00015: val_accuracy did not improve from 0.89000\n",
      "Epoch 16/30\n",
      "16/16 [==============================] - 14s 840ms/step - loss: 0.0063 - accuracy: 0.9982 - val_loss: 1.0609 - val_accuracy: 0.8745\n",
      "\n",
      "Epoch 00016: val_accuracy did not improve from 0.89000\n",
      "Epoch 17/30\n",
      "16/16 [==============================] - 13s 826ms/step - loss: 0.0045 - accuracy: 0.9991 - val_loss: 1.1516 - val_accuracy: 0.8655\n",
      "\n",
      "Epoch 00017: val_accuracy did not improve from 0.89000\n",
      "Epoch 18/30\n",
      "16/16 [==============================] - 14s 861ms/step - loss: 0.0030 - accuracy: 0.9996 - val_loss: 1.2873 - val_accuracy: 0.8660\n",
      "\n",
      "Epoch 00018: val_accuracy did not improve from 0.89000\n",
      "Epoch 19/30\n",
      "16/16 [==============================] - 14s 860ms/step - loss: 0.0031 - accuracy: 0.9995 - val_loss: 1.2127 - val_accuracy: 0.8720\n",
      "\n",
      "Epoch 00019: val_accuracy did not improve from 0.89000\n",
      "Epoch 20/30\n",
      "16/16 [==============================] - 14s 862ms/step - loss: 0.0041 - accuracy: 0.9987 - val_loss: 1.5389 - val_accuracy: 0.8555\n",
      "\n",
      "Epoch 00020: val_accuracy did not improve from 0.89000\n",
      "Epoch 21/30\n",
      "16/16 [==============================] - 14s 860ms/step - loss: 0.0017 - accuracy: 0.9999 - val_loss: 1.0166 - val_accuracy: 0.8840\n",
      "\n",
      "Epoch 00021: val_accuracy did not improve from 0.89000\n",
      "Epoch 22/30\n",
      "16/16 [==============================] - 14s 852ms/step - loss: 0.0028 - accuracy: 0.9991 - val_loss: 0.9397 - val_accuracy: 0.8870\n",
      "\n",
      "Epoch 00022: val_accuracy did not improve from 0.89000\n",
      "Epoch 23/30\n",
      "16/16 [==============================] - 14s 855ms/step - loss: 0.0019 - accuracy: 0.9997 - val_loss: 1.1550 - val_accuracy: 0.8785\n",
      "\n",
      "Epoch 00023: val_accuracy did not improve from 0.89000\n",
      "Epoch 24/30\n",
      "16/16 [==============================] - 14s 867ms/step - loss: 0.0023 - accuracy: 0.9994 - val_loss: 1.3859 - val_accuracy: 0.8670\n",
      "\n",
      "Epoch 00024: val_accuracy did not improve from 0.89000\n",
      "Epoch 25/30\n",
      "16/16 [==============================] - 14s 858ms/step - loss: 0.0017 - accuracy: 0.9995 - val_loss: 0.9650 - val_accuracy: 0.8935\n",
      "\n",
      "Epoch 00025: val_accuracy improved from 0.89000 to 0.89350, saving model to model_best_fruits360.h5\n",
      "Epoch 26/30\n",
      "16/16 [==============================] - 14s 892ms/step - loss: 9.0207e-04 - accuracy: 1.0000 - val_loss: 1.0018 - val_accuracy: 0.8840\n",
      "\n",
      "Epoch 00026: val_accuracy did not improve from 0.89350\n",
      "Epoch 27/30\n",
      "16/16 [==============================] - 14s 867ms/step - loss: 0.0011 - accuracy: 0.9997 - val_loss: 1.3334 - val_accuracy: 0.8695\n",
      "\n",
      "Epoch 00027: val_accuracy did not improve from 0.89350\n",
      "Epoch 28/30\n",
      "16/16 [==============================] - 14s 868ms/step - loss: 7.8049e-04 - accuracy: 1.0000 - val_loss: 1.0635 - val_accuracy: 0.8845\n",
      "\n",
      "Epoch 00028: val_accuracy did not improve from 0.89350\n",
      "Epoch 29/30\n",
      "16/16 [==============================] - 14s 864ms/step - loss: 7.3569e-04 - accuracy: 0.9999 - val_loss: 1.3571 - val_accuracy: 0.8705\n",
      "\n",
      "Epoch 00029: val_accuracy did not improve from 0.89350\n",
      "Epoch 30/30\n",
      "16/16 [==============================] - 14s 880ms/step - loss: 0.0020 - accuracy: 0.9994 - val_loss: 1.6812 - val_accuracy: 0.8355\n",
      "\n",
      "Epoch 00030: val_accuracy did not improve from 0.89350\n"
     ]
    },
    {
     "data": {
      "text/plain": [
       "<keras.callbacks.History at 0x7f08d31e0760>"
      ]
     },
     "execution_count": 17,
     "metadata": {},
     "output_type": "execute_result"
    }
   ],
   "source": [
    "mcp_save = ModelCheckpoint('model_best_fruits360.h5', monitor='val_accuracy', mode= 'auto', save_weights_only=True, save_best_only=True, verbose =1)\n",
    "\n",
    "model.fit(train_generator, \n",
    "                    steps_per_epoch=STEP_SIZE_TRAIN,\n",
    "                    validation_data=valid_generator,\n",
    "                    validation_steps=STEP_SIZE_VALID,\n",
    "                    epochs=30, callbacks=[mcp_save])"
   ]
  },
  {
   "cell_type": "code",
   "execution_count": 18,
   "metadata": {
    "id": "k2dFjFKUgpnA"
   },
   "outputs": [
    {
     "ename": "FileNotFoundError",
     "evalue": "[Errno 2] No such file or directory: 'Datasets/fruits-20/Test'",
     "output_type": "error",
     "traceback": [
      "\u001b[0;31m---------------------------------------------------------------------------\u001b[0m",
      "\u001b[0;31mFileNotFoundError\u001b[0m                         Traceback (most recent call last)",
      "\u001b[0;32m<ipython-input-18-b6f8af529da6>\u001b[0m in \u001b[0;36m<module>\u001b[0;34m\u001b[0m\n\u001b[1;32m      1\u001b[0m \u001b[0mtest_datagen\u001b[0m \u001b[0;34m=\u001b[0m \u001b[0mpreprocessing\u001b[0m\u001b[0;34m.\u001b[0m\u001b[0mimage\u001b[0m\u001b[0;34m.\u001b[0m\u001b[0mImageDataGenerator\u001b[0m\u001b[0;34m(\u001b[0m\u001b[0;34m)\u001b[0m\u001b[0;34m\u001b[0m\u001b[0;34m\u001b[0m\u001b[0m\n\u001b[0;32m----> 2\u001b[0;31m test_generator = test_datagen.flow_from_directory(\n\u001b[0m\u001b[1;32m      3\u001b[0m     \u001b[0;34m'Datasets/fruits-20/Test'\u001b[0m\u001b[0;34m,\u001b[0m\u001b[0;34m\u001b[0m\u001b[0;34m\u001b[0m\u001b[0m\n\u001b[1;32m      4\u001b[0m     \u001b[0mbatch_size\u001b[0m\u001b[0;34m=\u001b[0m\u001b[0;36m1\u001b[0m\u001b[0;34m,\u001b[0m\u001b[0;34m\u001b[0m\u001b[0;34m\u001b[0m\u001b[0m\n\u001b[1;32m      5\u001b[0m     \u001b[0mcolor_mode\u001b[0m \u001b[0;34m=\u001b[0m \u001b[0;34m'rgb'\u001b[0m\u001b[0;34m,\u001b[0m\u001b[0;34m\u001b[0m\u001b[0;34m\u001b[0m\u001b[0m\n",
      "\u001b[0;32m~/anaconda3/lib/python3.8/site-packages/keras/preprocessing/image.py\u001b[0m in \u001b[0;36mflow_from_directory\u001b[0;34m(self, directory, target_size, color_mode, classes, class_mode, batch_size, shuffle, seed, save_to_dir, save_prefix, save_format, follow_links, subset, interpolation)\u001b[0m\n\u001b[1;32m    974\u001b[0m             \u001b[0;32mand\u001b[0m\u001b[0;31m \u001b[0m\u001b[0;31m`\u001b[0m\u001b[0my\u001b[0m\u001b[0;31m`\u001b[0m \u001b[0;32mis\u001b[0m \u001b[0ma\u001b[0m \u001b[0mnumpy\u001b[0m \u001b[0marray\u001b[0m \u001b[0mof\u001b[0m \u001b[0mcorresponding\u001b[0m \u001b[0mlabels\u001b[0m\u001b[0;34m.\u001b[0m\u001b[0;34m\u001b[0m\u001b[0;34m\u001b[0m\u001b[0m\n\u001b[1;32m    975\u001b[0m     \"\"\"\n\u001b[0;32m--> 976\u001b[0;31m     return DirectoryIterator(\n\u001b[0m\u001b[1;32m    977\u001b[0m         \u001b[0mdirectory\u001b[0m\u001b[0;34m,\u001b[0m\u001b[0;34m\u001b[0m\u001b[0;34m\u001b[0m\u001b[0m\n\u001b[1;32m    978\u001b[0m         \u001b[0mself\u001b[0m\u001b[0;34m,\u001b[0m\u001b[0;34m\u001b[0m\u001b[0;34m\u001b[0m\u001b[0m\n",
      "\u001b[0;32m~/anaconda3/lib/python3.8/site-packages/keras/preprocessing/image.py\u001b[0m in \u001b[0;36m__init__\u001b[0;34m(self, directory, image_data_generator, target_size, color_mode, classes, class_mode, batch_size, shuffle, seed, data_format, save_to_dir, save_prefix, save_format, follow_links, subset, interpolation, dtype)\u001b[0m\n\u001b[1;32m    392\u001b[0m         \u001b[0mdtype\u001b[0m \u001b[0;34m=\u001b[0m \u001b[0mbackend\u001b[0m\u001b[0;34m.\u001b[0m\u001b[0mfloatx\u001b[0m\u001b[0;34m(\u001b[0m\u001b[0;34m)\u001b[0m\u001b[0;34m\u001b[0m\u001b[0;34m\u001b[0m\u001b[0m\n\u001b[1;32m    393\u001b[0m       \u001b[0mkwargs\u001b[0m\u001b[0;34m[\u001b[0m\u001b[0;34m'dtype'\u001b[0m\u001b[0;34m]\u001b[0m \u001b[0;34m=\u001b[0m \u001b[0mdtype\u001b[0m\u001b[0;34m\u001b[0m\u001b[0;34m\u001b[0m\u001b[0m\n\u001b[0;32m--> 394\u001b[0;31m     super(DirectoryIterator, self).__init__(\n\u001b[0m\u001b[1;32m    395\u001b[0m         \u001b[0mdirectory\u001b[0m\u001b[0;34m,\u001b[0m \u001b[0mimage_data_generator\u001b[0m\u001b[0;34m,\u001b[0m\u001b[0;34m\u001b[0m\u001b[0;34m\u001b[0m\u001b[0m\n\u001b[1;32m    396\u001b[0m         \u001b[0mtarget_size\u001b[0m\u001b[0;34m=\u001b[0m\u001b[0mtarget_size\u001b[0m\u001b[0;34m,\u001b[0m\u001b[0;34m\u001b[0m\u001b[0;34m\u001b[0m\u001b[0m\n",
      "\u001b[0;32m~/anaconda3/lib/python3.8/site-packages/keras_preprocessing/image/directory_iterator.py\u001b[0m in \u001b[0;36m__init__\u001b[0;34m(self, directory, image_data_generator, target_size, color_mode, classes, class_mode, batch_size, shuffle, seed, data_format, save_to_dir, save_prefix, save_format, follow_links, subset, interpolation, dtype)\u001b[0m\n\u001b[1;32m    113\u001b[0m         \u001b[0;32mif\u001b[0m \u001b[0;32mnot\u001b[0m \u001b[0mclasses\u001b[0m\u001b[0;34m:\u001b[0m\u001b[0;34m\u001b[0m\u001b[0;34m\u001b[0m\u001b[0m\n\u001b[1;32m    114\u001b[0m             \u001b[0mclasses\u001b[0m \u001b[0;34m=\u001b[0m \u001b[0;34m[\u001b[0m\u001b[0;34m]\u001b[0m\u001b[0;34m\u001b[0m\u001b[0;34m\u001b[0m\u001b[0m\n\u001b[0;32m--> 115\u001b[0;31m             \u001b[0;32mfor\u001b[0m \u001b[0msubdir\u001b[0m \u001b[0;32min\u001b[0m \u001b[0msorted\u001b[0m\u001b[0;34m(\u001b[0m\u001b[0mos\u001b[0m\u001b[0;34m.\u001b[0m\u001b[0mlistdir\u001b[0m\u001b[0;34m(\u001b[0m\u001b[0mdirectory\u001b[0m\u001b[0;34m)\u001b[0m\u001b[0;34m)\u001b[0m\u001b[0;34m:\u001b[0m\u001b[0;34m\u001b[0m\u001b[0;34m\u001b[0m\u001b[0m\n\u001b[0m\u001b[1;32m    116\u001b[0m                 \u001b[0;32mif\u001b[0m \u001b[0mos\u001b[0m\u001b[0;34m.\u001b[0m\u001b[0mpath\u001b[0m\u001b[0;34m.\u001b[0m\u001b[0misdir\u001b[0m\u001b[0;34m(\u001b[0m\u001b[0mos\u001b[0m\u001b[0;34m.\u001b[0m\u001b[0mpath\u001b[0m\u001b[0;34m.\u001b[0m\u001b[0mjoin\u001b[0m\u001b[0;34m(\u001b[0m\u001b[0mdirectory\u001b[0m\u001b[0;34m,\u001b[0m \u001b[0msubdir\u001b[0m\u001b[0;34m)\u001b[0m\u001b[0;34m)\u001b[0m\u001b[0;34m:\u001b[0m\u001b[0;34m\u001b[0m\u001b[0;34m\u001b[0m\u001b[0m\n\u001b[1;32m    117\u001b[0m                     \u001b[0mclasses\u001b[0m\u001b[0;34m.\u001b[0m\u001b[0mappend\u001b[0m\u001b[0;34m(\u001b[0m\u001b[0msubdir\u001b[0m\u001b[0;34m)\u001b[0m\u001b[0;34m\u001b[0m\u001b[0;34m\u001b[0m\u001b[0m\n",
      "\u001b[0;31mFileNotFoundError\u001b[0m: [Errno 2] No such file or directory: 'Datasets/fruits-20/Test'"
     ]
    }
   ],
   "source": [
    "test_datagen = preprocessing.image.ImageDataGenerator()\n",
    "test_generator = test_datagen.flow_from_directory(\n",
    "    '/home/lucas/Downloads/fruits-20/Test',\n",
    "    batch_size=1,\n",
    "    color_mode = 'rgb',    \n",
    "    target_size=(50, 50))"
   ]
  },
  {
   "cell_type": "code",
   "execution_count": 27,
   "metadata": {
    "id": "R-oBAzcAgzwL"
   },
   "outputs": [
    {
     "name": "stdout",
     "output_type": "stream",
     "text": [
      "[0.1861829161643982, 0.9514310359954834]\n"
     ]
    }
   ],
   "source": [
    "scores = model.generator(test_generator)   \n",
    "print(scores)"
   ]
  },
  {
   "cell_type": "code",
   "execution_count": 28,
   "metadata": {
    "id": "2uDyTaiCg0-H"
   },
   "outputs": [
    {
     "name": "stdout",
     "output_type": "stream",
     "text": [
      "[[6.4935813e-12 2.2160298e-06 2.3492525e-14 ... 5.8744313e-13\n",
      "  2.2347451e-09 2.6689265e-13]\n",
      " [2.2605972e-03 2.3137174e-09 1.1210396e-11 ... 3.3724408e-17\n",
      "  6.9491897e-09 2.4788523e-07]\n",
      " [2.7992017e-24 1.2154361e-22 2.0476210e-15 ... 2.0829258e-35\n",
      "  1.9482001e-27 1.2892619e-12]\n",
      " ...\n",
      " [8.7613389e-12 6.8597357e-11 3.3574787e-13 ... 5.2053375e-12\n",
      "  3.4838302e-12 9.5005248e-14]\n",
      " [9.3929434e-11 1.3828390e-09 7.5838349e-11 ... 4.1652601e-09\n",
      "  3.2517922e-10 3.4044120e-10]\n",
      " [3.1399122e-06 6.2503687e-09 1.2298299e-12 ... 1.5584097e-19\n",
      "  7.8275775e-11 3.6571706e-07]]\n"
     ]
    }
   ],
   "source": [
    "predictions = model.predict(test_generator)\n",
    "print(predictions)"
   ]
  },
  {
   "cell_type": "code",
   "execution_count": 29,
   "metadata": {},
   "outputs": [
    {
     "data": {
      "image/png": "[encoded data removed]",
      "text/plain": [
       "<Figure size 432x288 with 1 Axes>"
      ]
     },
     "metadata": {
      "needs_background": "light"
     },
     "output_type": "display_data"
    }
   ],
   "source": [
    "fileimg = r'/home/lucas/Downloads/fruits-20/Apple Red 3/4_100.jpg'\n",
    "\n",
    "img = load_img(fileimg , color_mode = \"rgb\", target_size=(50, 50))\n",
    "\n",
    "#\n",
    "x = img_to_array(img)\n",
    "\n",
    "plt.imshow(x[:,:,0])\n",
    "plt.show()"
   ]
  },
  {
   "cell_type": "code",
   "execution_count": 30,
   "metadata": {},
   "outputs": [
    {
     "data": {
      "text/plain": [
       "(50, 50, 3)"
      ]
     },
     "execution_count": 30,
     "metadata": {},
     "output_type": "execute_result"
    }
   ],
   "source": [
    "x.shape"
   ]
  },
  {
   "cell_type": "code",
   "execution_count": 31,
   "metadata": {},
   "outputs": [
    {
     "data": {
      "text/plain": [
       "(1, 50, 50, 3)"
      ]
     },
     "execution_count": 31,
     "metadata": {},
     "output_type": "execute_result"
    }
   ],
   "source": [
    "x = np.expand_dims(x, axis=0)\n",
    "x.shape"
   ]
  },
  {
   "cell_type": "code",
   "execution_count": null,
   "metadata": {},
   "outputs": [],
   "source": [
    "y_pred = model.predict(x)\n",
    "res = np.argmax(y_pred)\n",
    "print(res)\n"
   ]
  },
  {
   "cell_type": "code",
   "execution_count": 35,
   "metadata": {},
   "outputs": [
    {
     "name": "stdout",
     "output_type": "stream",
     "text": [
      "Apple Red 3\n"
     ]
    }
   ],
   "source": [
    "key=list(class_indices.keys())[list(class_indices.values()).index(res)]\n",
    "print(key)"
   ]
  },
  {
   "cell_type": "code",
   "execution_count": null,
   "metadata": {},
   "outputs": [],
   "source": []
  }
 ],
 "metadata": {
  "accelerator": "GPU",
  "colab": {
   "name": "Exemplo CNN Dataset Digitos Reais.ipynb",
   "provenance": []
  },
  "kernelspec": {
   "display_name": "Python 3",
   "language": "python",
   "name": "python3"
  },
  "language_info": {
   "codemirror_mode": {
    "name": "ipython",
    "version": 3
   },
   "file_extension": ".py",
   "mimetype": "text/x-python",
   "name": "python",
   "nbconvert_exporter": "python",
   "pygments_lexer": "ipython3",
   "version": "3.8.8"
  }
 },
 "nbformat": 4,
 "nbformat_minor": 1
}
