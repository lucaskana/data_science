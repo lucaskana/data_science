{
 "cells": [
  {
   "cell_type": "code",
   "execution_count": 8,
   "metadata": {
    "id": "Z-dlXc3p_aEL"
   },
   "outputs": [],
   "source": [
    "import matplotlib.pyplot as plt\n",
    "\n",
    "import tensorflow as tf\n",
    "from tensorflow import keras\n",
    "from tensorflow.keras import layers\n",
    "\n",
    "from tensorflow.keras.models import Sequential\n",
    "from tensorflow.keras.layers import Dense\n",
    "from tensorflow.keras.layers import Dropout\n",
    "from tensorflow.keras.layers import Flatten\n",
    "from tensorflow.keras.layers import Conv2D, MaxPooling2D,AveragePooling2D\n",
    "from tensorflow.keras.preprocessing.image import img_to_array, load_img\n",
    "import numpy as np\n",
    "from tensorflow.keras import preprocessing\n",
    "\n",
    "from tensorflow.keras.callbacks import ModelCheckpoint\n"
   ]
  },
  {
   "cell_type": "code",
   "execution_count": 10,
   "metadata": {
    "colab": {
     "base_uri": "https://localhost:8080/"
    },
    "id": "FLyqlsKVDhUl",
    "outputId": "7eedbdd1-1f9a-4294-b157-7763aff23d91"
   },
   "outputs": [
    {
     "name": "stdout",
     "output_type": "stream",
     "text": [
      "Found 5473 images belonging to 10 classes.\n"
     ]
    }
   ],
   "source": [
    "train_datagen = preprocessing.image.ImageDataGenerator(validation_split=0.20)\n",
    "train_generator = train_datagen.flow_from_directory(\n",
    "    'Datasets/Digitos/Treinamento',\n",
    "    batch_size=200,\n",
    "    color_mode = 'grayscale',\n",
    "    subset='training',\n",
    "    target_size=(30, 30))\n"
   ]
  },
  {
   "cell_type": "code",
   "execution_count": 11,
   "metadata": {
    "colab": {
     "base_uri": "https://localhost:8080/"
    },
    "id": "_BaY8FN6fR6x",
    "outputId": "7dab2d34-8c1d-4dc1-fc38-b1d4aab6d543"
   },
   "outputs": [
    {
     "name": "stdout",
     "output_type": "stream",
     "text": [
      "Found 1363 images belonging to 10 classes.\n"
     ]
    }
   ],
   "source": [
    "valid_generator = train_datagen.flow_from_directory(\n",
    "    'Datasets/Digitos/Treinamento',\n",
    "    batch_size=200,\n",
    "    color_mode = 'grayscale',\n",
    "    subset='validation',\n",
    "    target_size=(30, 30))"
   ]
  },
  {
   "cell_type": "code",
   "execution_count": 12,
   "metadata": {
    "colab": {
     "base_uri": "https://localhost:8080/",
     "height": 266
    },
    "id": "j_lsEBqlfu4a",
    "outputId": "a8da0801-633f-42e3-a6a8-e1b68c316f5e"
   },
   "outputs": [
    {
     "data": {
      "image/png": "[encoded data removed]",
      "text/plain": [
       "<Figure size 432x288 with 1 Axes>"
      ]
     },
     "metadata": {
      "needs_background": "light"
     },
     "output_type": "display_data"
    }
   ],
   "source": [
    "#Visualizando \n",
    "x,y = train_generator.next()\n",
    "for i in range(0,1):\n",
    "    image = x[i]   \n",
    "    plt.imshow(image[:,:,0])\n",
    "    plt.show()"
   ]
  },
  {
   "cell_type": "code",
   "execution_count": 13,
   "metadata": {
    "id": "NbOaV-gQgXpH"
   },
   "outputs": [],
   "source": [
    "num_classes = 10\n",
    "\n",
    "STEP_SIZE_TRAIN=train_generator.n//train_generator.batch_size\n",
    "STEP_SIZE_VALID=valid_generator.n//valid_generator.batch_size\n"
   ]
  },
  {
   "cell_type": "code",
   "execution_count": 14,
   "metadata": {
    "colab": {
     "base_uri": "https://localhost:8080/"
    },
    "id": "kxlPBEOxgZMM",
    "outputId": "af9ea0b1-663d-43a9-d4da-1401e8587256"
   },
   "outputs": [
    {
     "name": "stdout",
     "output_type": "stream",
     "text": [
      "(None, 128)\n",
      "(None, 512)\n",
      "(None, 128)\n",
      "(None, 64)\n",
      "(None, 10)\n"
     ]
    }
   ],
   "source": [
    "# Cria o modelo\n",
    "model = Sequential()\n",
    "#Convolução 2D com função de ativação Rectified Linear Units 32 kernels/Pesos (filtros) \n",
    "model.add(Conv2D(32, (7, 7), input_shape=(30,30,1), activation='relu')) #, data_format='channels_first'\n",
    "#Camada de Pooling \t    \n",
    "model.add(AveragePooling2D(pool_size=(2, 2)))\n",
    "\t\n",
    "#Convolução 2D com função de ativação Rectified Linear Units 64 kernels/Pesos (filtros) \n",
    "model.add(Conv2D(64, (5, 5), activation='relu'))\n",
    "#Camada de Pooling \t\n",
    "model.add(AveragePooling2D(pool_size=(2, 2)))\n",
    "\n",
    "#Convolução 2D com função de ativação Rectified Linear Units 64 kernels/Pesos (filtros) \n",
    "model.add(Conv2D(128, (3, 3), activation='relu'))\n",
    "#Camada de Pooling \t\n",
    "model.add(AveragePooling2D(pool_size=(2, 2)))\n",
    "\n",
    "#Remove 30% dos dados de entrada aleatoriamente \n",
    "model.add(Dropout(0.3))\n",
    "#Converte o conjunto de imagens e um vetor unidimensional para a entrada da rede neural totalmente conectada\n",
    "model.add(Flatten())\n",
    "\n",
    "print( model.output_shape)\n",
    "model.add(Dense(512, activation='relu'))\n",
    "print( model.output_shape)\n",
    "model.add(Dense(128, activation='relu'))\n",
    "print( model.output_shape)\n",
    "model.add(Dense(64, activation='relu'))\n",
    "print( model.output_shape)\n",
    "model.add(Dense(num_classes, activation='softmax'))\n",
    "print( model.output_shape)\n"
   ]
  },
  {
   "cell_type": "code",
   "execution_count": 15,
   "metadata": {
    "id": "9Zo-NEaegdNh"
   },
   "outputs": [],
   "source": [
    "model.compile(loss='categorical_crossentropy', optimizer='adam', metrics=['accuracy'])"
   ]
  },
  {
   "cell_type": "code",
   "execution_count": 16,
   "metadata": {
    "colab": {
     "base_uri": "https://localhost:8080/",
     "height": 1000
    },
    "id": "az7y6EhkgiOe",
    "outputId": "d5e9a9e6-a1f1-4a72-c296-0edbe366914f"
   },
   "outputs": [
    {
     "name": "stdout",
     "output_type": "stream",
     "text": [
      "Model: \"sequential\"\n",
      "_________________________________________________________________\n",
      "Layer (type)                 Output Shape              Param #   \n",
      "=================================================================\n",
      "conv2d (Conv2D)              (None, 24, 24, 32)        1600      \n",
      "_________________________________________________________________\n",
      "average_pooling2d (AveragePo (None, 12, 12, 32)        0         \n",
      "_________________________________________________________________\n",
      "conv2d_1 (Conv2D)            (None, 8, 8, 64)          51264     \n",
      "_________________________________________________________________\n",
      "average_pooling2d_1 (Average (None, 4, 4, 64)          0         \n",
      "_________________________________________________________________\n",
      "conv2d_2 (Conv2D)            (None, 2, 2, 128)         73856     \n",
      "_________________________________________________________________\n",
      "average_pooling2d_2 (Average (None, 1, 1, 128)         0         \n",
      "_________________________________________________________________\n",
      "dropout (Dropout)            (None, 1, 1, 128)         0         \n",
      "_________________________________________________________________\n",
      "flatten (Flatten)            (None, 128)               0         \n",
      "_________________________________________________________________\n",
      "dense (Dense)                (None, 512)               66048     \n",
      "_________________________________________________________________\n",
      "dense_1 (Dense)              (None, 128)               65664     \n",
      "_________________________________________________________________\n",
      "dense_2 (Dense)              (None, 64)                8256      \n",
      "_________________________________________________________________\n",
      "dense_3 (Dense)              (None, 10)                650       \n",
      "=================================================================\n",
      "Total params: 267,338\n",
      "Trainable params: 267,338\n",
      "Non-trainable params: 0\n",
      "_________________________________________________________________\n"
     ]
    },
    {
     "name": "stderr",
     "output_type": "stream",
     "text": [
      "C:\\Users\\felip\\Anaconda3\\envs\\fiap_tensorflow\\lib\\site-packages\\tensorflow\\python\\keras\\engine\\training.py:1940: UserWarning: `Model.fit_generator` is deprecated and will be removed in a future version. Please use `Model.fit`, which supports generators.\n",
      "  warnings.warn('`Model.fit_generator` is deprecated and '\n"
     ]
    },
    {
     "name": "stdout",
     "output_type": "stream",
     "text": [
      "Epoch 1/10\n",
      "27/27 [==============================] - 15s 219ms/step - loss: 1.3427 - accuracy: 0.5797 - val_loss: 0.2358 - val_accuracy: 0.9175\n",
      "\n",
      "Epoch 00001: val_accuracy improved from -inf to 0.91750, saving model to model_best.h5\n",
      "Epoch 2/10\n",
      "27/27 [==============================] - 3s 102ms/step - loss: 0.2239 - accuracy: 0.9213 - val_loss: 0.0315 - val_accuracy: 0.9933\n",
      "\n",
      "Epoch 00002: val_accuracy improved from 0.91750 to 0.99333, saving model to model_best.h5\n",
      "Epoch 3/10\n",
      "27/27 [==============================] - 3s 96ms/step - loss: 0.0866 - accuracy: 0.9731 - val_loss: 0.0356 - val_accuracy: 0.9908\n",
      "\n",
      "Epoch 00003: val_accuracy did not improve from 0.99333\n",
      "Epoch 4/10\n",
      "27/27 [==============================] - 2s 86ms/step - loss: 0.0561 - accuracy: 0.9835 - val_loss: 0.0146 - val_accuracy: 0.9933 0s - loss: 0.0591 - accuracy: 0.98 - ETA: 0s - loss: 0.0588 - accuracy: 0.98 - ETA: 0s - loss: 0.0584 - accuracy: \n",
      "\n",
      "Epoch 00004: val_accuracy did not improve from 0.99333\n",
      "Epoch 5/10\n",
      "27/27 [==============================] - 2s 83ms/step - loss: 0.0420 - accuracy: 0.9879 - val_loss: 0.0164 - val_accuracy: 0.9933- loss: 0.0314 - accuracy:  - ETA: 0s - loss: 0.0354 - accuracy: 0.98 - ETA: 0s - loss: 0.0371 - accura - ETA: 0s - loss: 0.0389 - accuracy: 0. - ETA: 0s - loss: 0.0422 - ac\n",
      "\n",
      "Epoch 00005: val_accuracy did not improve from 0.99333\n",
      "Epoch 6/10\n",
      "27/27 [==============================] - 2s 83ms/step - loss: 0.0290 - accuracy: 0.9911 - val_loss: 0.0123 - val_accuracy: 0.9958- loss: 0.0279 - accu\n",
      "\n",
      "Epoch 00006: val_accuracy improved from 0.99333 to 0.99583, saving model to model_best.h5\n",
      "Epoch 7/10\n",
      "27/27 [==============================] - 2s 90ms/step - loss: 0.0294 - accuracy: 0.9909 - val_loss: 0.0129 - val_accuracy: 0.9950\n",
      "\n",
      "Epoch 00007: val_accuracy did not improve from 0.99583\n",
      "Epoch 8/10\n",
      "27/27 [==============================] - 3s 96ms/step - loss: 0.0185 - accuracy: 0.9947 - val_loss: 0.0111 - val_accuracy: 0.9967\n",
      "\n",
      "Epoch 00008: val_accuracy improved from 0.99583 to 0.99667, saving model to model_best.h5\n",
      "Epoch 9/10\n",
      "27/27 [==============================] - 3s 92ms/step - loss: 0.0142 - accuracy: 0.9949 - val_loss: 0.0240 - val_accuracy: 0.9958 accuracy\n",
      "\n",
      "Epoch 00009: val_accuracy did not improve from 0.99667\n",
      "Epoch 10/10\n",
      "27/27 [==============================] - 2s 83ms/step - loss: 0.0154 - accuracy: 0.9962 - val_loss: 0.0097 - val_accuracy: 0.99580168 - accuracy: 0.99 - ETA: 0s - loss: 0.0165 - accura - ETA: 0s - loss: 0.0154 - accuracy: 0.99\n",
      "\n",
      "Epoch 00010: val_accuracy did not improve from 0.99667\n"
     ]
    },
    {
     "data": {
      "text/plain": [
       "<tensorflow.python.keras.callbacks.History at 0x1ed843ce488>"
      ]
     },
     "execution_count": 16,
     "metadata": {},
     "output_type": "execute_result"
    }
   ],
   "source": [
    "mcp_save = ModelCheckpoint('model_best.h5', monitor='val_accuracy', mode= 'auto', save_weights_only=True, save_best_only=True, verbose =1)\n",
    "#reduce_lr_loss = ReduceLROnPlateau(monitor='val_loss', factor=0.1, patience=7, verbose=1, epsilon=1e-4, mode='min')\n",
    "\n",
    "model.summary()\n",
    "\n",
    "model.fit_generator(train_generator, \n",
    "                    steps_per_epoch=STEP_SIZE_TRAIN,\n",
    "                    validation_data=valid_generator,\n",
    "                    validation_steps=STEP_SIZE_VALID,\n",
    "                    epochs=10, callbacks=[mcp_save])"
   ]
  },
  {
   "cell_type": "code",
   "execution_count": 18,
   "metadata": {
    "id": "k2dFjFKUgpnA"
   },
   "outputs": [
    {
     "name": "stdout",
     "output_type": "stream",
     "text": [
      "Found 74 images belonging to 10 classes.\n"
     ]
    }
   ],
   "source": [
    "test_datagen = preprocessing.image.ImageDataGenerator()\n",
    "test_generator = test_datagen.flow_from_directory(\n",
    "    'Datasets/Digitos/Teste',\n",
    "    batch_size=1,\n",
    "    color_mode = 'grayscale',    \n",
    "    target_size=(30, 30))"
   ]
  },
  {
   "cell_type": "code",
   "execution_count": 19,
   "metadata": {
    "id": "R-oBAzcAgzwL"
   },
   "outputs": [
    {
     "name": "stderr",
     "output_type": "stream",
     "text": [
      "C:\\Users\\felip\\Anaconda3\\envs\\fiap_tensorflow\\lib\\site-packages\\tensorflow\\python\\keras\\engine\\training.py:1973: UserWarning: `Model.evaluate_generator` is deprecated and will be removed in a future version. Please use `Model.evaluate`, which supports generators.\n",
      "  warnings.warn('`Model.evaluate_generator` is deprecated and '\n"
     ]
    },
    {
     "name": "stdout",
     "output_type": "stream",
     "text": [
      "[0.0019264855654910207, 1.0]\n"
     ]
    }
   ],
   "source": [
    "scores = model.evaluate_generator(test_generator)   \n",
    "print(scores)"
   ]
  },
  {
   "cell_type": "code",
   "execution_count": 20,
   "metadata": {
    "id": "2uDyTaiCg0-H"
   },
   "outputs": [
    {
     "name": "stderr",
     "output_type": "stream",
     "text": [
      "C:\\Users\\felip\\Anaconda3\\envs\\fiap_tensorflow\\lib\\site-packages\\tensorflow\\python\\keras\\engine\\training.py:2001: UserWarning: `Model.predict_generator` is deprecated and will be removed in a future version. Please use `Model.predict`, which supports generators.\n",
      "  warnings.warn('`Model.predict_generator` is deprecated and '\n"
     ]
    },
    {
     "name": "stdout",
     "output_type": "stream",
     "text": [
      "[[2.21049163e-07 3.10771986e-09 7.28849585e-08 1.46883699e-13\n",
      "  1.52814011e-11 5.94383306e-15 1.96915728e-09 6.92032742e-08\n",
      "  5.43962960e-06 9.99994159e-01]\n",
      " [2.54330780e-12 1.83870280e-11 9.99999881e-01 1.79297921e-09\n",
      "  1.70474381e-11 8.46823514e-11 9.59021274e-13 1.42333903e-07\n",
      "  1.07614048e-12 3.62409755e-11]\n",
      " [3.56637174e-05 9.98830736e-01 4.23344718e-05 5.34469837e-05\n",
      "  2.31989354e-04 6.70394220e-04 8.31301804e-06 8.65587208e-05\n",
      "  5.40129076e-06 3.51560702e-05]\n",
      " [1.74024166e-07 3.62618666e-05 1.91681981e-09 8.84092697e-06\n",
      "  1.61304370e-09 9.99953270e-01 7.82252627e-08 7.55511394e-07\n",
      "  6.01252282e-07 9.66110980e-13]\n",
      " [1.41036525e-08 4.97547272e-12 8.45915427e-09 1.16859133e-09\n",
      "  8.80251871e-10 1.42815493e-09 6.90170268e-08 8.43469738e-09\n",
      "  9.99999881e-01 3.43241666e-08]\n",
      " [2.77163639e-11 1.00000000e+00 6.56331673e-12 2.53674816e-12\n",
      "  1.81492252e-11 5.13632088e-08 9.76661460e-13 1.22444492e-12\n",
      "  8.81900889e-13 1.63224122e-11]\n",
      " [2.58747633e-07 7.29662771e-12 1.13379950e-09 1.63658566e-11\n",
      "  9.99999166e-01 2.47084087e-09 5.49959850e-07 3.06502827e-12\n",
      "  6.01860473e-09 4.91794591e-11]\n",
      " [7.08616244e-06 9.99525189e-01 2.68799249e-05 4.58153881e-05\n",
      "  2.80374134e-05 1.77386537e-04 2.01044782e-06 1.66209109e-04\n",
      "  2.61950117e-06 1.88512568e-05]\n",
      " [9.99701641e-11 4.51485853e-08 1.14133648e-07 9.99996543e-01\n",
      "  5.63747562e-13 2.72047396e-06 2.35014053e-08 2.45382836e-07\n",
      "  4.06459009e-07 3.08113673e-10]\n",
      " [1.86671161e-06 3.28260121e-08 3.71077067e-06 4.71813560e-12\n",
      "  9.79769044e-10 5.87801997e-13 3.46086075e-08 1.62114611e-05\n",
      "  5.22970322e-06 9.99972939e-01]\n",
      " [9.99975085e-01 2.18449370e-10 7.59200168e-12 8.38808596e-14\n",
      "  1.77396480e-08 1.48974144e-09 2.48843680e-05 6.89642083e-13\n",
      "  4.23164295e-08 3.75299271e-11]\n",
      " [3.98105101e-07 2.29019515e-05 2.27399639e-07 3.65810993e-04\n",
      "  1.22256365e-08 9.99522924e-01 4.31606304e-06 4.98042609e-05\n",
      "  3.35744953e-05 3.22496946e-10]\n",
      " [1.43561761e-15 1.00000000e+00 9.48262450e-17 2.50936952e-17\n",
      "  5.73722097e-15 5.66740752e-11 1.03071957e-17 9.84755528e-16\n",
      "  1.70093877e-17 2.86062508e-16]\n",
      " [4.54367864e-07 2.69768030e-08 6.22629841e-08 2.78335975e-13\n",
      "  6.69778510e-10 1.97500335e-14 9.15858145e-09 7.98323470e-08\n",
      "  3.38560710e-07 9.99999046e-01]\n",
      " [5.57585297e-11 6.63336586e-09 1.85931015e-07 9.99950767e-01\n",
      "  4.35651135e-13 4.27945088e-05 4.78211973e-07 2.99300211e-07\n",
      "  5.36356310e-06 3.39586359e-10]\n",
      " [3.38209083e-12 1.83320703e-09 8.65736092e-06 6.91370250e-09\n",
      "  1.05570419e-09 8.98065622e-10 9.61208180e-09 9.99990582e-01\n",
      "  5.62971714e-09 7.58801264e-07]\n",
      " [5.13193314e-04 9.63842200e-11 3.38716077e-08 4.69128736e-10\n",
      "  2.07220499e-08 1.07388383e-08 8.37755670e-06 3.21181481e-08\n",
      "  9.99478161e-01 2.40607648e-07]\n",
      " [9.99999523e-01 4.47432282e-12 1.21617048e-11 1.99946214e-15\n",
      "  5.85345106e-09 6.38921598e-12 2.86567996e-07 4.62353246e-13\n",
      "  2.35940988e-07 7.00635105e-11]\n",
      " [2.26147256e-09 2.13319352e-14 2.79734902e-09 7.50658979e-11\n",
      "  1.44421376e-11 2.21313193e-11 1.82270526e-07 1.57091257e-10\n",
      "  9.99999762e-01 1.79601500e-09]\n",
      " [3.77381182e-10 2.81474361e-13 1.66354430e-09 5.09037978e-10\n",
      "  2.25396490e-11 3.66444264e-10 1.04640687e-08 2.37497200e-09\n",
      "  1.00000000e+00 8.63259775e-09]\n",
      " [5.75190344e-15 1.00000000e+00 7.16915028e-16 1.07599872e-16\n",
      "  4.54307341e-14 1.08888919e-10 1.00259683e-16 9.82223726e-15\n",
      "  1.38784284e-16 3.87551709e-15]\n",
      " [1.51759878e-06 1.30133894e-05 6.28207999e-05 9.97630954e-01\n",
      "  1.14020239e-07 1.69882074e-03 1.86933816e-04 1.96423716e-04\n",
      "  2.08404948e-04 1.04439698e-06]\n",
      " [1.80093961e-11 1.00000000e+00 1.72326126e-14 6.83900161e-15\n",
      "  1.98989505e-11 3.90580794e-08 2.47420848e-14 5.13218482e-13\n",
      "  1.64772940e-13 1.09146999e-13]\n",
      " [1.04684250e-06 7.33971639e-09 9.97821808e-01 9.79736342e-06\n",
      "  1.04826120e-06 8.14804537e-07 3.90764108e-05 1.14195410e-03\n",
      "  6.77161792e-04 3.07380629e-04]\n",
      " [9.99984384e-01 4.79566343e-12 1.52412624e-10 9.57831887e-15\n",
      "  5.91617796e-11 9.64025110e-11 1.46564659e-07 5.78314089e-12\n",
      "  1.54630488e-05 4.03172357e-10]\n",
      " [6.92326529e-10 9.64684821e-13 6.48311360e-09 1.81012844e-10\n",
      "  2.66840855e-10 2.72443283e-11 3.42323787e-08 2.42048298e-10\n",
      "  1.00000000e+00 1.37354625e-08]\n",
      " [9.99998450e-01 2.32809971e-09 2.79055445e-10 1.02067280e-12\n",
      "  8.59632099e-09 1.62035385e-09 9.40174118e-07 3.68008957e-11\n",
      "  6.40894882e-07 2.37227349e-10]\n",
      " [2.67201585e-07 3.58093655e-13 2.54596279e-12 3.90575506e-12\n",
      "  1.48388125e-11 5.99811045e-08 9.99998093e-01 2.40723321e-13\n",
      "  1.51680297e-06 4.99582563e-11]\n",
      " [2.06123729e-11 5.05687119e-08 1.03445664e-07 9.99883294e-01\n",
      "  3.24003953e-13 1.15286217e-04 1.40592009e-08 6.30166568e-08\n",
      "  1.22061942e-06 3.03953841e-11]\n",
      " [1.62614748e-11 1.00000000e+00 1.20143196e-14 5.42017611e-15\n",
      "  1.75083212e-11 4.21179465e-08 2.93211534e-14 4.81278916e-13\n",
      "  2.09798907e-13 1.22875139e-13]\n",
      " [5.25335054e-07 1.45204582e-09 3.56595410e-06 2.18063789e-07\n",
      "  1.86467915e-07 9.59726449e-08 2.07155263e-05 8.44851655e-08\n",
      "  9.99973178e-01 1.45547403e-06]\n",
      " [2.28247541e-06 1.46509356e-12 2.46193636e-13 6.03995044e-13\n",
      "  1.15815246e-10 2.99316127e-08 9.99997735e-01 6.82116479e-15\n",
      "  3.40925936e-08 3.45786663e-11]\n",
      " [2.42320761e-18 2.05335461e-15 2.92506241e-09 1.78939532e-13\n",
      "  9.43510000e-14 5.69776617e-15 9.50158138e-13 1.00000000e+00\n",
      "  9.71473183e-15 5.84297107e-12]\n",
      " [2.44613163e-16 1.00000000e+00 9.46517390e-16 1.34646348e-15\n",
      "  1.21600156e-15 8.29205177e-11 4.41137770e-17 2.09456425e-15\n",
      "  1.67103305e-17 1.02762302e-15]\n",
      " [2.57017660e-07 4.58719937e-11 5.63368232e-08 4.45470327e-09\n",
      "  8.27316526e-09 1.09269118e-08 9.18345177e-06 7.42599626e-09\n",
      "  9.99990344e-01 9.62066835e-08]\n",
      " [8.41955228e-10 3.80457664e-07 2.65739218e-04 8.12710005e-06\n",
      "  1.91447199e-07 5.41720055e-07 3.86896318e-07 9.99721467e-01\n",
      "  2.14760036e-07 3.00935085e-06]\n",
      " [6.27879953e-12 4.85283702e-22 1.10128445e-23 2.23485430e-23\n",
      "  4.24832630e-16 7.59464140e-15 1.00000000e+00 3.97981467e-26\n",
      "  1.08886619e-14 6.81824946e-20]\n",
      " [6.47831433e-09 6.27300252e-12 8.18386496e-08 5.98172534e-08\n",
      "  2.26446328e-09 1.38598367e-07 1.54522404e-05 2.72940301e-08\n",
      "  9.99984264e-01 1.07209397e-08]\n",
      " [1.40794223e-14 2.66082017e-14 1.00000000e+00 4.17416665e-12\n",
      "  1.79439377e-15 2.17927185e-13 2.22150908e-16 8.23812199e-11\n",
      "  5.06738858e-15 3.71026343e-13]\n",
      " [1.64218534e-06 2.53903272e-05 9.80350094e-08 6.84693368e-05\n",
      "  2.87076549e-08 9.99830365e-01 1.76853803e-06 2.89002855e-05\n",
      "  4.33645291e-05 1.96306665e-10]\n",
      " [6.77309458e-07 1.06151987e-09 3.07990500e-09 5.77196735e-10\n",
      "  9.99996781e-01 1.18735827e-07 2.33416176e-06 2.05486933e-10\n",
      "  3.44279201e-08 6.65720534e-10]\n",
      " [1.18509263e-06 8.83000612e-05 4.81742291e-08 6.87246866e-05\n",
      "  8.88728380e-09 9.99826849e-01 1.81118509e-07 1.10521742e-05\n",
      "  3.66429049e-06 2.55662193e-11]\n",
      " [2.74363217e-08 1.55122659e-09 9.99967456e-01 4.80424603e-07\n",
      "  5.60383207e-09 1.05267496e-07 2.81454628e-08 1.24964272e-05\n",
      "  1.01547475e-05 9.27587189e-06]\n",
      " [9.99987125e-01 2.20842957e-13 3.91775994e-13 2.42297560e-16\n",
      "  3.51955762e-08 6.49071638e-12 1.28033971e-05 4.15283991e-15\n",
      "  6.25062491e-09 1.30818999e-12]\n",
      " [3.11401323e-18 1.06806221e-14 1.46380863e-09 3.79973559e-13\n",
      "  3.04074230e-13 1.74428309e-14 1.43765848e-12 1.00000000e+00\n",
      "  7.21010030e-15 4.07099831e-12]\n",
      " [5.34679723e-09 1.27582537e-11 1.32380673e-12 1.66978749e-13\n",
      "  1.00000000e+00 4.10831147e-10 1.93379068e-09 1.91956151e-13\n",
      "  3.20961556e-11 4.35209106e-13]\n",
      " [1.37232315e-12 1.35628730e-10 1.00000000e+00 1.21159444e-10\n",
      "  2.34918942e-12 3.31345819e-11 1.05843289e-15 5.09125103e-11\n",
      "  1.48748133e-13 4.35372875e-12]\n",
      " [2.93927342e-02 1.16639851e-04 6.64988824e-04 9.55217274e-08\n",
      "  6.69060273e-06 1.70938949e-06 1.98426114e-05 8.63318128e-05\n",
      "  8.81441776e-03 9.60896492e-01]\n",
      " [1.63087999e-09 2.58369855e-05 4.31238819e-04 9.92120249e-07\n",
      "  6.82977770e-06 1.19295260e-06 7.59503109e-08 9.99527097e-01\n",
      "  1.74051053e-07 6.66460301e-06]\n",
      " [2.77586453e-14 4.19989327e-14 1.00000000e+00 1.10026192e-12\n",
      "  4.06567141e-14 2.48804121e-14 5.24130223e-16 1.14538073e-10\n",
      "  6.98578724e-16 1.51385672e-13]\n",
      " [8.82682076e-16 1.46032205e-25 8.13839908e-27 1.45493968e-25\n",
      "  4.53964182e-22 3.95999450e-17 1.00000000e+00 9.78211491e-30\n",
      "  5.46072314e-17 1.06322446e-22]\n",
      " [5.80646913e-14 6.09363558e-12 1.00000000e+00 2.79946422e-12\n",
      "  4.21729607e-14 4.26594469e-13 1.48668410e-17 2.25565521e-11\n",
      "  5.10368826e-14 1.18957665e-11]\n",
      " [7.06482115e-06 4.19832359e-04 3.11397947e-04 9.24941599e-01\n",
      "  2.62381445e-06 6.92729354e-02 9.47803637e-05 4.00170218e-03\n",
      "  9.44172905e-04 3.87700356e-06]\n",
      " [2.48018694e-09 1.52848036e-12 9.32598443e-09 4.62910071e-10\n",
      "  6.06616979e-10 8.85358523e-11 2.73895289e-08 8.86710927e-10\n",
      "  1.00000000e+00 2.58683084e-08]\n",
      " [6.13170459e-06 2.32956943e-09 5.11365084e-09 1.88527061e-08\n",
      "  4.50240663e-08 3.48495178e-06 9.99984980e-01 3.88626131e-10\n",
      "  5.17456829e-06 2.75648961e-08]\n",
      " [1.80701795e-06 9.99858379e-01 1.58069717e-08 1.78229698e-08\n",
      "  4.04947400e-07 1.39154843e-04 1.49828185e-08 1.26776072e-07\n",
      "  9.83897408e-08 2.24369430e-08]\n",
      " [8.08075446e-15 2.41902201e-12 1.00000000e+00 6.05932925e-12\n",
      "  4.30990997e-14 7.16623538e-13 5.98794102e-18 1.95017908e-11\n",
      "  2.83964280e-15 1.77619502e-13]\n",
      " [9.99983549e-01 2.53909205e-09 6.35783787e-11 1.33384948e-12\n",
      "  1.99755547e-07 2.48017589e-08 1.62147699e-05 3.95725119e-12\n",
      "  2.91041840e-08 4.38129116e-11]\n",
      " [2.16594679e-04 2.00440218e-06 8.18052195e-06 1.10993176e-06\n",
      "  9.99490976e-01 2.83891040e-05 2.37634216e-04 3.25062331e-07\n",
      "  1.23566861e-05 2.46542868e-06]\n",
      " [7.42672569e-07 3.82347935e-07 2.93693887e-07 8.19586288e-10\n",
      "  1.93902299e-08 1.41482687e-10 2.22276822e-06 2.13300382e-07\n",
      "  2.14698259e-04 9.99781430e-01]\n",
      " [9.99716818e-01 1.31844914e-07 1.92197078e-07 4.50258525e-10\n",
      "  1.49852008e-06 3.54380313e-06 1.90282924e-04 3.43342044e-09\n",
      "  8.71932643e-05 2.56149519e-07]\n",
      " [4.65361673e-11 4.20960106e-07 5.24495263e-05 2.41381262e-08\n",
      "  3.82291944e-07 1.91474214e-08 1.07324762e-08 9.99945879e-01\n",
      "  1.04082263e-08 8.15310386e-07]\n",
      " [2.29704725e-07 9.92632754e-10 3.44482117e-07 9.45489563e-13\n",
      "  9.31858323e-12 2.08625062e-14 2.61152566e-09 2.62776950e-07\n",
      "  1.14209952e-05 9.99987721e-01]\n",
      " [5.38014690e-04 2.60870529e-05 3.64232728e-05 1.59932988e-05\n",
      "  9.93795633e-01 4.63050324e-04 4.95383469e-03 5.69140548e-06\n",
      "  1.45602666e-04 1.96999536e-05]\n",
      " [1.95289019e-07 2.44537435e-09 1.15361470e-11 5.02766231e-12\n",
      "  9.99999642e-01 5.07292661e-08 1.20025632e-07 5.07756294e-12\n",
      "  1.19151666e-09 8.23362298e-12]\n",
      " [1.97830036e-06 7.04597142e-06 3.64428931e-09 8.38178948e-07\n",
      "  1.87176372e-08 9.99914885e-01 6.19885031e-05 2.51292334e-07\n",
      "  1.29415666e-05 1.47239984e-10]\n",
      " [4.86530189e-05 5.65441325e-04 4.81898569e-05 5.90535253e-03\n",
      "  3.33280491e-06 9.91843164e-01 1.94360371e-04 1.16195274e-03\n",
      "  2.29360667e-04 2.02166703e-07]\n",
      " [2.18113465e-17 1.47463937e-13 3.78884621e-08 8.62112736e-13\n",
      "  1.47105841e-12 4.80626383e-14 3.23861489e-12 1.00000000e+00\n",
      "  5.49726551e-14 4.87808717e-11]\n",
      " [5.25732639e-06 2.20482637e-08 2.12510622e-06 9.44106425e-12\n",
      "  3.62838676e-10 9.43664851e-13 3.22602460e-08 4.97753831e-07\n",
      "  9.72529015e-05 9.99894738e-01]\n",
      " [5.42830805e-15 2.58399855e-13 1.00000000e+00 1.02592468e-12\n",
      "  4.46137378e-15 1.01736971e-13 1.84678742e-18 1.82720253e-13\n",
      "  6.50027311e-17 3.23474513e-15]\n",
      " [7.52158114e-10 2.13957190e-08 7.40856176e-09 7.92687517e-14\n",
      "  9.26875590e-12 9.58508175e-14 9.57737112e-10 7.24078859e-07\n",
      "  4.97741581e-08 9.99999285e-01]\n",
      " [2.33785395e-05 7.27744864e-10 3.13801374e-10 9.86776438e-10\n",
      "  2.57148329e-08 2.20576408e-06 9.99971747e-01 1.65811045e-11\n",
      "  2.57236411e-06 1.12908616e-08]\n",
      " [7.56863088e-08 1.79156232e-05 1.44976710e-07 8.03578940e-11\n",
      "  2.96204217e-08 1.28239724e-10 1.00036736e-07 1.41019136e-05\n",
      "  2.97599308e-06 9.99964595e-01]\n",
      " [9.99972224e-01 4.10441459e-10 9.24373512e-12 1.65902692e-13\n",
      "  1.05824832e-07 4.06724432e-09 2.76379724e-05 2.43421792e-13\n",
      "  1.55404809e-08 1.98952851e-11]]\n"
     ]
    }
   ],
   "source": [
    "predictions = model.predict_generator(test_generator)\n",
    "print(predictions)"
   ]
  },
  {
   "cell_type": "code",
   "execution_count": 22,
   "metadata": {},
   "outputs": [
    {
     "data": {
      "image/png": "[encoded data removed]",
      "text/plain": [
       "<Figure size 432x288 with 1 Axes>"
      ]
     },
     "metadata": {
      "needs_background": "light"
     },
     "output_type": "display_data"
    }
   ],
   "source": [
    "fileimg = r'D:\\digito_1_Shift.png'\n",
    "\n",
    "img = load_img(fileimg , color_mode = \"grayscale\", target_size=(30, 30))\n",
    "\n",
    "#\n",
    "x = img_to_array(img)\n",
    "\n",
    "plt.imshow(x[:,:,0])\n",
    "plt.show()"
   ]
  },
  {
   "cell_type": "code",
   "execution_count": 23,
   "metadata": {},
   "outputs": [
    {
     "name": "stdout",
     "output_type": "stream",
     "text": [
      "1\n"
     ]
    },
    {
     "name": "stderr",
     "output_type": "stream",
     "text": [
      "C:\\Users\\felip\\Anaconda3\\envs\\fiap_tensorflow\\lib\\site-packages\\tensorflow\\python\\keras\\engine\\sequential.py:430: UserWarning: `model.predict_proba()` is deprecated and will be removed after 2021-01-01. Please use `model.predict()` instead.\n",
      "  warnings.warn('`model.predict_proba()` is deprecated and '\n"
     ]
    }
   ],
   "source": [
    "x = np.expand_dims(x, axis=0)\n",
    "\n",
    "#\n",
    "y_pred = model.predict(x)\n",
    "y_prob = model.predict_proba(x)\n",
    "\n",
    "res = np.argmax(y_pred)\n",
    "print(res)\n"
   ]
  },
  {
   "cell_type": "code",
   "execution_count": null,
   "metadata": {},
   "outputs": [],
   "source": []
  }
 ],
 "metadata": {
  "accelerator": "GPU",
  "colab": {
   "name": "Exemplo CNN Dataset Digitos Reais.ipynb",
   "provenance": []
  },
  "kernelspec": {
   "display_name": "Python 3",
   "language": "python",
   "name": "python3"
  },
  "language_info": {
   "codemirror_mode": {
    "name": "ipython",
    "version": 3
   },
   "file_extension": ".py",
   "mimetype": "text/x-python",
   "name": "python",
   "nbconvert_exporter": "python",
   "pygments_lexer": "ipython3",
   "version": "3.7.10"
  }
 },
 "nbformat": 4,
 "nbformat_minor": 1
}
