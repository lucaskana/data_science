{
  "nbformat": 4,
  "nbformat_minor": 0,
  "metadata": {
    "kernelspec": {
      "display_name": "Python 3",
      "language": "python",
      "name": "python3"
    },
    "language_info": {
      "codemirror_mode": {
        "name": "ipython",
        "version": 3
      },
      "file_extension": ".py",
      "mimetype": "text/x-python",
      "name": "python",
      "nbconvert_exporter": "python",
      "pygments_lexer": "ipython3",
      "version": "3.7.7"
    },
    "colab": {
      "name": "Exemplo Pré-Processamento MLP Dataset Titanic.ipynb",
      "provenance": [],
      "collapsed_sections": [
        "39CqzS5HWP_t"
      ]
    },
    "accelerator": "TPU"
  },
  "cells": [
    {
      "cell_type": "code",
      "metadata": {
        "colab": {
          "base_uri": "https://localhost:8080/"
        },
        "id": "gZRb98LzfPv0",
        "outputId": "658eaf18-a655-4c4b-c80c-465cb08a3762"
      },
      "source": [
        "!pip install pydot"
      ],
      "execution_count": null,
      "outputs": [
        {
          "output_type": "stream",
          "name": "stdout",
          "text": [
            "Requirement already satisfied: pydot in /usr/local/lib/python3.7/dist-packages (1.3.0)\n",
            "Requirement already satisfied: pyparsing>=2.1.4 in /usr/local/lib/python3.7/dist-packages (from pydot) (2.4.7)\n"
          ]
        }
      ]
    },
    {
      "cell_type": "code",
      "metadata": {
        "id": "sR3YY2_lWP-d"
      },
      "source": [
        "import pandas as pd\n",
        "import seaborn as sb\n",
        "import matplotlib.pyplot as plt\n",
        "\n",
        "from sklearn.model_selection import train_test_split\n",
        "from sklearn import metrics \n",
        "from sklearn.preprocessing import StandardScaler, MinMaxScaler\n",
        "\n",
        "\n",
        "from keras.models import Sequential\n",
        "from keras.layers import Dense\n",
        "#necessita do pydot pip install pydot\n",
        "from keras.utils.vis_utils import plot_model\n",
        "import pydot"
      ],
      "execution_count": null,
      "outputs": []
    },
    {
      "cell_type": "markdown",
      "metadata": {
        "id": "-YXXUHQ7WP-s"
      },
      "source": [
        "A primeira coisa que vamos fazer é ler o conjunto de dados usando a função read_csv() dos Pandas. \n",
        "Colocaremos esses dados em um DataFrame do Pandas, chamado \"titanic\", e nomearemos cada uma das colunas."
      ]
    },
    {
      "cell_type": "code",
      "metadata": {
        "id": "opDXxjLkWP-t"
      },
      "source": [
        "url = 'https://raw.githubusercontent.com/BigDataGal/Python-for-Data-Science/master/titanic-train.csv'\n",
        "titanic = pd.read_csv(url)\n",
        "titanic.columns = ['PassengerId','Survived','Pclass','Name','Sex','Age','SibSp','Parch','Ticket','Fare','Cabin','Embarked']\n",
        "titanic.head(10)"
      ],
      "execution_count": null,
      "outputs": []
    },
    {
      "cell_type": "markdown",
      "metadata": {
        "id": "Fwfll6fLWP-3"
      },
      "source": [
        "VARIABLE DESCRIPTIONS:\n",
        "<ol>\n",
        "<li>Survived - Survival (0 = No; 1 = Yes);</li>\n",
        "<li>Pclass - Passenger Class (1 = 1st; 2 = 2nd; 3 = 3rd);</li>\n",
        "<li>Name - Name;</li>\n",
        "<li>Sex - Sex;</li>\n",
        "<li>Age - Age;</li>\n",
        "<li>SibSp - Number of Siblings/Spouses Aboard;</li>\n",
        "<li>Parch - Number of Parents/Children Aboard;</li>\n",
        "<li>Ticket - Ticket Number;</li>\n",
        "<li>Fare - Passenger Fare (British pound);</li>\n",
        "<li>Cabin - Cabin;</li>\n",
        "<li>Embarked - Port of Embarkation (C = Cherbourg; Q = Queenstown; S = Southampton);</li>\n",
        "</ol>\n",
        "\n",
        "Como estamos construindo um modelo para prever a sobrevivência de passageiros do Titanic, nosso alvo será a variável \"Survived\" do dataframe titanic.\n",
        "Para ter certeza de que é uma variável binária, vamos usar a função countplot() do Seaborn."
      ]
    },
    {
      "cell_type": "markdown",
      "metadata": {
        "id": "ki0Jgm90WP-4"
      },
      "source": [
        "Como estamos construindo um modelo para prever a sobrevivência de passageiros do Titanic, nosso alvo será a variável \"Survived\" do dataframe titanic.\n",
        "Para ter certeza de que é uma variável binária, vamos usar a função countplot () do Seaborn."
      ]
    },
    {
      "cell_type": "code",
      "metadata": {
        "scrolled": true,
        "id": "34MGK5ZEWP-5",
        "colab": {
          "base_uri": "https://localhost:8080/",
          "height": 296
        },
        "outputId": "84f42aa5-68a1-4847-bee1-877a25b99eb4"
      },
      "source": [
        "sb.countplot(x='Survived',data=titanic, palette='hls')"
      ],
      "execution_count": null,
      "outputs": [
        {
          "output_type": "execute_result",
          "data": {
            "text/plain": [
              "<matplotlib.axes._subplots.AxesSubplot at 0x7ff83e130450>"
            ]
          },
          "metadata": {},
          "execution_count": 4
        },
        {
          "output_type": "display_data",
          "data": {
            "image/png": "[encoded data removed]",
            "text/plain": [
              "<Figure size 432x288 with 1 Axes>"
            ]
          },
          "metadata": {
            "needs_background": "light"
          }
        }
      ]
    },
    {
      "cell_type": "markdown",
      "metadata": {
        "id": "9KxEyoPGWP-_"
      },
      "source": [
        "### Checking for missing values\n",
        "É fácil checar missing values usando método isnull() com o método sum(), o número retornado condiz com a quantidade True para o teste, ou seja, quantidade de valores nulos nas variaveis"
      ]
    },
    {
      "cell_type": "code",
      "metadata": {
        "id": "o4trtrPAWP_A",
        "colab": {
          "base_uri": "https://localhost:8080/"
        },
        "outputId": "378d7e2d-28a2-4b7f-b4c6-9144decf66a5"
      },
      "source": [
        "titanic.isnull().sum()"
      ],
      "execution_count": null,
      "outputs": [
        {
          "output_type": "execute_result",
          "data": {
            "text/plain": [
              "PassengerId      0\n",
              "Survived         0\n",
              "Pclass           0\n",
              "Name             0\n",
              "Sex              0\n",
              "Age            177\n",
              "SibSp            0\n",
              "Parch            0\n",
              "Ticket           0\n",
              "Fare             0\n",
              "Cabin          687\n",
              "Embarked         2\n",
              "dtype: int64"
            ]
          },
          "metadata": {},
          "execution_count": 5
        }
      ]
    },
    {
      "cell_type": "code",
      "metadata": {
        "id": "T6iW6XuuWP_F",
        "colab": {
          "base_uri": "https://localhost:8080/"
        },
        "outputId": "3b76f67e-3423-4027-c69e-87cac94aa3b6"
      },
      "source": [
        "titanic.info()"
      ],
      "execution_count": null,
      "outputs": [
        {
          "output_type": "stream",
          "name": "stdout",
          "text": [
            "<class 'pandas.core.frame.DataFrame'>\n",
            "RangeIndex: 891 entries, 0 to 890\n",
            "Data columns (total 12 columns):\n",
            " #   Column       Non-Null Count  Dtype  \n",
            "---  ------       --------------  -----  \n",
            " 0   PassengerId  891 non-null    int64  \n",
            " 1   Survived     891 non-null    int64  \n",
            " 2   Pclass       891 non-null    int64  \n",
            " 3   Name         891 non-null    object \n",
            " 4   Sex          891 non-null    object \n",
            " 5   Age          714 non-null    float64\n",
            " 6   SibSp        891 non-null    int64  \n",
            " 7   Parch        891 non-null    int64  \n",
            " 8   Ticket       891 non-null    object \n",
            " 9   Fare         891 non-null    float64\n",
            " 10  Cabin        204 non-null    object \n",
            " 11  Embarked     889 non-null    object \n",
            "dtypes: float64(2), int64(5), object(5)\n",
            "memory usage: 83.7+ KB\n"
          ]
        }
      ]
    },
    {
      "cell_type": "markdown",
      "metadata": {
        "id": "bLxihhoEWP_K"
      },
      "source": [
        "Ok, então existem 891 linhas no dataframe. Cabin é quase todo composto por missing values, então podemos eliminar essa característica! Mas e quanto à idade? A age parece um preditor relevante para a sobrevivência, certo? Nós queremos manter as variáveis, mas tem 177 missing values. Precisamos encontrar uma maneira de nos aproximarmos desses valores em falta!\n",
        "\n",
        "E quanto ao nome de uma pessoa, número do bilhete e número de identificação do passageiro? Eles são irrelavantes para prever a capacidade de sobrevivência. E, como você se lembra, a variável cabine é quase todoa com missing values!!"
      ]
    },
    {
      "cell_type": "code",
      "metadata": {
        "id": "ZxDHLHjFWP_L",
        "colab": {
          "base_uri": "https://localhost:8080/",
          "height": 204
        },
        "outputId": "d5071cac-ddf7-4f3a-9053-b59c24774712"
      },
      "source": [
        "titanic_data = titanic.drop(['PassengerId','Name','Ticket','Cabin'], axis = 1)\n",
        "titanic_data.head()"
      ],
      "execution_count": null,
      "outputs": [
        {
          "output_type": "execute_result",
          "data": {
            "text/html": [
              "<div>\n",
              "<style scoped>\n",
              "    .dataframe tbody tr th:only-of-type {\n",
              "        vertical-align: middle;\n",
              "    }\n",
              "\n",
              "    .dataframe tbody tr th {\n",
              "        vertical-align: top;\n",
              "    }\n",
              "\n",
              "    .dataframe thead th {\n",
              "        text-align: right;\n",
              "    }\n",
              "</style>\n",
              "<table border=\"1\" class=\"dataframe\">\n",
              "  <thead>\n",
              "    <tr style=\"text-align: right;\">\n",
              "      <th></th>\n",
              "      <th>Survived</th>\n",
              "      <th>Pclass</th>\n",
              "      <th>Sex</th>\n",
              "      <th>Age</th>\n",
              "      <th>SibSp</th>\n",
              "      <th>Parch</th>\n",
              "      <th>Fare</th>\n",
              "      <th>Embarked</th>\n",
              "    </tr>\n",
              "  </thead>\n",
              "  <tbody>\n",
              "    <tr>\n",
              "      <th>0</th>\n",
              "      <td>0</td>\n",
              "      <td>3</td>\n",
              "      <td>male</td>\n",
              "      <td>22.0</td>\n",
              "      <td>1</td>\n",
              "      <td>0</td>\n",
              "      <td>7.2500</td>\n",
              "      <td>S</td>\n",
              "    </tr>\n",
              "    <tr>\n",
              "      <th>1</th>\n",
              "      <td>1</td>\n",
              "      <td>1</td>\n",
              "      <td>female</td>\n",
              "      <td>38.0</td>\n",
              "      <td>1</td>\n",
              "      <td>0</td>\n",
              "      <td>71.2833</td>\n",
              "      <td>C</td>\n",
              "    </tr>\n",
              "    <tr>\n",
              "      <th>2</th>\n",
              "      <td>1</td>\n",
              "      <td>3</td>\n",
              "      <td>female</td>\n",
              "      <td>26.0</td>\n",
              "      <td>0</td>\n",
              "      <td>0</td>\n",
              "      <td>7.9250</td>\n",
              "      <td>S</td>\n",
              "    </tr>\n",
              "    <tr>\n",
              "      <th>3</th>\n",
              "      <td>1</td>\n",
              "      <td>1</td>\n",
              "      <td>female</td>\n",
              "      <td>35.0</td>\n",
              "      <td>1</td>\n",
              "      <td>0</td>\n",
              "      <td>53.1000</td>\n",
              "      <td>S</td>\n",
              "    </tr>\n",
              "    <tr>\n",
              "      <th>4</th>\n",
              "      <td>0</td>\n",
              "      <td>3</td>\n",
              "      <td>male</td>\n",
              "      <td>35.0</td>\n",
              "      <td>0</td>\n",
              "      <td>0</td>\n",
              "      <td>8.0500</td>\n",
              "      <td>S</td>\n",
              "    </tr>\n",
              "  </tbody>\n",
              "</table>\n",
              "</div>"
            ],
            "text/plain": [
              "   Survived  Pclass     Sex   Age  SibSp  Parch     Fare Embarked\n",
              "0         0       3    male  22.0      1      0   7.2500        S\n",
              "1         1       1  female  38.0      1      0  71.2833        C\n",
              "2         1       3  female  26.0      0      0   7.9250        S\n",
              "3         1       1  female  35.0      1      0  53.1000        S\n",
              "4         0       3    male  35.0      0      0   8.0500        S"
            ]
          },
          "metadata": {},
          "execution_count": 7
        }
      ]
    },
    {
      "cell_type": "code",
      "metadata": {
        "id": "9KFPMysf5TMF",
        "colab": {
          "base_uri": "https://localhost:8080/"
        },
        "outputId": "a9054564-e52a-4b20-fae3-110f51bab019"
      },
      "source": [
        "titanic_data.isnull().sum()"
      ],
      "execution_count": null,
      "outputs": [
        {
          "output_type": "execute_result",
          "data": {
            "text/plain": [
              "Survived      0\n",
              "Pclass        0\n",
              "Sex           0\n",
              "Age         177\n",
              "SibSp         0\n",
              "Parch         0\n",
              "Fare          0\n",
              "Embarked      2\n",
              "dtype: int64"
            ]
          },
          "metadata": {},
          "execution_count": 8
        }
      ]
    },
    {
      "cell_type": "markdown",
      "metadata": {
        "id": "UNmvL74XWP_R"
      },
      "source": [
        "Agora, o dataframe foi reduzido para apenas variáveis relevantes, mas agora precisamos lidar com os valores ausentes na variável age."
      ]
    },
    {
      "cell_type": "markdown",
      "metadata": {
        "id": "p6PM294iWP_S"
      },
      "source": [
        "### Imputing missing values\n",
        "Vejamos como a idade do passageiro está relacionada à sua classe como passageiro no barco."
      ]
    },
    {
      "cell_type": "code",
      "metadata": {
        "id": "II7SbWCtWP_T",
        "colab": {
          "base_uri": "https://localhost:8080/",
          "height": 296
        },
        "outputId": "e772565c-9841-492f-f1d1-4cfaebc38de4"
      },
      "source": [
        "sb.boxplot(x='Pclass', y='Age', data=titanic_data, palette='hls')"
      ],
      "execution_count": null,
      "outputs": [
        {
          "output_type": "execute_result",
          "data": {
            "text/plain": [
              "<matplotlib.axes._subplots.AxesSubplot at 0x7ff83dba40d0>"
            ]
          },
          "metadata": {},
          "execution_count": 9
        },
        {
          "output_type": "display_data",
          "data": {
            "image/png": "[encoded data removed]",
            "text/plain": [
              "<Figure size 432x288 with 1 Axes>"
            ]
          },
          "metadata": {
            "needs_background": "light"
          }
        }
      ]
    },
    {
      "cell_type": "markdown",
      "metadata": {
        "id": "XtyEMd0dWP_X"
      },
      "source": [
        "Falando mais ou menos, poderíamos dizer que quanto mais jovem é um passageiro, mais provável é que ele esteja na 3ª classe. Quanto mais velho for um passageiro, maior a probabilidade de estarem na 1ª classe. Portanto, há um relacionamento frouxo entre essas variáveis. Então, vamos escrever uma função que se aproxime da idade dos passageiros, com base em sua classe. Na caixa, parece que a idade média dos passageiros de 1ª classe é de cerca de 37 anos, os passageiros de 2ª classe são 29 e os passageiros de 3ª classe são 24.\n",
        "\n",
        "Então, vamos escrever uma função que encontre cada valor nulo na variável Age e, para cada nulo, verifique o valor da Pclass e atribua um valor de idade de acordo com a idade média dos passageiros nessa classe."
      ]
    },
    {
      "cell_type": "code",
      "metadata": {
        "id": "SrHf3OwUWP_Y"
      },
      "source": [
        "def age_approx(cols):\n",
        "    Age = cols[0]\n",
        "    Pclass = cols[1]\n",
        "    \n",
        "    if pd.isnull(Age):\n",
        "        if Pclass == 1:\n",
        "            return 37\n",
        "        elif Pclass == 2:\n",
        "            return 29\n",
        "        else:\n",
        "            return 24\n",
        "    else:\n",
        "        return Age"
      ],
      "execution_count": null,
      "outputs": []
    },
    {
      "cell_type": "markdown",
      "metadata": {
        "id": "1cVvuI3CWP_b"
      },
      "source": [
        "Após definir a função, vamos executar apenas para os valores nulos de Age"
      ]
    },
    {
      "cell_type": "code",
      "metadata": {
        "id": "BCRN9frT60pu"
      },
      "source": [
        "titanic_data[['Age', 'Pclass']]"
      ],
      "execution_count": null,
      "outputs": []
    },
    {
      "cell_type": "code",
      "metadata": {
        "id": "eXPxKs217Mgr"
      },
      "source": [
        "titanic_data[['Age', 'Pclass']].apply(age_approx, axis=1)"
      ],
      "execution_count": null,
      "outputs": []
    },
    {
      "cell_type": "code",
      "metadata": {
        "id": "7LUz8wRiWP_c",
        "colab": {
          "base_uri": "https://localhost:8080/"
        },
        "outputId": "f1f40cd7-eb05-4862-afea-1c4fd0d08b23"
      },
      "source": [
        "titanic_data['Age'] = titanic_data[['Age', 'Pclass']].apply(age_approx, axis=1)\n",
        "titanic_data.isnull().sum()"
      ],
      "execution_count": null,
      "outputs": [
        {
          "output_type": "execute_result",
          "data": {
            "text/plain": [
              "Survived    0\n",
              "Pclass      0\n",
              "Sex         0\n",
              "Age         0\n",
              "SibSp       0\n",
              "Parch       0\n",
              "Fare        0\n",
              "Embarked    2\n",
              "dtype: int64"
            ]
          },
          "metadata": {},
          "execution_count": 11
        }
      ]
    },
    {
      "cell_type": "markdown",
      "metadata": {
        "id": "z-c2Fqo7WP_e"
      },
      "source": [
        "Existem ainda 2 valores nulos na variável Embarked. Podemos eliminar esses dois registros sem perder muitas informações importantes do nosso conjunto de dados, então faremos isso."
      ]
    },
    {
      "cell_type": "code",
      "metadata": {
        "id": "-nmYoRLVWP_f",
        "colab": {
          "base_uri": "https://localhost:8080/"
        },
        "outputId": "26a2c4c7-ec2b-420b-b79b-71686d46591b"
      },
      "source": [
        "titanic_data.dropna(inplace=True)\n",
        "titanic_data.isnull().sum()"
      ],
      "execution_count": null,
      "outputs": [
        {
          "output_type": "execute_result",
          "data": {
            "text/plain": [
              "Survived    0\n",
              "Pclass      0\n",
              "Sex         0\n",
              "Age         0\n",
              "SibSp       0\n",
              "Parch       0\n",
              "Fare        0\n",
              "Embarked    0\n",
              "dtype: int64"
            ]
          },
          "metadata": {},
          "execution_count": 12
        }
      ]
    },
    {
      "cell_type": "code",
      "metadata": {
        "id": "mYRMrh4qIWso",
        "colab": {
          "base_uri": "https://localhost:8080/",
          "height": 204
        },
        "outputId": "b1a19587-916c-4b61-d950-623418be4fd4"
      },
      "source": [
        "titanic_data.head()"
      ],
      "execution_count": null,
      "outputs": [
        {
          "output_type": "execute_result",
          "data": {
            "text/html": [
              "<div>\n",
              "<style scoped>\n",
              "    .dataframe tbody tr th:only-of-type {\n",
              "        vertical-align: middle;\n",
              "    }\n",
              "\n",
              "    .dataframe tbody tr th {\n",
              "        vertical-align: top;\n",
              "    }\n",
              "\n",
              "    .dataframe thead th {\n",
              "        text-align: right;\n",
              "    }\n",
              "</style>\n",
              "<table border=\"1\" class=\"dataframe\">\n",
              "  <thead>\n",
              "    <tr style=\"text-align: right;\">\n",
              "      <th></th>\n",
              "      <th>Survived</th>\n",
              "      <th>Pclass</th>\n",
              "      <th>Sex</th>\n",
              "      <th>Age</th>\n",
              "      <th>SibSp</th>\n",
              "      <th>Parch</th>\n",
              "      <th>Fare</th>\n",
              "      <th>Embarked</th>\n",
              "    </tr>\n",
              "  </thead>\n",
              "  <tbody>\n",
              "    <tr>\n",
              "      <th>0</th>\n",
              "      <td>0</td>\n",
              "      <td>3</td>\n",
              "      <td>male</td>\n",
              "      <td>22.0</td>\n",
              "      <td>1</td>\n",
              "      <td>0</td>\n",
              "      <td>7.2500</td>\n",
              "      <td>S</td>\n",
              "    </tr>\n",
              "    <tr>\n",
              "      <th>1</th>\n",
              "      <td>1</td>\n",
              "      <td>1</td>\n",
              "      <td>female</td>\n",
              "      <td>38.0</td>\n",
              "      <td>1</td>\n",
              "      <td>0</td>\n",
              "      <td>71.2833</td>\n",
              "      <td>C</td>\n",
              "    </tr>\n",
              "    <tr>\n",
              "      <th>2</th>\n",
              "      <td>1</td>\n",
              "      <td>3</td>\n",
              "      <td>female</td>\n",
              "      <td>26.0</td>\n",
              "      <td>0</td>\n",
              "      <td>0</td>\n",
              "      <td>7.9250</td>\n",
              "      <td>S</td>\n",
              "    </tr>\n",
              "    <tr>\n",
              "      <th>3</th>\n",
              "      <td>1</td>\n",
              "      <td>1</td>\n",
              "      <td>female</td>\n",
              "      <td>35.0</td>\n",
              "      <td>1</td>\n",
              "      <td>0</td>\n",
              "      <td>53.1000</td>\n",
              "      <td>S</td>\n",
              "    </tr>\n",
              "    <tr>\n",
              "      <th>4</th>\n",
              "      <td>0</td>\n",
              "      <td>3</td>\n",
              "      <td>male</td>\n",
              "      <td>35.0</td>\n",
              "      <td>0</td>\n",
              "      <td>0</td>\n",
              "      <td>8.0500</td>\n",
              "      <td>S</td>\n",
              "    </tr>\n",
              "  </tbody>\n",
              "</table>\n",
              "</div>"
            ],
            "text/plain": [
              "   Survived  Pclass     Sex   Age  SibSp  Parch     Fare Embarked\n",
              "0         0       3    male  22.0      1      0   7.2500        S\n",
              "1         1       1  female  38.0      1      0  71.2833        C\n",
              "2         1       3  female  26.0      0      0   7.9250        S\n",
              "3         1       1  female  35.0      1      0  53.1000        S\n",
              "4         0       3    male  35.0      0      0   8.0500        S"
            ]
          },
          "metadata": {},
          "execution_count": 13
        }
      ]
    },
    {
      "cell_type": "markdown",
      "metadata": {
        "id": "eHfIl52IWP_i"
      },
      "source": [
        "Convertendo variaveis categóricas com one-hot-enconding (via pandas usa-se a função get_dummies)\n",
        "![Exemplo de One Hoting Encoding](https://telescopeinstorage.blob.core.windows.net/datasets/onehotencoding.jpg)"
      ]
    },
    {
      "cell_type": "code",
      "metadata": {
        "id": "bZlcXF758ZN8"
      },
      "source": [
        "aux = pd.get_dummies(titanic_data['Sex'],drop_first=False)\n",
        "aux.head()"
      ],
      "execution_count": null,
      "outputs": []
    },
    {
      "cell_type": "code",
      "metadata": {
        "id": "8s2ArXNMWP_j",
        "colab": {
          "base_uri": "https://localhost:8080/",
          "height": 204
        },
        "outputId": "d557fa2f-6f85-4d18-817a-123bd1c593e0"
      },
      "source": [
        "gender = pd.get_dummies(titanic_data['Sex'],drop_first=True)\n",
        "gender.head()"
      ],
      "execution_count": null,
      "outputs": [
        {
          "output_type": "execute_result",
          "data": {
            "text/html": [
              "<div>\n",
              "<style scoped>\n",
              "    .dataframe tbody tr th:only-of-type {\n",
              "        vertical-align: middle;\n",
              "    }\n",
              "\n",
              "    .dataframe tbody tr th {\n",
              "        vertical-align: top;\n",
              "    }\n",
              "\n",
              "    .dataframe thead th {\n",
              "        text-align: right;\n",
              "    }\n",
              "</style>\n",
              "<table border=\"1\" class=\"dataframe\">\n",
              "  <thead>\n",
              "    <tr style=\"text-align: right;\">\n",
              "      <th></th>\n",
              "      <th>male</th>\n",
              "    </tr>\n",
              "  </thead>\n",
              "  <tbody>\n",
              "    <tr>\n",
              "      <th>0</th>\n",
              "      <td>1</td>\n",
              "    </tr>\n",
              "    <tr>\n",
              "      <th>1</th>\n",
              "      <td>0</td>\n",
              "    </tr>\n",
              "    <tr>\n",
              "      <th>2</th>\n",
              "      <td>0</td>\n",
              "    </tr>\n",
              "    <tr>\n",
              "      <th>3</th>\n",
              "      <td>0</td>\n",
              "    </tr>\n",
              "    <tr>\n",
              "      <th>4</th>\n",
              "      <td>1</td>\n",
              "    </tr>\n",
              "  </tbody>\n",
              "</table>\n",
              "</div>"
            ],
            "text/plain": [
              "   male\n",
              "0     1\n",
              "1     0\n",
              "2     0\n",
              "3     0\n",
              "4     1"
            ]
          },
          "metadata": {},
          "execution_count": 15
        }
      ]
    },
    {
      "cell_type": "code",
      "metadata": {
        "id": "ZjuX0EbcWP_l",
        "colab": {
          "base_uri": "https://localhost:8080/",
          "height": 359
        },
        "outputId": "d2d9e723-b107-46b0-f70a-98ca5b5d0026"
      },
      "source": [
        "embark_location = pd.get_dummies(titanic_data['Embarked'],drop_first=True)\n",
        "embark_location.head(10)"
      ],
      "execution_count": null,
      "outputs": [
        {
          "output_type": "execute_result",
          "data": {
            "text/html": [
              "<div>\n",
              "<style scoped>\n",
              "    .dataframe tbody tr th:only-of-type {\n",
              "        vertical-align: middle;\n",
              "    }\n",
              "\n",
              "    .dataframe tbody tr th {\n",
              "        vertical-align: top;\n",
              "    }\n",
              "\n",
              "    .dataframe thead th {\n",
              "        text-align: right;\n",
              "    }\n",
              "</style>\n",
              "<table border=\"1\" class=\"dataframe\">\n",
              "  <thead>\n",
              "    <tr style=\"text-align: right;\">\n",
              "      <th></th>\n",
              "      <th>Q</th>\n",
              "      <th>S</th>\n",
              "    </tr>\n",
              "  </thead>\n",
              "  <tbody>\n",
              "    <tr>\n",
              "      <th>0</th>\n",
              "      <td>0</td>\n",
              "      <td>1</td>\n",
              "    </tr>\n",
              "    <tr>\n",
              "      <th>1</th>\n",
              "      <td>0</td>\n",
              "      <td>0</td>\n",
              "    </tr>\n",
              "    <tr>\n",
              "      <th>2</th>\n",
              "      <td>0</td>\n",
              "      <td>1</td>\n",
              "    </tr>\n",
              "    <tr>\n",
              "      <th>3</th>\n",
              "      <td>0</td>\n",
              "      <td>1</td>\n",
              "    </tr>\n",
              "    <tr>\n",
              "      <th>4</th>\n",
              "      <td>0</td>\n",
              "      <td>1</td>\n",
              "    </tr>\n",
              "    <tr>\n",
              "      <th>5</th>\n",
              "      <td>1</td>\n",
              "      <td>0</td>\n",
              "    </tr>\n",
              "    <tr>\n",
              "      <th>6</th>\n",
              "      <td>0</td>\n",
              "      <td>1</td>\n",
              "    </tr>\n",
              "    <tr>\n",
              "      <th>7</th>\n",
              "      <td>0</td>\n",
              "      <td>1</td>\n",
              "    </tr>\n",
              "    <tr>\n",
              "      <th>8</th>\n",
              "      <td>0</td>\n",
              "      <td>1</td>\n",
              "    </tr>\n",
              "    <tr>\n",
              "      <th>9</th>\n",
              "      <td>0</td>\n",
              "      <td>0</td>\n",
              "    </tr>\n",
              "  </tbody>\n",
              "</table>\n",
              "</div>"
            ],
            "text/plain": [
              "   Q  S\n",
              "0  0  1\n",
              "1  0  0\n",
              "2  0  1\n",
              "3  0  1\n",
              "4  0  1\n",
              "5  1  0\n",
              "6  0  1\n",
              "7  0  1\n",
              "8  0  1\n",
              "9  0  0"
            ]
          },
          "metadata": {},
          "execution_count": 16
        }
      ]
    },
    {
      "cell_type": "code",
      "metadata": {
        "id": "_-Q58_5jWP_o",
        "colab": {
          "base_uri": "https://localhost:8080/",
          "height": 204
        },
        "outputId": "c94f2baf-d1d6-4219-8040-6140f841f38d"
      },
      "source": [
        "titanic_data.drop(['Sex', 'Embarked'],axis=1,inplace=True)\n",
        "titanic_data.head()"
      ],
      "execution_count": null,
      "outputs": [
        {
          "output_type": "execute_result",
          "data": {
            "text/html": [
              "<div>\n",
              "<style scoped>\n",
              "    .dataframe tbody tr th:only-of-type {\n",
              "        vertical-align: middle;\n",
              "    }\n",
              "\n",
              "    .dataframe tbody tr th {\n",
              "        vertical-align: top;\n",
              "    }\n",
              "\n",
              "    .dataframe thead th {\n",
              "        text-align: right;\n",
              "    }\n",
              "</style>\n",
              "<table border=\"1\" class=\"dataframe\">\n",
              "  <thead>\n",
              "    <tr style=\"text-align: right;\">\n",
              "      <th></th>\n",
              "      <th>Survived</th>\n",
              "      <th>Pclass</th>\n",
              "      <th>Age</th>\n",
              "      <th>SibSp</th>\n",
              "      <th>Parch</th>\n",
              "      <th>Fare</th>\n",
              "    </tr>\n",
              "  </thead>\n",
              "  <tbody>\n",
              "    <tr>\n",
              "      <th>0</th>\n",
              "      <td>0</td>\n",
              "      <td>3</td>\n",
              "      <td>22.0</td>\n",
              "      <td>1</td>\n",
              "      <td>0</td>\n",
              "      <td>7.2500</td>\n",
              "    </tr>\n",
              "    <tr>\n",
              "      <th>1</th>\n",
              "      <td>1</td>\n",
              "      <td>1</td>\n",
              "      <td>38.0</td>\n",
              "      <td>1</td>\n",
              "      <td>0</td>\n",
              "      <td>71.2833</td>\n",
              "    </tr>\n",
              "    <tr>\n",
              "      <th>2</th>\n",
              "      <td>1</td>\n",
              "      <td>3</td>\n",
              "      <td>26.0</td>\n",
              "      <td>0</td>\n",
              "      <td>0</td>\n",
              "      <td>7.9250</td>\n",
              "    </tr>\n",
              "    <tr>\n",
              "      <th>3</th>\n",
              "      <td>1</td>\n",
              "      <td>1</td>\n",
              "      <td>35.0</td>\n",
              "      <td>1</td>\n",
              "      <td>0</td>\n",
              "      <td>53.1000</td>\n",
              "    </tr>\n",
              "    <tr>\n",
              "      <th>4</th>\n",
              "      <td>0</td>\n",
              "      <td>3</td>\n",
              "      <td>35.0</td>\n",
              "      <td>0</td>\n",
              "      <td>0</td>\n",
              "      <td>8.0500</td>\n",
              "    </tr>\n",
              "  </tbody>\n",
              "</table>\n",
              "</div>"
            ],
            "text/plain": [
              "   Survived  Pclass   Age  SibSp  Parch     Fare\n",
              "0         0       3  22.0      1      0   7.2500\n",
              "1         1       1  38.0      1      0  71.2833\n",
              "2         1       3  26.0      0      0   7.9250\n",
              "3         1       1  35.0      1      0  53.1000\n",
              "4         0       3  35.0      0      0   8.0500"
            ]
          },
          "metadata": {},
          "execution_count": 17
        }
      ]
    },
    {
      "cell_type": "code",
      "metadata": {
        "id": "qzzrXSbgWP_q",
        "colab": {
          "base_uri": "https://localhost:8080/",
          "height": 204
        },
        "outputId": "551977b4-d204-426e-d5f1-1edf357fc434"
      },
      "source": [
        "titanic_dmy = pd.concat([titanic_data,gender,embark_location],axis=1)\n",
        "titanic_dmy.head()"
      ],
      "execution_count": null,
      "outputs": [
        {
          "output_type": "execute_result",
          "data": {
            "text/html": [
              "<div>\n",
              "<style scoped>\n",
              "    .dataframe tbody tr th:only-of-type {\n",
              "        vertical-align: middle;\n",
              "    }\n",
              "\n",
              "    .dataframe tbody tr th {\n",
              "        vertical-align: top;\n",
              "    }\n",
              "\n",
              "    .dataframe thead th {\n",
              "        text-align: right;\n",
              "    }\n",
              "</style>\n",
              "<table border=\"1\" class=\"dataframe\">\n",
              "  <thead>\n",
              "    <tr style=\"text-align: right;\">\n",
              "      <th></th>\n",
              "      <th>Survived</th>\n",
              "      <th>Pclass</th>\n",
              "      <th>Age</th>\n",
              "      <th>SibSp</th>\n",
              "      <th>Parch</th>\n",
              "      <th>Fare</th>\n",
              "      <th>male</th>\n",
              "      <th>Q</th>\n",
              "      <th>S</th>\n",
              "    </tr>\n",
              "  </thead>\n",
              "  <tbody>\n",
              "    <tr>\n",
              "      <th>0</th>\n",
              "      <td>0</td>\n",
              "      <td>3</td>\n",
              "      <td>22.0</td>\n",
              "      <td>1</td>\n",
              "      <td>0</td>\n",
              "      <td>7.2500</td>\n",
              "      <td>1</td>\n",
              "      <td>0</td>\n",
              "      <td>1</td>\n",
              "    </tr>\n",
              "    <tr>\n",
              "      <th>1</th>\n",
              "      <td>1</td>\n",
              "      <td>1</td>\n",
              "      <td>38.0</td>\n",
              "      <td>1</td>\n",
              "      <td>0</td>\n",
              "      <td>71.2833</td>\n",
              "      <td>0</td>\n",
              "      <td>0</td>\n",
              "      <td>0</td>\n",
              "    </tr>\n",
              "    <tr>\n",
              "      <th>2</th>\n",
              "      <td>1</td>\n",
              "      <td>3</td>\n",
              "      <td>26.0</td>\n",
              "      <td>0</td>\n",
              "      <td>0</td>\n",
              "      <td>7.9250</td>\n",
              "      <td>0</td>\n",
              "      <td>0</td>\n",
              "      <td>1</td>\n",
              "    </tr>\n",
              "    <tr>\n",
              "      <th>3</th>\n",
              "      <td>1</td>\n",
              "      <td>1</td>\n",
              "      <td>35.0</td>\n",
              "      <td>1</td>\n",
              "      <td>0</td>\n",
              "      <td>53.1000</td>\n",
              "      <td>0</td>\n",
              "      <td>0</td>\n",
              "      <td>1</td>\n",
              "    </tr>\n",
              "    <tr>\n",
              "      <th>4</th>\n",
              "      <td>0</td>\n",
              "      <td>3</td>\n",
              "      <td>35.0</td>\n",
              "      <td>0</td>\n",
              "      <td>0</td>\n",
              "      <td>8.0500</td>\n",
              "      <td>1</td>\n",
              "      <td>0</td>\n",
              "      <td>1</td>\n",
              "    </tr>\n",
              "  </tbody>\n",
              "</table>\n",
              "</div>"
            ],
            "text/plain": [
              "   Survived  Pclass   Age  SibSp  Parch     Fare  male  Q  S\n",
              "0         0       3  22.0      1      0   7.2500     1  0  1\n",
              "1         1       1  38.0      1      0  71.2833     0  0  0\n",
              "2         1       3  26.0      0      0   7.9250     0  0  1\n",
              "3         1       1  35.0      1      0  53.1000     0  0  1\n",
              "4         0       3  35.0      0      0   8.0500     1  0  1"
            ]
          },
          "metadata": {},
          "execution_count": 18
        }
      ]
    },
    {
      "cell_type": "markdown",
      "metadata": {
        "id": "39CqzS5HWP_t"
      },
      "source": [
        "Agora temos um conjunto de dados com todas as variáveis no formato correto!\n",
        "### Validando independencia entre as variáveis"
      ]
    },
    {
      "cell_type": "code",
      "metadata": {
        "id": "sAIHy59gWP_t",
        "colab": {
          "base_uri": "https://localhost:8080/",
          "height": 320
        },
        "outputId": "1c6c7e5f-0401-4be1-f374-5307ea2c8162"
      },
      "source": [
        "sb.heatmap(titanic_dmy.corr())  "
      ],
      "execution_count": null,
      "outputs": [
        {
          "output_type": "execute_result",
          "data": {
            "text/plain": [
              "<matplotlib.axes._subplots.AxesSubplot at 0x7ff83d4c56d0>"
            ]
          },
          "metadata": {},
          "execution_count": 19
        },
        {
          "output_type": "display_data",
          "data": {
            "image/png": "[encoded data removed]",
            "text/plain": [
              "<Figure size 432x288 with 2 Axes>"
            ]
          },
          "metadata": {
            "needs_background": "light"
          }
        }
      ]
    },
    {
      "cell_type": "markdown",
      "metadata": {
        "id": "dlrHxQuGWP_w"
      },
      "source": [
        "Fare e Pclass não sao independentes uma com a outra, entao vamos excluí-las."
      ]
    },
    {
      "cell_type": "code",
      "metadata": {
        "id": "dB5qb9-oWP_x"
      },
      "source": [
        "titanic_dmy.drop(['Pclass'],axis=1,inplace=True)\n",
        "titanic_dmy.head()"
      ],
      "execution_count": null,
      "outputs": []
    },
    {
      "cell_type": "markdown",
      "metadata": {
        "id": "tCQWo4rnWP_0"
      },
      "source": [
        "O mesmo processo vale para as características C e Q"
      ]
    },
    {
      "cell_type": "code",
      "metadata": {
        "id": "gCzEgauLWP_0",
        "colab": {
          "base_uri": "https://localhost:8080/",
          "height": 204
        },
        "outputId": "04d38858-c0be-4a69-e035-f31d66b2ade7"
      },
      "source": [
        "titanic_dmy.drop(['Q'],axis=1,inplace=True)\n",
        "titanic_dmy.head()"
      ],
      "execution_count": null,
      "outputs": [
        {
          "output_type": "execute_result",
          "data": {
            "text/html": [
              "<div>\n",
              "<style scoped>\n",
              "    .dataframe tbody tr th:only-of-type {\n",
              "        vertical-align: middle;\n",
              "    }\n",
              "\n",
              "    .dataframe tbody tr th {\n",
              "        vertical-align: top;\n",
              "    }\n",
              "\n",
              "    .dataframe thead th {\n",
              "        text-align: right;\n",
              "    }\n",
              "</style>\n",
              "<table border=\"1\" class=\"dataframe\">\n",
              "  <thead>\n",
              "    <tr style=\"text-align: right;\">\n",
              "      <th></th>\n",
              "      <th>Survived</th>\n",
              "      <th>Age</th>\n",
              "      <th>SibSp</th>\n",
              "      <th>Parch</th>\n",
              "      <th>Fare</th>\n",
              "      <th>male</th>\n",
              "      <th>S</th>\n",
              "    </tr>\n",
              "  </thead>\n",
              "  <tbody>\n",
              "    <tr>\n",
              "      <th>0</th>\n",
              "      <td>0</td>\n",
              "      <td>22.0</td>\n",
              "      <td>1</td>\n",
              "      <td>0</td>\n",
              "      <td>7.2500</td>\n",
              "      <td>1</td>\n",
              "      <td>1</td>\n",
              "    </tr>\n",
              "    <tr>\n",
              "      <th>1</th>\n",
              "      <td>1</td>\n",
              "      <td>38.0</td>\n",
              "      <td>1</td>\n",
              "      <td>0</td>\n",
              "      <td>71.2833</td>\n",
              "      <td>0</td>\n",
              "      <td>0</td>\n",
              "    </tr>\n",
              "    <tr>\n",
              "      <th>2</th>\n",
              "      <td>1</td>\n",
              "      <td>26.0</td>\n",
              "      <td>0</td>\n",
              "      <td>0</td>\n",
              "      <td>7.9250</td>\n",
              "      <td>0</td>\n",
              "      <td>1</td>\n",
              "    </tr>\n",
              "    <tr>\n",
              "      <th>3</th>\n",
              "      <td>1</td>\n",
              "      <td>35.0</td>\n",
              "      <td>1</td>\n",
              "      <td>0</td>\n",
              "      <td>53.1000</td>\n",
              "      <td>0</td>\n",
              "      <td>1</td>\n",
              "    </tr>\n",
              "    <tr>\n",
              "      <th>4</th>\n",
              "      <td>0</td>\n",
              "      <td>35.0</td>\n",
              "      <td>0</td>\n",
              "      <td>0</td>\n",
              "      <td>8.0500</td>\n",
              "      <td>1</td>\n",
              "      <td>1</td>\n",
              "    </tr>\n",
              "  </tbody>\n",
              "</table>\n",
              "</div>"
            ],
            "text/plain": [
              "   Survived   Age  SibSp  Parch     Fare  male  S\n",
              "0         0  22.0      1      0   7.2500     1  1\n",
              "1         1  38.0      1      0  71.2833     0  0\n",
              "2         1  26.0      0      0   7.9250     0  1\n",
              "3         1  35.0      1      0  53.1000     0  1\n",
              "4         0  35.0      0      0   8.0500     1  1"
            ]
          },
          "metadata": {},
          "execution_count": 21
        }
      ]
    },
    {
      "cell_type": "markdown",
      "metadata": {
        "id": "QP__opAzWP_2"
      },
      "source": [
        "### Agora Vamos Classificar!\n",
        "\n",
        "1º: Separar o conjunto em variavel resposta e características de treinamento"
      ]
    },
    {
      "cell_type": "code",
      "metadata": {
        "id": "NxhTxzZdWP_3"
      },
      "source": [
        "X = titanic_dmy.iloc[:,[1,2,3,4,5,6]].values\n",
        "y = titanic_dmy.iloc[:,0].values"
      ],
      "execution_count": null,
      "outputs": []
    },
    {
      "cell_type": "code",
      "metadata": {
        "id": "wfikeiL2cH_E",
        "colab": {
          "base_uri": "https://localhost:8080/"
        },
        "outputId": "66128ae1-e814-4fdb-83c3-9cad8c42c5d9"
      },
      "source": [
        "X.shape"
      ],
      "execution_count": null,
      "outputs": [
        {
          "output_type": "execute_result",
          "data": {
            "text/plain": [
              "(889, 6)"
            ]
          },
          "metadata": {},
          "execution_count": 24
        }
      ]
    },
    {
      "cell_type": "code",
      "metadata": {
        "id": "r3pTioYwcJuG",
        "colab": {
          "base_uri": "https://localhost:8080/"
        },
        "outputId": "3fd2ac3b-ebdb-4957-be8d-bf95f4092a7a"
      },
      "source": [
        "X"
      ],
      "execution_count": null,
      "outputs": [
        {
          "output_type": "execute_result",
          "data": {
            "text/plain": [
              "array([[22.    ,  1.    ,  0.    ,  7.25  ,  1.    ,  1.    ],\n",
              "       [38.    ,  1.    ,  0.    , 71.2833,  0.    ,  0.    ],\n",
              "       [26.    ,  0.    ,  0.    ,  7.925 ,  0.    ,  1.    ],\n",
              "       ...,\n",
              "       [24.    ,  1.    ,  2.    , 23.45  ,  0.    ,  1.    ],\n",
              "       [26.    ,  0.    ,  0.    , 30.    ,  1.    ,  0.    ],\n",
              "       [32.    ,  0.    ,  0.    ,  7.75  ,  1.    ,  0.    ]])"
            ]
          },
          "metadata": {},
          "execution_count": 25
        }
      ]
    },
    {
      "cell_type": "code",
      "metadata": {
        "id": "ZoeRkHyPh9M7",
        "colab": {
          "base_uri": "https://localhost:8080/"
        },
        "outputId": "e470904d-db75-4583-bcc4-63e9f9e4b375"
      },
      "source": [
        "len(y)"
      ],
      "execution_count": null,
      "outputs": [
        {
          "output_type": "execute_result",
          "data": {
            "text/plain": [
              "889"
            ]
          },
          "metadata": {},
          "execution_count": 26
        }
      ]
    },
    {
      "cell_type": "markdown",
      "metadata": {
        "id": "nQIIbvEUWP_5"
      },
      "source": [
        "Normalização do Conjunto"
      ]
    },
    {
      "cell_type": "code",
      "metadata": {
        "id": "YTaMxJCvWP_6"
      },
      "source": [
        "X = StandardScaler().fit_transform(X)"
      ],
      "execution_count": null,
      "outputs": []
    },
    {
      "cell_type": "code",
      "metadata": {
        "id": "YighZt5_GjAo"
      },
      "source": [
        "X"
      ],
      "execution_count": null,
      "outputs": []
    },
    {
      "cell_type": "markdown",
      "metadata": {
        "id": "CesbZNAFWP_9"
      },
      "source": [
        "Agora dividir em treino e teste (teste com 30%)"
      ]
    },
    {
      "cell_type": "code",
      "metadata": {
        "id": "tiaydEIUWP_-"
      },
      "source": [
        "X_train, X_test, y_train, y_test = train_test_split(X, y, test_size = .3, random_state=25)"
      ],
      "execution_count": null,
      "outputs": []
    },
    {
      "cell_type": "code",
      "metadata": {
        "id": "Pfe9MisAhBha",
        "colab": {
          "base_uri": "https://localhost:8080/"
        },
        "outputId": "8c409c6a-6cee-4ee6-cd70-c29a9ab9c68d"
      },
      "source": [
        "X_train.shape"
      ],
      "execution_count": null,
      "outputs": [
        {
          "output_type": "execute_result",
          "data": {
            "text/plain": [
              "(622, 6)"
            ]
          },
          "metadata": {},
          "execution_count": 30
        }
      ]
    },
    {
      "cell_type": "markdown",
      "metadata": {
        "id": "1CYttvfhWQAA"
      },
      "source": [
        "#### Cria o Modelo de Rede Neural\n",
        "\n",
        "![Modelo de RNA](https://telescopeinstorage.blob.core.windows.net/datasets/RNA_6_16_1.png)"
      ]
    },
    {
      "cell_type": "code",
      "metadata": {
        "id": "SxZQx2XhWQAA"
      },
      "source": [
        "model = Sequential()\n",
        "model.add(Dense(16, input_dim=6, activation='relu'))\n",
        "model.add(Dense(1, activation='sigmoid'))"
      ],
      "execution_count": null,
      "outputs": []
    },
    {
      "cell_type": "markdown",
      "metadata": {
        "id": "qx2yOiyhWQAD"
      },
      "source": [
        "Compila do modelo para certificar que está correto utilizando a função de perda binary_crossentropy, gradiente adam e monitorará a acurácia ao longo do processo de treinamento:"
      ]
    },
    {
      "cell_type": "code",
      "metadata": {
        "id": "ehpn--2qWQAD"
      },
      "source": [
        "model.compile(loss='binary_crossentropy', optimizer='adam', metrics=['accuracy'])"
      ],
      "execution_count": null,
      "outputs": []
    },
    {
      "cell_type": "markdown",
      "metadata": {
        "id": "C4EWvw-dWQAG"
      },
      "source": [
        "Apresenta a configuração da rede:"
      ]
    },
    {
      "cell_type": "code",
      "metadata": {
        "id": "P1CPqaorWQAG"
      },
      "source": [
        "print(model.summary())\n",
        "\n",
        "plot_model(model, to_file='mlp-seq.png', show_shapes=True, show_layer_names=True)"
      ],
      "execution_count": null,
      "outputs": []
    },
    {
      "cell_type": "markdown",
      "metadata": {
        "id": "3jYoxRBdWQAJ"
      },
      "source": [
        "Realiza o treinamento com 100 épocas e o tamanho do batch igual a 10, lembrando que a cada batch o processo de calibragem dos neurônios é realizado novamente (backpropagation). Uma época termina quando todas as amostras de treinamento passam pela rede."
      ]
    },
    {
      "cell_type": "code",
      "metadata": {
        "id": "hWJwBihiWQAJ",
        "colab": {
          "base_uri": "https://localhost:8080/"
        },
        "outputId": "400b1ec6-3cb5-4cf2-c49a-a6caa592e66a"
      },
      "source": [
        "history  = model.fit(X_train, y_train, epochs=100, batch_size=10)"
      ],
      "execution_count": null,
      "outputs": [
        {
          "output_type": "stream",
          "name": "stdout",
          "text": [
            "Epoch 1/100\n",
            "63/63 [==============================] - 1s 1ms/step - loss: 0.6566 - accuracy: 0.6543\n",
            "Epoch 2/100\n",
            "63/63 [==============================] - 0s 1ms/step - loss: 0.6017 - accuracy: 0.7347\n",
            "Epoch 3/100\n",
            "63/63 [==============================] - 0s 1ms/step - loss: 0.5607 - accuracy: 0.7492\n",
            "Epoch 4/100\n",
            "63/63 [==============================] - 0s 1ms/step - loss: 0.5286 - accuracy: 0.7508\n",
            "Epoch 5/100\n",
            "63/63 [==============================] - 0s 1ms/step - loss: 0.5067 - accuracy: 0.7653\n",
            "Epoch 6/100\n",
            "63/63 [==============================] - 0s 1ms/step - loss: 0.4891 - accuracy: 0.7749\n",
            "Epoch 7/100\n",
            "63/63 [==============================] - 0s 1ms/step - loss: 0.4774 - accuracy: 0.7814\n",
            "Epoch 8/100\n",
            "63/63 [==============================] - 0s 1ms/step - loss: 0.4693 - accuracy: 0.7846\n",
            "Epoch 9/100\n",
            "63/63 [==============================] - 0s 1ms/step - loss: 0.4634 - accuracy: 0.7797\n",
            "Epoch 10/100\n",
            "63/63 [==============================] - 0s 1ms/step - loss: 0.4590 - accuracy: 0.7830\n",
            "Epoch 11/100\n",
            "63/63 [==============================] - 0s 1ms/step - loss: 0.4548 - accuracy: 0.7862\n",
            "Epoch 12/100\n",
            "63/63 [==============================] - 0s 1ms/step - loss: 0.4506 - accuracy: 0.7942\n",
            "Epoch 13/100\n",
            "63/63 [==============================] - 0s 1ms/step - loss: 0.4481 - accuracy: 0.7942\n",
            "Epoch 14/100\n",
            "63/63 [==============================] - 0s 1ms/step - loss: 0.4447 - accuracy: 0.8006\n",
            "Epoch 15/100\n",
            "63/63 [==============================] - 0s 1ms/step - loss: 0.4422 - accuracy: 0.8023\n",
            "Epoch 16/100\n",
            "63/63 [==============================] - 0s 1ms/step - loss: 0.4404 - accuracy: 0.8023\n",
            "Epoch 17/100\n",
            "63/63 [==============================] - 0s 1ms/step - loss: 0.4375 - accuracy: 0.8006\n",
            "Epoch 18/100\n",
            "63/63 [==============================] - 0s 1ms/step - loss: 0.4353 - accuracy: 0.8023\n",
            "Epoch 19/100\n",
            "63/63 [==============================] - 0s 1ms/step - loss: 0.4340 - accuracy: 0.8039\n",
            "Epoch 20/100\n",
            "63/63 [==============================] - 0s 1ms/step - loss: 0.4320 - accuracy: 0.8039\n",
            "Epoch 21/100\n",
            "63/63 [==============================] - 0s 1ms/step - loss: 0.4306 - accuracy: 0.8023\n",
            "Epoch 22/100\n",
            "63/63 [==============================] - 0s 1ms/step - loss: 0.4284 - accuracy: 0.8071\n",
            "Epoch 23/100\n",
            "63/63 [==============================] - 0s 1ms/step - loss: 0.4277 - accuracy: 0.8087\n",
            "Epoch 24/100\n",
            "63/63 [==============================] - 0s 1ms/step - loss: 0.4261 - accuracy: 0.8135\n",
            "Epoch 25/100\n",
            "63/63 [==============================] - 0s 1ms/step - loss: 0.4252 - accuracy: 0.8135\n",
            "Epoch 26/100\n",
            "63/63 [==============================] - 0s 1ms/step - loss: 0.4237 - accuracy: 0.8151\n",
            "Epoch 27/100\n",
            "63/63 [==============================] - 0s 1ms/step - loss: 0.4226 - accuracy: 0.8135\n",
            "Epoch 28/100\n",
            "63/63 [==============================] - 0s 1ms/step - loss: 0.4207 - accuracy: 0.8151\n",
            "Epoch 29/100\n",
            "63/63 [==============================] - 0s 2ms/step - loss: 0.4199 - accuracy: 0.8151\n",
            "Epoch 30/100\n",
            "63/63 [==============================] - 0s 1ms/step - loss: 0.4186 - accuracy: 0.8183\n",
            "Epoch 31/100\n",
            "63/63 [==============================] - 0s 1ms/step - loss: 0.4171 - accuracy: 0.8183\n",
            "Epoch 32/100\n",
            "63/63 [==============================] - 0s 1ms/step - loss: 0.4165 - accuracy: 0.8151\n",
            "Epoch 33/100\n",
            "63/63 [==============================] - 0s 1ms/step - loss: 0.4150 - accuracy: 0.8167\n",
            "Epoch 34/100\n",
            "63/63 [==============================] - 0s 1ms/step - loss: 0.4150 - accuracy: 0.8151\n",
            "Epoch 35/100\n",
            "63/63 [==============================] - 0s 1ms/step - loss: 0.4125 - accuracy: 0.8167\n",
            "Epoch 36/100\n",
            "63/63 [==============================] - 0s 1ms/step - loss: 0.4124 - accuracy: 0.8183\n",
            "Epoch 37/100\n",
            "63/63 [==============================] - 0s 1ms/step - loss: 0.4110 - accuracy: 0.8183\n",
            "Epoch 38/100\n",
            "63/63 [==============================] - 0s 1ms/step - loss: 0.4096 - accuracy: 0.8183\n",
            "Epoch 39/100\n",
            "63/63 [==============================] - 0s 1ms/step - loss: 0.4093 - accuracy: 0.8167\n",
            "Epoch 40/100\n",
            "63/63 [==============================] - 0s 1ms/step - loss: 0.4085 - accuracy: 0.8183\n",
            "Epoch 41/100\n",
            "63/63 [==============================] - 0s 1ms/step - loss: 0.4078 - accuracy: 0.8167\n",
            "Epoch 42/100\n",
            "63/63 [==============================] - 0s 1ms/step - loss: 0.4067 - accuracy: 0.8183\n",
            "Epoch 43/100\n",
            "63/63 [==============================] - 0s 1ms/step - loss: 0.4059 - accuracy: 0.8183\n",
            "Epoch 44/100\n",
            "63/63 [==============================] - 0s 1ms/step - loss: 0.4058 - accuracy: 0.8183\n",
            "Epoch 45/100\n",
            "63/63 [==============================] - 0s 1ms/step - loss: 0.4053 - accuracy: 0.8215\n",
            "Epoch 46/100\n",
            "63/63 [==============================] - 0s 1ms/step - loss: 0.4040 - accuracy: 0.8248\n",
            "Epoch 47/100\n",
            "63/63 [==============================] - 0s 1ms/step - loss: 0.4029 - accuracy: 0.8199\n",
            "Epoch 48/100\n",
            "63/63 [==============================] - 0s 1ms/step - loss: 0.4024 - accuracy: 0.8232\n",
            "Epoch 49/100\n",
            "63/63 [==============================] - 0s 1ms/step - loss: 0.4014 - accuracy: 0.8232\n",
            "Epoch 50/100\n",
            "63/63 [==============================] - 0s 2ms/step - loss: 0.4005 - accuracy: 0.8232\n",
            "Epoch 51/100\n",
            "63/63 [==============================] - 0s 1ms/step - loss: 0.4003 - accuracy: 0.8248\n",
            "Epoch 52/100\n",
            "63/63 [==============================] - 0s 1ms/step - loss: 0.4004 - accuracy: 0.8248\n",
            "Epoch 53/100\n",
            "63/63 [==============================] - 0s 1ms/step - loss: 0.3995 - accuracy: 0.8264\n",
            "Epoch 54/100\n",
            "63/63 [==============================] - 0s 1ms/step - loss: 0.3992 - accuracy: 0.8248\n",
            "Epoch 55/100\n",
            "63/63 [==============================] - 0s 1ms/step - loss: 0.3979 - accuracy: 0.8264\n",
            "Epoch 56/100\n",
            "63/63 [==============================] - 0s 1ms/step - loss: 0.3985 - accuracy: 0.8248\n",
            "Epoch 57/100\n",
            "63/63 [==============================] - 0s 1ms/step - loss: 0.3969 - accuracy: 0.8248\n",
            "Epoch 58/100\n",
            "63/63 [==============================] - 0s 1ms/step - loss: 0.3967 - accuracy: 0.8248\n",
            "Epoch 59/100\n",
            "63/63 [==============================] - 0s 1ms/step - loss: 0.3973 - accuracy: 0.8264\n",
            "Epoch 60/100\n",
            "63/63 [==============================] - 0s 1ms/step - loss: 0.3958 - accuracy: 0.8248\n",
            "Epoch 61/100\n",
            "63/63 [==============================] - 0s 1ms/step - loss: 0.3949 - accuracy: 0.8264\n",
            "Epoch 62/100\n",
            "63/63 [==============================] - 0s 1ms/step - loss: 0.3945 - accuracy: 0.8264\n",
            "Epoch 63/100\n",
            "63/63 [==============================] - 0s 1ms/step - loss: 0.3939 - accuracy: 0.8264\n",
            "Epoch 64/100\n",
            "63/63 [==============================] - 0s 1ms/step - loss: 0.3940 - accuracy: 0.8264\n",
            "Epoch 65/100\n",
            "63/63 [==============================] - 0s 1ms/step - loss: 0.3933 - accuracy: 0.8264\n",
            "Epoch 66/100\n",
            "63/63 [==============================] - 0s 1ms/step - loss: 0.3930 - accuracy: 0.8264\n",
            "Epoch 67/100\n",
            "63/63 [==============================] - 0s 1ms/step - loss: 0.3921 - accuracy: 0.8264\n",
            "Epoch 68/100\n",
            "63/63 [==============================] - 0s 1ms/step - loss: 0.3922 - accuracy: 0.8264\n",
            "Epoch 69/100\n",
            "63/63 [==============================] - 0s 1ms/step - loss: 0.3916 - accuracy: 0.8264\n",
            "Epoch 70/100\n",
            "63/63 [==============================] - 0s 1ms/step - loss: 0.3915 - accuracy: 0.8280\n",
            "Epoch 71/100\n",
            "63/63 [==============================] - 0s 1ms/step - loss: 0.3912 - accuracy: 0.8296\n",
            "Epoch 72/100\n",
            "63/63 [==============================] - 0s 1ms/step - loss: 0.3911 - accuracy: 0.8280\n",
            "Epoch 73/100\n",
            "63/63 [==============================] - 0s 1ms/step - loss: 0.3902 - accuracy: 0.8264\n",
            "Epoch 74/100\n",
            "63/63 [==============================] - 0s 1ms/step - loss: 0.3901 - accuracy: 0.8264\n",
            "Epoch 75/100\n",
            "63/63 [==============================] - 0s 1ms/step - loss: 0.3909 - accuracy: 0.8264\n",
            "Epoch 76/100\n",
            "63/63 [==============================] - 0s 1ms/step - loss: 0.3895 - accuracy: 0.8280\n",
            "Epoch 77/100\n",
            "63/63 [==============================] - 0s 1ms/step - loss: 0.3888 - accuracy: 0.8280\n",
            "Epoch 78/100\n",
            "63/63 [==============================] - 0s 1ms/step - loss: 0.3899 - accuracy: 0.8280\n",
            "Epoch 79/100\n",
            "63/63 [==============================] - 0s 1ms/step - loss: 0.3883 - accuracy: 0.8280\n",
            "Epoch 80/100\n",
            "63/63 [==============================] - 0s 1ms/step - loss: 0.3882 - accuracy: 0.8296\n",
            "Epoch 81/100\n",
            "63/63 [==============================] - 0s 1ms/step - loss: 0.3883 - accuracy: 0.8312\n",
            "Epoch 82/100\n",
            "63/63 [==============================] - 0s 1ms/step - loss: 0.3875 - accuracy: 0.8296\n",
            "Epoch 83/100\n",
            "63/63 [==============================] - 0s 2ms/step - loss: 0.3882 - accuracy: 0.8312\n",
            "Epoch 84/100\n",
            "63/63 [==============================] - 0s 1ms/step - loss: 0.3875 - accuracy: 0.8312\n",
            "Epoch 85/100\n",
            "63/63 [==============================] - 0s 1ms/step - loss: 0.3866 - accuracy: 0.8312\n",
            "Epoch 86/100\n",
            "63/63 [==============================] - 0s 1ms/step - loss: 0.3867 - accuracy: 0.8296\n",
            "Epoch 87/100\n",
            "63/63 [==============================] - 0s 1ms/step - loss: 0.3880 - accuracy: 0.8296\n",
            "Epoch 88/100\n",
            "63/63 [==============================] - 0s 2ms/step - loss: 0.3868 - accuracy: 0.8312\n",
            "Epoch 89/100\n",
            "63/63 [==============================] - 0s 1ms/step - loss: 0.3876 - accuracy: 0.8312\n",
            "Epoch 90/100\n",
            "63/63 [==============================] - 0s 1ms/step - loss: 0.3860 - accuracy: 0.8312\n",
            "Epoch 91/100\n",
            "63/63 [==============================] - 0s 1ms/step - loss: 0.3860 - accuracy: 0.8312\n",
            "Epoch 92/100\n",
            "63/63 [==============================] - 0s 1ms/step - loss: 0.3860 - accuracy: 0.8328\n",
            "Epoch 93/100\n",
            "63/63 [==============================] - 0s 2ms/step - loss: 0.3860 - accuracy: 0.8328\n",
            "Epoch 94/100\n",
            "63/63 [==============================] - 0s 1ms/step - loss: 0.3856 - accuracy: 0.8296\n",
            "Epoch 95/100\n",
            "63/63 [==============================] - 0s 1ms/step - loss: 0.3849 - accuracy: 0.8296\n",
            "Epoch 96/100\n",
            "63/63 [==============================] - 0s 2ms/step - loss: 0.3852 - accuracy: 0.8280\n",
            "Epoch 97/100\n",
            "63/63 [==============================] - 0s 1ms/step - loss: 0.3861 - accuracy: 0.8296\n",
            "Epoch 98/100\n",
            "63/63 [==============================] - 0s 1ms/step - loss: 0.3854 - accuracy: 0.8312\n",
            "Epoch 99/100\n",
            "63/63 [==============================] - 0s 1ms/step - loss: 0.3845 - accuracy: 0.8328\n",
            "Epoch 100/100\n",
            "63/63 [==============================] - 0s 1ms/step - loss: 0.3845 - accuracy: 0.8360\n"
          ]
        }
      ]
    },
    {
      "cell_type": "markdown",
      "metadata": {
        "id": "ayw2OMUtWQAL"
      },
      "source": [
        "Faz a plotagem a acurácia de treinamento ao longo das épocas"
      ]
    },
    {
      "cell_type": "code",
      "metadata": {
        "id": "BjT90PJnWQAM",
        "colab": {
          "base_uri": "https://localhost:8080/",
          "height": 295
        },
        "outputId": "e0bbc5a1-8542-4691-c39b-456289513e1d"
      },
      "source": [
        "plt.plot(history.history['accuracy'])\n",
        "plt.title('Model accuracy')\n",
        "plt.ylabel('Accuracy')\n",
        "plt.xlabel('Epoch')\n",
        "plt.legend(['Train', 'Test'], loc='upper left')\n",
        "plt.show()\n"
      ],
      "execution_count": null,
      "outputs": [
        {
          "output_type": "display_data",
          "data": {
            "image/png": "[encoded data removed]",
            "text/plain": [
              "<Figure size 432x288 with 1 Axes>"
            ]
          },
          "metadata": {
            "needs_background": "light"
          }
        }
      ]
    },
    {
      "cell_type": "code",
      "metadata": {
        "id": "llBVenFWijVb",
        "colab": {
          "base_uri": "https://localhost:8080/",
          "height": 295
        },
        "outputId": "7f501449-e6f2-4726-c30c-f55ede3563ef"
      },
      "source": [
        "plt.plot(history.history['loss'])\n",
        "plt.title('Model loss')\n",
        "plt.ylabel('loss')\n",
        "plt.xlabel('Epoch')\n",
        "plt.legend(['Train', 'Test'], loc='upper left')\n",
        "plt.show()"
      ],
      "execution_count": null,
      "outputs": [
        {
          "output_type": "display_data",
          "data": {
            "image/png": "[encoded data removed]",
            "text/plain": [
              "<Figure size 432x288 with 1 Axes>"
            ]
          },
          "metadata": {
            "needs_background": "light"
          }
        }
      ]
    },
    {
      "cell_type": "markdown",
      "metadata": {
        "id": "leNMr062WQAO"
      },
      "source": [
        "Realiza as predições do conjunto de teste obtendo a saída real (numérica) do Neurônio"
      ]
    },
    {
      "cell_type": "code",
      "metadata": {
        "id": "sOSd2WVQWQAO"
      },
      "source": [
        "y_pred_out  = model.predict(X_test)\n",
        "print(y_pred_out)"
      ],
      "execution_count": null,
      "outputs": []
    },
    {
      "cell_type": "markdown",
      "metadata": {
        "id": "_x02SecEWQAR"
      },
      "source": [
        "Realiza as predições do conjunto de teste obtendo a classe do problema:"
      ]
    },
    {
      "cell_type": "code",
      "metadata": {
        "id": "gjv4gdF2nynR"
      },
      "source": [
        "y_test"
      ],
      "execution_count": null,
      "outputs": []
    },
    {
      "cell_type": "code",
      "metadata": {
        "id": "LJmX2DczDGFa"
      },
      "source": [
        "import numpy as np"
      ],
      "execution_count": null,
      "outputs": []
    },
    {
      "cell_type": "code",
      "metadata": {
        "id": "DIa3OHhvWQAS"
      },
      "source": [
        "y_pred_classes = (y_pred_out > 0.5).astype(int) \n",
        "y_pred_classes\n"
      ],
      "execution_count": null,
      "outputs": []
    },
    {
      "cell_type": "code",
      "metadata": {
        "id": "bHBIOoX65jB-"
      },
      "source": [
        "y_test"
      ],
      "execution_count": null,
      "outputs": []
    },
    {
      "cell_type": "markdown",
      "metadata": {
        "id": "CMzal83cWQAU"
      },
      "source": [
        "Avalia o modelo sob o ponto de vista da acurácia no conjunto de teste:"
      ]
    },
    {
      "cell_type": "code",
      "metadata": {
        "id": "B4ER488MWQAV",
        "colab": {
          "base_uri": "https://localhost:8080/"
        },
        "outputId": "93ccd2e7-a1af-4864-b43b-a6d95ba3e8e4"
      },
      "source": [
        "scores = model.evaluate(X_test, y_test)\n",
        "print(\"\\n%s: %.2f%%\" % (model.metrics_names[1], scores[1]*100))"
      ],
      "execution_count": null,
      "outputs": [
        {
          "output_type": "stream",
          "name": "stdout",
          "text": [
            "9/9 [==============================] - 0s 2ms/step - loss: 0.4778 - accuracy: 0.7940\n",
            "\n",
            "accuracy: 79.40%\n"
          ]
        }
      ]
    },
    {
      "cell_type": "code",
      "metadata": {
        "id": "WFV33qJtIuFt",
        "colab": {
          "base_uri": "https://localhost:8080/"
        },
        "outputId": "c9cb7ffe-a233-4d94-9a4f-d48d66c479be"
      },
      "source": [
        "scores"
      ],
      "execution_count": null,
      "outputs": [
        {
          "output_type": "execute_result",
          "data": {
            "text/plain": [
              "[0.4777766466140747, 0.7940074801445007]"
            ]
          },
          "metadata": {},
          "execution_count": 42
        }
      ]
    },
    {
      "cell_type": "code",
      "metadata": {
        "id": "VYaz1n2YWQAX",
        "colab": {
          "base_uri": "https://localhost:8080/"
        },
        "outputId": "4df8a6a7-6c76-4cac-8726-cc149e1a156e"
      },
      "source": [
        "model.metrics_names"
      ],
      "execution_count": null,
      "outputs": [
        {
          "output_type": "execute_result",
          "data": {
            "text/plain": [
              "['loss', 'accuracy']"
            ]
          },
          "metadata": {},
          "execution_count": 43
        }
      ]
    }
  ]
}