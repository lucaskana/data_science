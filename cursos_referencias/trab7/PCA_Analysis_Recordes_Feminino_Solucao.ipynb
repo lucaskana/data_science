{
 "cells": [
  {
   "cell_type": "markdown",
   "id": "aee846d9",
   "metadata": {},
   "source": [
    "## PYTHON JOURNEY MACHINE & DEEP LEARNING\n",
    "### Trabalho prático usando Python\n",
    " \n",
    "### Principal Component Analysis  (PCA)\n",
    "### Dimensionality Reduction"
   ]
  },
  {
   "attachments": {
    "Dic_corrida.png": {
     "image/png": "[encoded data removed]"
    }
   },
   "cell_type": "markdown",
   "id": "379d1ecf",
   "metadata": {},
   "source": [
    "### Exemplo de aplicação da técnica de PCA\n",
    "\n",
    "#### Objetivo: Criar uma segmentação de países utilizando os recordes femininos da modalidade esportiva de corridas. Para o desenvolvimento do modelo será utilizada uma base disponível no site da universidade de Wisconsin através do endereço: http://www.stat.wisc.edu/~rich/JWMULT06dat/T1-9.dat.\n",
    "\n",
    "#### Nesta base temos os recordes femininos internacionais, referência 2005, das seguintes modalidades: 100 metros em segundos, 200 metros em segundos, 400 metros em segundos, 800 metros em minutos, 1.500 metros em minutos, 3.000 metros em minutos e maratona em minutos.\n",
    "\n",
    "#### Dicionário de variáveis\n",
    "\n",
    "![Dic_corrida.png](attachment:Dic_corrida.png)"
   ]
  },
  {
   "cell_type": "code",
   "execution_count": 1,
   "id": "6ed8f9f6",
   "metadata": {},
   "outputs": [],
   "source": [
    "# Importar as bibliotecas\n",
    "import matplotlib.pyplot as plt\n",
    "import pandas as pd\n",
    "import numpy as np\n",
    "import seaborn as sns\n",
    "%matplotlib inline"
   ]
  },
  {
   "cell_type": "code",
   "execution_count": 2,
   "id": "8dca659a",
   "metadata": {},
   "outputs": [],
   "source": [
    "# Importar os dados\n",
    "df = pd.read_csv('Base_Paises.csv', ';')"
   ]
  },
  {
   "cell_type": "code",
   "execution_count": 3,
   "id": "4241d1a4",
   "metadata": {},
   "outputs": [
    {
     "data": {
      "text/html": [
       "<div>\n",
       "<style scoped>\n",
       "    .dataframe tbody tr th:only-of-type {\n",
       "        vertical-align: middle;\n",
       "    }\n",
       "\n",
       "    .dataframe tbody tr th {\n",
       "        vertical-align: top;\n",
       "    }\n",
       "\n",
       "    .dataframe thead th {\n",
       "        text-align: right;\n",
       "    }\n",
       "</style>\n",
       "<table border=\"1\" class=\"dataframe\">\n",
       "  <thead>\n",
       "    <tr style=\"text-align: right;\">\n",
       "      <th></th>\n",
       "      <th>PAIS</th>\n",
       "      <th>p100ms</th>\n",
       "      <th>p200ms</th>\n",
       "      <th>p400ms</th>\n",
       "      <th>p800mm</th>\n",
       "      <th>p1500mm</th>\n",
       "      <th>p3000mm</th>\n",
       "      <th>pmaratm</th>\n",
       "    </tr>\n",
       "  </thead>\n",
       "  <tbody>\n",
       "    <tr>\n",
       "      <th>0</th>\n",
       "      <td>ARG</td>\n",
       "      <td>11.57</td>\n",
       "      <td>22.94</td>\n",
       "      <td>52.50</td>\n",
       "      <td>2.05</td>\n",
       "      <td>4.25</td>\n",
       "      <td>9.19</td>\n",
       "      <td>150.32</td>\n",
       "    </tr>\n",
       "    <tr>\n",
       "      <th>1</th>\n",
       "      <td>AUS</td>\n",
       "      <td>11.12</td>\n",
       "      <td>22.23</td>\n",
       "      <td>48.63</td>\n",
       "      <td>1.98</td>\n",
       "      <td>4.02</td>\n",
       "      <td>8.63</td>\n",
       "      <td>143.51</td>\n",
       "    </tr>\n",
       "    <tr>\n",
       "      <th>2</th>\n",
       "      <td>AUT</td>\n",
       "      <td>11.15</td>\n",
       "      <td>22.70</td>\n",
       "      <td>50.62</td>\n",
       "      <td>1.94</td>\n",
       "      <td>4.05</td>\n",
       "      <td>8.78</td>\n",
       "      <td>154.35</td>\n",
       "    </tr>\n",
       "    <tr>\n",
       "      <th>3</th>\n",
       "      <td>BEL</td>\n",
       "      <td>11.14</td>\n",
       "      <td>22.48</td>\n",
       "      <td>51.45</td>\n",
       "      <td>1.97</td>\n",
       "      <td>4.08</td>\n",
       "      <td>8.82</td>\n",
       "      <td>143.05</td>\n",
       "    </tr>\n",
       "    <tr>\n",
       "      <th>4</th>\n",
       "      <td>BER</td>\n",
       "      <td>11.46</td>\n",
       "      <td>23.05</td>\n",
       "      <td>53.30</td>\n",
       "      <td>2.07</td>\n",
       "      <td>4.29</td>\n",
       "      <td>9.81</td>\n",
       "      <td>174.18</td>\n",
       "    </tr>\n",
       "  </tbody>\n",
       "</table>\n",
       "</div>"
      ],
      "text/plain": [
       "  PAIS  p100ms  p200ms  p400ms  p800mm  p1500mm  p3000mm  pmaratm\n",
       "0  ARG   11.57   22.94   52.50    2.05     4.25     9.19   150.32\n",
       "1  AUS   11.12   22.23   48.63    1.98     4.02     8.63   143.51\n",
       "2  AUT   11.15   22.70   50.62    1.94     4.05     8.78   154.35\n",
       "3  BEL   11.14   22.48   51.45    1.97     4.08     8.82   143.05\n",
       "4  BER   11.46   23.05   53.30    2.07     4.29     9.81   174.18"
      ]
     },
     "execution_count": 3,
     "metadata": {},
     "output_type": "execute_result"
    }
   ],
   "source": [
    "df.head()"
   ]
  },
  {
   "cell_type": "code",
   "execution_count": 4,
   "id": "0a26eb46",
   "metadata": {},
   "outputs": [
    {
     "name": "stdout",
     "output_type": "stream",
     "text": [
      "<class 'pandas.core.frame.DataFrame'>\n",
      "RangeIndex: 54 entries, 0 to 53\n",
      "Data columns (total 8 columns):\n",
      " #   Column   Non-Null Count  Dtype  \n",
      "---  ------   --------------  -----  \n",
      " 0   PAIS     54 non-null     object \n",
      " 1   p100ms   54 non-null     float64\n",
      " 2   p200ms   54 non-null     float64\n",
      " 3   p400ms   54 non-null     float64\n",
      " 4   p800mm   54 non-null     float64\n",
      " 5   p1500mm  54 non-null     float64\n",
      " 6   p3000mm  54 non-null     float64\n",
      " 7   pmaratm  54 non-null     float64\n",
      "dtypes: float64(7), object(1)\n",
      "memory usage: 3.5+ KB\n"
     ]
    }
   ],
   "source": [
    "df.info()"
   ]
  },
  {
   "cell_type": "code",
   "execution_count": 5,
   "id": "df0bfd39",
   "metadata": {},
   "outputs": [
    {
     "data": {
      "text/plain": [
       "PAIS       0\n",
       "p100ms     0\n",
       "p200ms     0\n",
       "p400ms     0\n",
       "p800mm     0\n",
       "p1500mm    0\n",
       "p3000mm    0\n",
       "pmaratm    0\n",
       "dtype: int64"
      ]
     },
     "execution_count": 5,
     "metadata": {},
     "output_type": "execute_result"
    }
   ],
   "source": [
    "df.isna().sum()"
   ]
  },
  {
   "cell_type": "code",
   "execution_count": 7,
   "id": "fae0d1fb",
   "metadata": {},
   "outputs": [
    {
     "data": {
      "text/html": [
       "<div>\n",
       "<style scoped>\n",
       "    .dataframe tbody tr th:only-of-type {\n",
       "        vertical-align: middle;\n",
       "    }\n",
       "\n",
       "    .dataframe tbody tr th {\n",
       "        vertical-align: top;\n",
       "    }\n",
       "\n",
       "    .dataframe thead th {\n",
       "        text-align: right;\n",
       "    }\n",
       "</style>\n",
       "<table border=\"1\" class=\"dataframe\">\n",
       "  <thead>\n",
       "    <tr style=\"text-align: right;\">\n",
       "      <th></th>\n",
       "      <th>p100ms</th>\n",
       "      <th>p200ms</th>\n",
       "      <th>p400ms</th>\n",
       "      <th>p800mm</th>\n",
       "      <th>p1500mm</th>\n",
       "      <th>p3000mm</th>\n",
       "      <th>pmaratm</th>\n",
       "    </tr>\n",
       "  </thead>\n",
       "  <tbody>\n",
       "    <tr>\n",
       "      <th>count</th>\n",
       "      <td>54.00</td>\n",
       "      <td>54.00</td>\n",
       "      <td>54.00</td>\n",
       "      <td>54.00</td>\n",
       "      <td>54.00</td>\n",
       "      <td>54.00</td>\n",
       "      <td>54.00</td>\n",
       "    </tr>\n",
       "    <tr>\n",
       "      <th>mean</th>\n",
       "      <td>11.36</td>\n",
       "      <td>23.12</td>\n",
       "      <td>51.99</td>\n",
       "      <td>2.02</td>\n",
       "      <td>4.19</td>\n",
       "      <td>9.08</td>\n",
       "      <td>153.62</td>\n",
       "    </tr>\n",
       "    <tr>\n",
       "      <th>std</th>\n",
       "      <td>0.39</td>\n",
       "      <td>0.93</td>\n",
       "      <td>2.60</td>\n",
       "      <td>0.09</td>\n",
       "      <td>0.27</td>\n",
       "      <td>0.82</td>\n",
       "      <td>16.44</td>\n",
       "    </tr>\n",
       "    <tr>\n",
       "      <th>min</th>\n",
       "      <td>10.49</td>\n",
       "      <td>21.34</td>\n",
       "      <td>47.60</td>\n",
       "      <td>1.89</td>\n",
       "      <td>3.84</td>\n",
       "      <td>8.10</td>\n",
       "      <td>135.25</td>\n",
       "    </tr>\n",
       "    <tr>\n",
       "      <th>25%</th>\n",
       "      <td>11.12</td>\n",
       "      <td>22.57</td>\n",
       "      <td>49.97</td>\n",
       "      <td>1.97</td>\n",
       "      <td>4.00</td>\n",
       "      <td>8.54</td>\n",
       "      <td>143.48</td>\n",
       "    </tr>\n",
       "    <tr>\n",
       "      <th>50%</th>\n",
       "      <td>11.32</td>\n",
       "      <td>22.98</td>\n",
       "      <td>51.64</td>\n",
       "      <td>2.00</td>\n",
       "      <td>4.10</td>\n",
       "      <td>8.84</td>\n",
       "      <td>148.43</td>\n",
       "    </tr>\n",
       "    <tr>\n",
       "      <th>75%</th>\n",
       "      <td>11.57</td>\n",
       "      <td>23.61</td>\n",
       "      <td>53.12</td>\n",
       "      <td>2.07</td>\n",
       "      <td>4.34</td>\n",
       "      <td>9.32</td>\n",
       "      <td>157.66</td>\n",
       "    </tr>\n",
       "    <tr>\n",
       "      <th>max</th>\n",
       "      <td>12.52</td>\n",
       "      <td>25.91</td>\n",
       "      <td>61.65</td>\n",
       "      <td>2.29</td>\n",
       "      <td>5.42</td>\n",
       "      <td>13.12</td>\n",
       "      <td>221.14</td>\n",
       "    </tr>\n",
       "  </tbody>\n",
       "</table>\n",
       "</div>"
      ],
      "text/plain": [
       "       p100ms  p200ms  p400ms  p800mm  p1500mm  p3000mm  pmaratm\n",
       "count   54.00   54.00   54.00   54.00    54.00    54.00    54.00\n",
       "mean    11.36   23.12   51.99    2.02     4.19     9.08   153.62\n",
       "std      0.39    0.93    2.60    0.09     0.27     0.82    16.44\n",
       "min     10.49   21.34   47.60    1.89     3.84     8.10   135.25\n",
       "25%     11.12   22.57   49.97    1.97     4.00     8.54   143.48\n",
       "50%     11.32   22.98   51.64    2.00     4.10     8.84   148.43\n",
       "75%     11.57   23.61   53.12    2.07     4.34     9.32   157.66\n",
       "max     12.52   25.91   61.65    2.29     5.42    13.12   221.14"
      ]
     },
     "execution_count": 7,
     "metadata": {},
     "output_type": "execute_result"
    }
   ],
   "source": [
    "df.describe().round(2)"
   ]
  },
  {
   "cell_type": "code",
   "execution_count": 8,
   "id": "004a41b9",
   "metadata": {},
   "outputs": [],
   "source": [
    "# Selecionar as variáveis quantitativas\n",
    "var_num = ['p100ms','p200ms','p400ms','p800mm', 'p1500mm','p3000mm','pmaratm']"
   ]
  },
  {
   "cell_type": "code",
   "execution_count": 9,
   "id": "77b76090",
   "metadata": {},
   "outputs": [
    {
     "data": {
      "text/html": [
       "<div>\n",
       "<style scoped>\n",
       "    .dataframe tbody tr th:only-of-type {\n",
       "        vertical-align: middle;\n",
       "    }\n",
       "\n",
       "    .dataframe tbody tr th {\n",
       "        vertical-align: top;\n",
       "    }\n",
       "\n",
       "    .dataframe thead th {\n",
       "        text-align: right;\n",
       "    }\n",
       "</style>\n",
       "<table border=\"1\" class=\"dataframe\">\n",
       "  <thead>\n",
       "    <tr style=\"text-align: right;\">\n",
       "      <th></th>\n",
       "      <th>p100ms</th>\n",
       "      <th>p200ms</th>\n",
       "      <th>p400ms</th>\n",
       "      <th>p800mm</th>\n",
       "      <th>p1500mm</th>\n",
       "      <th>p3000mm</th>\n",
       "      <th>pmaratm</th>\n",
       "    </tr>\n",
       "  </thead>\n",
       "  <tbody>\n",
       "    <tr>\n",
       "      <th>p100ms</th>\n",
       "      <td>1.000000</td>\n",
       "      <td>0.941089</td>\n",
       "      <td>0.870780</td>\n",
       "      <td>0.809176</td>\n",
       "      <td>0.781551</td>\n",
       "      <td>0.727878</td>\n",
       "      <td>0.668960</td>\n",
       "    </tr>\n",
       "    <tr>\n",
       "      <th>p200ms</th>\n",
       "      <td>0.941089</td>\n",
       "      <td>1.000000</td>\n",
       "      <td>0.908810</td>\n",
       "      <td>0.819826</td>\n",
       "      <td>0.801328</td>\n",
       "      <td>0.731855</td>\n",
       "      <td>0.679954</td>\n",
       "    </tr>\n",
       "    <tr>\n",
       "      <th>p400ms</th>\n",
       "      <td>0.870780</td>\n",
       "      <td>0.908810</td>\n",
       "      <td>1.000000</td>\n",
       "      <td>0.805790</td>\n",
       "      <td>0.719800</td>\n",
       "      <td>0.673799</td>\n",
       "      <td>0.676938</td>\n",
       "    </tr>\n",
       "    <tr>\n",
       "      <th>p800mm</th>\n",
       "      <td>0.809176</td>\n",
       "      <td>0.819826</td>\n",
       "      <td>0.805790</td>\n",
       "      <td>1.000000</td>\n",
       "      <td>0.905051</td>\n",
       "      <td>0.866573</td>\n",
       "      <td>0.853990</td>\n",
       "    </tr>\n",
       "    <tr>\n",
       "      <th>p1500mm</th>\n",
       "      <td>0.781551</td>\n",
       "      <td>0.801328</td>\n",
       "      <td>0.719800</td>\n",
       "      <td>0.905051</td>\n",
       "      <td>1.000000</td>\n",
       "      <td>0.973380</td>\n",
       "      <td>0.790557</td>\n",
       "    </tr>\n",
       "    <tr>\n",
       "      <th>p3000mm</th>\n",
       "      <td>0.727878</td>\n",
       "      <td>0.731855</td>\n",
       "      <td>0.673799</td>\n",
       "      <td>0.866573</td>\n",
       "      <td>0.973380</td>\n",
       "      <td>1.000000</td>\n",
       "      <td>0.798730</td>\n",
       "    </tr>\n",
       "    <tr>\n",
       "      <th>pmaratm</th>\n",
       "      <td>0.668960</td>\n",
       "      <td>0.679954</td>\n",
       "      <td>0.676938</td>\n",
       "      <td>0.853990</td>\n",
       "      <td>0.790557</td>\n",
       "      <td>0.798730</td>\n",
       "      <td>1.000000</td>\n",
       "    </tr>\n",
       "  </tbody>\n",
       "</table>\n",
       "</div>"
      ],
      "text/plain": [
       "           p100ms    p200ms    p400ms    p800mm   p1500mm   p3000mm   pmaratm\n",
       "p100ms   1.000000  0.941089  0.870780  0.809176  0.781551  0.727878  0.668960\n",
       "p200ms   0.941089  1.000000  0.908810  0.819826  0.801328  0.731855  0.679954\n",
       "p400ms   0.870780  0.908810  1.000000  0.805790  0.719800  0.673799  0.676938\n",
       "p800mm   0.809176  0.819826  0.805790  1.000000  0.905051  0.866573  0.853990\n",
       "p1500mm  0.781551  0.801328  0.719800  0.905051  1.000000  0.973380  0.790557\n",
       "p3000mm  0.727878  0.731855  0.673799  0.866573  0.973380  1.000000  0.798730\n",
       "pmaratm  0.668960  0.679954  0.676938  0.853990  0.790557  0.798730  1.000000"
      ]
     },
     "execution_count": 9,
     "metadata": {},
     "output_type": "execute_result"
    }
   ],
   "source": [
    "# Matriz de Correlação de Pearson\n",
    "df[var_num].corr(method='pearson')"
   ]
  },
  {
   "cell_type": "code",
   "execution_count": 10,
   "id": "5c43f0ba",
   "metadata": {},
   "outputs": [
    {
     "data": {
      "text/plain": [
       "<AxesSubplot:>"
      ]
     },
     "execution_count": 10,
     "metadata": {},
     "output_type": "execute_result"
    },
    {
     "data": {
      "image/png": "[encoded data removed]",
      "text/plain": [
       "<Figure size 432x288 with 2 Axes>"
      ]
     },
     "metadata": {
      "needs_background": "light"
     },
     "output_type": "display_data"
    }
   ],
   "source": [
    "# Matriz de correlação\n",
    "sns.heatmap(df[var_num].corr(), cmap='coolwarm', annot = True)"
   ]
  },
  {
   "cell_type": "code",
   "execution_count": 16,
   "id": "084f9c67",
   "metadata": {},
   "outputs": [
    {
     "data": {
      "text/plain": [
       "StandardScaler()"
      ]
     },
     "execution_count": 16,
     "metadata": {},
     "output_type": "execute_result"
    }
   ],
   "source": [
    "from sklearn.preprocessing import StandardScaler\n",
    "scaler = StandardScaler()\n",
    "scaler.fit(df[var_num])"
   ]
  },
  {
   "cell_type": "code",
   "execution_count": 17,
   "id": "6cfd4f33",
   "metadata": {},
   "outputs": [],
   "source": [
    "scaled_df = scaler.transform(df[var_num])"
   ]
  },
  {
   "cell_type": "code",
   "execution_count": 18,
   "id": "1657f4d0",
   "metadata": {},
   "outputs": [
    {
     "name": "stdout",
     "output_type": "stream",
     "text": [
      "[[ 5.43553243e-01 -1.93961081e-01  1.98568876e-01  3.20602150e-01\n",
      "   2.24420025e-01  1.35264999e-01 -2.02570569e-01]\n",
      " [-6.09007298e-01 -9.65378910e-01 -1.30548780e+00 -4.92737532e-01\n",
      "  -6.27964291e-01 -5.58025436e-01 -6.20696416e-01]\n",
      " [-5.32169929e-01 -4.54722038e-01 -5.32083979e-01 -9.57503065e-01\n",
      "  -5.16783728e-01 -3.72322641e-01  4.48666067e-02]\n",
      " [-5.57782385e-01 -6.93752914e-01 -2.09508517e-01 -6.08928915e-01\n",
      "  -4.05603165e-01 -3.22801895e-01 -6.48939866e-01]\n",
      " [ 2.61816222e-01 -7.44456433e-02  5.09484984e-01  5.52984916e-01\n",
      "   3.72660776e-01  9.02836551e-01  1.26240487e+00]\n",
      " [-4.80945016e-01 -5.63372436e-01 -5.32083979e-01 -6.08928915e-01\n",
      "  -7.20614760e-02 -5.04377962e-02 -3.81241085e-01]\n",
      " [-9.67581689e-01 -5.41642356e-01 -8.08022025e-01 -6.08928915e-01\n",
      "  -7.02084666e-01 -6.69447113e-01 -3.22912222e-01]\n",
      " [ 7.48452895e-01  7.83892504e-01  6.57170136e-01 -2.60354766e-01\n",
      "   1.13239462e-01  2.21926303e-01 -8.52988554e-02]\n",
      " [-1.45421836e+00 -1.20440979e+00 -8.46886539e-01 -1.07369445e+00\n",
      "  -1.29504767e+00 -1.21417531e+00 -8.73659484e-01]\n",
      " [-1.22370625e-01 -2.15691161e-01 -9.12956212e-01  2.04410767e-01\n",
      "   5.57961714e-01  3.58108353e-01  9.64416011e-02]\n",
      " [ 2.97673661e+00  3.03295575e+00  3.75467187e+00  2.99300396e+00\n",
      "   2.33685072e+00  2.49988059e+00  3.60476920e+00]\n",
      " [ 9.27740090e-01  8.70812822e-01  2.25774035e-01  9.01559065e-01\n",
      "   1.22504509e+00  9.39977110e-01  6.57626659e-01]\n",
      " [-6.85844668e-01 -1.24786995e+00 -1.55422069e+00 -1.53845998e+00\n",
      "  -5.90904103e-01 -2.60900964e-01 -5.17546428e-01]\n",
      " [ 1.59366396e-01  2.62370592e-01  3.61799833e-01 -2.79719996e-02\n",
      "  -2.57362414e-01 -4.58983945e-01 -2.62741396e-01]\n",
      " [ 6.97227982e-01  8.59947782e-01  4.00664346e-01  7.85367682e-01\n",
      "   1.29916547e+00  1.00187804e+00  7.88406109e-01]\n",
      " [-5.83394842e-01 -7.91538272e-01 -7.18633644e-01 -1.44163383e-01\n",
      "  -3.31482790e-01 -4.83744318e-01 -3.45015791e-01]\n",
      " [-1.60789310e+00 -1.22613987e+00 -1.45317295e+00 -9.57503065e-01\n",
      "  -5.90904103e-01 -5.45645249e-01 -3.28438115e-01]\n",
      " [-1.40299345e+00 -1.53036098e+00 -1.70579229e+00 -1.18988583e+00\n",
      "  -8.50325417e-01 -7.06587672e-01 -7.47177950e-01]\n",
      " [-6.60232211e-01 -1.10662443e+00 -9.94571690e-01 -9.57503065e-01\n",
      "  -8.13265229e-01 -8.79910280e-01 -1.12785053e+00]\n",
      " [-1.35176854e+00 -4.87317157e-01 -5.55402687e-01 -2.60354766e-01\n",
      "  -3.68542977e-01 -1.49479287e-01 -1.34622560e-02]\n",
      " [ 1.43998922e+00  1.50098513e+00  1.41891460e+00  1.48251598e+00\n",
      "   1.07680434e+00  7.79034688e-01  1.08741828e+00]\n",
      " [ 1.33753939e-01 -6.35806035e-02 -1.90076260e-01 -3.76546149e-01\n",
      "  -6.27964291e-01 -6.57066926e-01 -3.14316390e-01]\n",
      " [ 5.17940787e-01  8.05622583e-01  1.20127333e+00  9.01559065e-01\n",
      "   6.32082090e-01  5.19050775e-01  4.11826785e-02]\n",
      " [ 5.69165699e-02 -3.24341560e-01 -3.64966571e-01 -2.60354766e-01\n",
      "  -3.31482790e-01  3.62235082e-02  2.75112117e-01]\n",
      " [ 1.84978852e-01 -1.07040763e-01 -3.57193668e-01 -1.44163383e-01\n",
      "  -7.76205042e-01 -8.92290467e-01 -6.99286884e-01]\n",
      " [ 2.36203765e-01  3.42047550e-02  2.75650161e-02  5.52984916e-01\n",
      "   1.87359838e-01  3.08587607e-01  1.68278200e-01]\n",
      " [-5.57782385e-01 -5.63372436e-01 -2.63918836e-01 -7.25120298e-01\n",
      "  -7.76205042e-01 -6.07546181e-01 -6.23152368e-01]\n",
      " [ 5.69165699e-03  2.29775472e-01 -2.29588515e-02 -1.44163383e-01\n",
      "  -1.09121664e-01 -4.21843386e-01 -8.72431508e-01]\n",
      " [ 6.71615525e-01  2.73235631e-01 -1.66757552e-01 -6.08928915e-01\n",
      "  -8.50325417e-01 -8.55149908e-01 -9.30146383e-01]\n",
      " [ 3.38653591e-01  7.40432344e-01  6.53283684e-01  7.85367682e-01\n",
      "   1.87359838e-01 -8.75783552e-02 -4.60445541e-01]\n",
      " [ 1.13263974e+00  2.15288752e+00  1.64821523e+00 -6.08928915e-01\n",
      "   2.24420025e-01 -1.49479287e-01 -5.10178571e-01]\n",
      " [ 1.03018992e+00  9.14272982e-01  1.58603201e+00  5.52984916e-01\n",
      "   5.95021902e-01  1.60025371e-01 -2.69495264e-01]\n",
      " [ 3.64266048e-01  2.73235631e-01  2.21887584e-01  1.13394183e+00\n",
      "   7.43262653e-01  2.83827235e-01  9.61550733e-01]\n",
      " [ 9.27740090e-01  7.73027464e-01  1.02249656e+00  4.36793533e-01\n",
      "   5.20901527e-01  1.97165930e-01  8.27087355e-01]\n",
      " [-6.85844668e-01  1.24746754e-02 -1.20444006e+00 -2.79719996e-02\n",
      "   2.05889931e-03 -2.36140591e-01 -5.86927075e-01]\n",
      " [ 7.74065351e-01  6.20916906e-01  3.77345638e-01  8.82193835e-02\n",
      "   3.91190870e-02 -9.17050839e-04  2.94759734e-01]\n",
      " [-7.11457124e-01 -3.35206599e-01 -2.48373030e-01 -1.07369445e+00\n",
      "  -4.79723540e-01 -6.32306554e-01 -6.25608321e-01]\n",
      " [-9.67581689e-02  1.24746754e-02 -1.51211746e-01 -6.08928915e-01\n",
      "  -3.31482790e-01 -3.97083013e-01 -4.39569948e-01]\n",
      " [ 1.33753939e-01  2.08045392e-01  1.79136619e-01  8.82193835e-02\n",
      "  -6.65024479e-01 -6.81827299e-01 -7.71123483e-01]\n",
      " [ 1.54243905e+00  1.69655585e+00  1.24013784e+00  2.52823843e+00\n",
      "   1.59564697e+00  1.39804400e+00  4.14569265e+00]\n",
      " [-1.99207995e-01  2.51505552e-01  1.07302043e+00  1.13394183e+00\n",
      "   8.17383028e-01  9.02836551e-01  7.28235283e-01]\n",
      " [-1.09564397e+00 -1.07402931e+00 -1.05286846e+00 -8.41311682e-01\n",
      "  -7.39144854e-01 -6.81827299e-01 -5.79559218e-01]\n",
      " [-1.47983082e-01 -2.59151321e-01 -2.68453029e-02 -4.92737532e-01\n",
      "  -8.50325417e-01 -7.18967858e-01 -6.34204153e-01]\n",
      " [-1.47983082e-01 -8.34998432e-01 -8.19681379e-01 -1.18988583e+00\n",
      "  -1.07268654e+00 -8.92290467e-01 -6.82709207e-01]\n",
      " [-1.50544328e+00 -1.35652034e+00 -1.11893813e+00 -1.30607721e+00\n",
      "  -1.18386711e+00 -8.67530094e-01 -7.55773783e-01]\n",
      " [ 2.61816222e+00  2.53316392e+00  1.68319329e+00  3.10919534e+00\n",
      "   4.56046198e+00  5.00067823e+00  2.33074404e+00]\n",
      " [ 1.97785081e+00  1.54444529e+00  1.20127333e+00  1.13394183e+00\n",
      "   1.22504509e+00  1.06377897e+00  4.85505349e-02]\n",
      " [-7.62682037e-01 -8.02403312e-01 -9.01296858e-01 -7.25120298e-01\n",
      "  -6.65024479e-01 -7.43728231e-01 -4.36500008e-01]\n",
      " [-5.06557473e-01 -3.24341560e-01 -1.16233684e-01 -3.76546149e-01\n",
      "  -3.68542977e-01 -3.35182082e-01 -1.98272653e-01]\n",
      " [-4.55332560e-02 -2.59151321e-01 -2.60032384e-01 -4.92737532e-01\n",
      "  -8.13265229e-01 -5.95165995e-01 -4.97898811e-01]\n",
      " [-3.52882734e-01 -6.06832595e-01  2.91843708e-01  6.69176299e-01\n",
      "   7.06202465e-01  6.79993197e-01  3.62912406e-01]\n",
      " [-7.11457124e-02  1.97180353e-01  2.37433389e-01  4.36793533e-01\n",
      "   7.06202465e-01  1.22472140e+00  5.38512982e-01]\n",
      " [-2.76045364e-01 -4.43856998e-01  4.51188214e-01 -1.44163383e-01\n",
      "  -9.98566168e-01 -6.81827299e-01 -1.34417898e-01]\n",
      " [-2.22259206e+00 -1.93236746e+00 -1.22775877e+00 -9.57503065e-01\n",
      "  -8.87385605e-01 -8.05629162e-01 -7.64983603e-01]]\n"
     ]
    }
   ],
   "source": [
    "print(scaled_df)"
   ]
  },
  {
   "cell_type": "code",
   "execution_count": 19,
   "id": "29eda8c3",
   "metadata": {},
   "outputs": [],
   "source": [
    "from sklearn.decomposition import PCA"
   ]
  },
  {
   "cell_type": "code",
   "execution_count": 20,
   "id": "fddc4fc5",
   "metadata": {},
   "outputs": [],
   "source": [
    "pca = PCA(n_components=2)"
   ]
  },
  {
   "cell_type": "code",
   "execution_count": 21,
   "id": "21d4ddbe",
   "metadata": {},
   "outputs": [
    {
     "data": {
      "text/plain": [
       "PCA(n_components=2)"
      ]
     },
     "execution_count": 21,
     "metadata": {},
     "output_type": "execute_result"
    }
   ],
   "source": [
    "pca.fit(scaled_df)"
   ]
  },
  {
   "cell_type": "code",
   "execution_count": 22,
   "id": "f5e9f30a",
   "metadata": {},
   "outputs": [],
   "source": [
    "x_pca = pca.transform(scaled_df)"
   ]
  },
  {
   "cell_type": "code",
   "execution_count": 23,
   "id": "2c028d1c",
   "metadata": {},
   "outputs": [
    {
     "data": {
      "text/plain": [
       "(54, 7)"
      ]
     },
     "execution_count": 23,
     "metadata": {},
     "output_type": "execute_result"
    }
   ],
   "source": [
    "scaled_df.shape"
   ]
  },
  {
   "cell_type": "code",
   "execution_count": null,
   "id": "13b315fe",
   "metadata": {},
   "outputs": [],
   "source": [
    "x_pca.shape"
   ]
  },
  {
   "cell_type": "code",
   "execution_count": null,
   "id": "2e6447f3",
   "metadata": {},
   "outputs": [],
   "source": [
    "pca.components_"
   ]
  },
  {
   "cell_type": "code",
   "execution_count": null,
   "id": "250d9f97",
   "metadata": {},
   "outputs": [],
   "source": []
  },
  {
   "cell_type": "code",
   "execution_count": null,
   "id": "581d60ae",
   "metadata": {},
   "outputs": [],
   "source": []
  },
  {
   "cell_type": "code",
   "execution_count": null,
   "id": "cebcd4b1",
   "metadata": {},
   "outputs": [],
   "source": []
  },
  {
   "cell_type": "code",
   "execution_count": null,
   "id": "03f44f98",
   "metadata": {},
   "outputs": [],
   "source": []
  },
  {
   "cell_type": "code",
   "execution_count": null,
   "id": "c6e69849",
   "metadata": {},
   "outputs": [],
   "source": []
  }
 ],
 "metadata": {
  "kernelspec": {
   "display_name": "Python 3",
   "language": "python",
   "name": "python3"
  },
  "language_info": {
   "codemirror_mode": {
    "name": "ipython",
    "version": 3
   },
   "file_extension": ".py",
   "mimetype": "text/x-python",
   "name": "python",
   "nbconvert_exporter": "python",
   "pygments_lexer": "ipython3",
   "version": "3.8.8"
  }
 },
 "nbformat": 4,
 "nbformat_minor": 5
}
