{
 "cells": [
  {
   "cell_type": "markdown",
   "metadata": {},
   "source": [
    "# PYTHON JOURNEY MACHINE & DEEP LEARNING\n",
    "### Trabalho prático usando o Python\n",
    "\n",
    "Habilidades desenvolvidas: análise exploratória dos dados.\n",
    "\n",
    "Profa. Regina Bernal"
   ]
  },
  {
   "cell_type": "code",
   "execution_count": null,
   "metadata": {},
   "outputs": [],
   "source": [
    "import numpy as np\n",
    "import pandas as pd\n",
    "import matplotlib.pyplot as plt\n",
    "%matplotlib inline\n",
    "import seaborn as sns"
   ]
  },
  {
   "cell_type": "markdown",
   "metadata": {},
   "source": [
    "Importar o arquivo amostra_pf.csv Trata-se de uma amostra de cadastro de uma empresa XYZ"
   ]
  },
  {
   "cell_type": "code",
   "execution_count": null,
   "metadata": {},
   "outputs": [],
   "source": [
    "cadastro=pd.read_csv('C:cadastro.csv',sep=',')"
   ]
  },
  {
   "cell_type": "code",
   "execution_count": null,
   "metadata": {},
   "outputs": [],
   "source": [
    "cadastro.info()"
   ]
  },
  {
   "cell_type": "code",
   "execution_count": null,
   "metadata": {},
   "outputs": [],
   "source": [
    "cadastro.head()"
   ]
  },
  {
   "cell_type": "code",
   "execution_count": null,
   "metadata": {},
   "outputs": [],
   "source": [
    "cadastro.dtypes"
   ]
  },
  {
   "cell_type": "code",
   "execution_count": null,
   "metadata": {},
   "outputs": [],
   "source": [
    "cadastro.count()"
   ]
  },
  {
   "cell_type": "code",
   "execution_count": null,
   "metadata": {},
   "outputs": [],
   "source": [
    "cadastro.nunique()"
   ]
  },
  {
   "cell_type": "code",
   "execution_count": null,
   "metadata": {},
   "outputs": [],
   "source": [
    "cadastro.isna().sum()"
   ]
  },
  {
   "cell_type": "code",
   "execution_count": null,
   "metadata": {},
   "outputs": [],
   "source": [
    "cadastro.isnull().sum()/len(cadastro)*100"
   ]
  },
  {
   "cell_type": "markdown",
   "metadata": {},
   "source": [
    "## Análise descriva - Medidas resumo"
   ]
  },
  {
   "cell_type": "code",
   "execution_count": null,
   "metadata": {},
   "outputs": [],
   "source": [
    "cadastro.describe().round(2) "
   ]
  },
  {
   "cell_type": "code",
   "execution_count": null,
   "metadata": {},
   "outputs": [],
   "source": [
    "Describe = cadastro.describe() "
   ]
  },
  {
   "cell_type": "code",
   "execution_count": null,
   "metadata": {},
   "outputs": [],
   "source": [
    "Describe = Describe.T"
   ]
  },
  {
   "cell_type": "code",
   "execution_count": null,
   "metadata": {},
   "outputs": [],
   "source": [
    "Describe['CV'] = cadastro.std()/cadastro.mean() "
   ]
  },
  {
   "cell_type": "code",
   "execution_count": null,
   "metadata": {},
   "outputs": [],
   "source": [
    "Describe['CV'] = cadastro.std()/cadastro.mean() "
   ]
  },
  {
   "cell_type": "code",
   "execution_count": null,
   "metadata": {},
   "outputs": [],
   "source": [
    "Describe.round(2) "
   ]
  },
  {
   "cell_type": "code",
   "execution_count": null,
   "metadata": {},
   "outputs": [],
   "source": [
    "# Pergunta: Faz sentido apresentar a média, desvio padrão, quartil e coeficiente de variação para a variável CEP?"
   ]
  },
  {
   "cell_type": "markdown",
   "metadata": {},
   "source": [
    "## Preprocessing\n",
    "### Mudar o formato da variável"
   ]
  },
  {
   "cell_type": "code",
   "execution_count": null,
   "metadata": {},
   "outputs": [],
   "source": [
    "# mudar o formato da variável number para string\n",
    "cadastro['NUM_CPF'] = cadastro['NUM_CPF'].astype(str)\n",
    "cadastro['CHAVE_CONTRATO'] = cadastro['CHAVE_CONTRATO'].astype(str)\n",
    "cadastro['CEP'] = cadastro['CEP'].astype(str)\n",
    "cadastro['CEP_A'] = cadastro['CEP_A'].astype(str)\n",
    "cadastro['NUMERO'] = cadastro['NUMERO'].astype(str)\n",
    "cadastro['LATITUDE'] = cadastro['LATITUDE'].astype(str)\n",
    "cadastro['LONGITUDE'] = cadastro['LONGITUDE'].astype(str)\n",
    "cadastro['CELULAR'] = cadastro['CELULAR'].astype(str)\n",
    "cadastro['DDD_CELULAR'] = cadastro['DDD_CELULAR'].astype(str)\n",
    "cadastro['CELULAR_2'] = cadastro['CELULAR_2'].astype(str)\n",
    "cadastro['DDD_CELULAR_2'] = cadastro['DDD_CELULAR_2'].astype(str)\n",
    "cadastro['COD_BANCO'] = cadastro['COD_BANCO'].astype(str)               \n",
    "cadastro['NUM_AGENCIA'] = cadastro['NUM_AGENCIA'].astype(str)          \n",
    "cadastro['NUM_CONTA'] = cadastro['NUM_CONTA'].astype(str)        \n",
    "cadastro['CNPJ_CREDOR'] = cadastro['CNPJ_CREDOR'].astype(str)        \n",
    "cadastro['STATUS_CONSENTIMENTO'] = cadastro['STATUS_CONSENTIMENTO'].astype(str)\n"
   ]
  },
  {
   "cell_type": "code",
   "execution_count": null,
   "metadata": {},
   "outputs": [],
   "source": [
    "cadastro.describe().round(2) "
   ]
  },
  {
   "cell_type": "markdown",
   "metadata": {},
   "source": [
    "### Exploratory Data Analysis (EDA)"
   ]
  },
  {
   "cell_type": "code",
   "execution_count": null,
   "metadata": {},
   "outputs": [],
   "source": [
    "plt.hist(cadastro['RENDA_PRESUMIDA'], bins=10)\n",
    "plt.ylabel('Frequencia')\n",
    "plt.xlabel('Renda presumida')\n",
    "plt.title('Histograma da renda presumida')"
   ]
  },
  {
   "cell_type": "code",
   "execution_count": null,
   "metadata": {},
   "outputs": [],
   "source": [
    "sns.distplot(cadastro['RENDA_PRESUMIDA'],kde=False,bins=30)"
   ]
  },
  {
   "cell_type": "code",
   "execution_count": null,
   "metadata": {},
   "outputs": [],
   "source": [
    "sns.boxplot(y=\"RENDA_PRESUMIDA\", data=cadastro)"
   ]
  },
  {
   "cell_type": "code",
   "execution_count": null,
   "metadata": {},
   "outputs": [],
   "source": [
    "renda = cadastro[(cadastro['RENDA_PRESUMIDA'] < 10000) ]"
   ]
  },
  {
   "cell_type": "code",
   "execution_count": null,
   "metadata": {},
   "outputs": [],
   "source": [
    "sns.boxplot(y=\"RENDA_PRESUMIDA\", data=renda)"
   ]
  },
  {
   "cell_type": "code",
   "execution_count": null,
   "metadata": {},
   "outputs": [],
   "source": [
    "plt.hist(renda['RENDA_PRESUMIDA'], bins=10)\n",
    "plt.ylabel('Frequencia')\n",
    "plt.xlabel('Renda presumida')\n",
    "plt.title('Histograma da renda presumida')"
   ]
  },
  {
   "cell_type": "code",
   "execution_count": null,
   "metadata": {},
   "outputs": [],
   "source": [
    "cadastroBackup = cadastro.copy()"
   ]
  },
  {
   "attachments": {
    "BoxPlot.png": {
     "image/png": "[encoded data removed]"
    }
   },
   "cell_type": "markdown",
   "metadata": {},
   "source": [
    "## Análise de detecção de outliers usando o Box Plot\n",
    "![BoxPlot.png](attachment:BoxPlot.png)"
   ]
  },
  {
   "cell_type": "code",
   "execution_count": null,
   "metadata": {},
   "outputs": [],
   "source": [
    "################################################\n",
    "########### ALGORITMO DO BOX PLOT   ############\n",
    "################################################\n",
    "\n",
    "import statistics\n",
    "\n",
    "print('Quartil 1 (Q1) = ',np.percentile(cadastro['RENDA_PRESUMIDA'], 25))\n",
    "\n",
    "print('Quartil 2 (Q2) = Mediana = ',statistics.median(cadastro['RENDA_PRESUMIDA'])) # / np.percentile(renda['RENDA_PRESUMIDA'], 50))\n",
    "\n",
    "print('Quartil 3 (Q3) = ',np.percentile(cadastro['RENDA_PRESUMIDA'], 75))\n",
    "\n",
    "print('Inter-quartil (IQ) = Q3 - Q1 = ',(np.percentile(cadastro['RENDA_PRESUMIDA'], 75) - np.percentile(cadastro['RENDA_PRESUMIDA'], 25)))\n",
    "\n",
    "print('Limite 1 = Q3 + 3 * IQ = ',(np.percentile(cadastro['RENDA_PRESUMIDA'], 75) + 3 * (np.percentile(cadastro['RENDA_PRESUMIDA'], 75) - np.percentile(cadastro['RENDA_PRESUMIDA'], 25))))\n",
    "\n",
    "print('Limite 2 = Q3 + 1.5 * IQ = ',(np.percentile(cadastro['RENDA_PRESUMIDA'], 75) + 1.5 * (np.percentile(cadastro['RENDA_PRESUMIDA'], 75) - np.percentile(cadastro['RENDA_PRESUMIDA'], 25))))\n",
    "\n",
    "print('Limite 3 = Q1 - 1.5 * IQ = ',(np.percentile(cadastro['RENDA_PRESUMIDA'], 25) - 1.5 * (np.percentile(cadastro['RENDA_PRESUMIDA'], 75) - np.percentile(cadastro['RENDA_PRESUMIDA'], 25))))\n",
    "\n",
    "print('Limite 4 = Q1 - 3 * IQ = ',(np.percentile(cadastro['RENDA_PRESUMIDA'], 25) - 3 * (np.percentile(cadastro['RENDA_PRESUMIDA'], 75) - np.percentile(cadastro['RENDA_PRESUMIDA'], 25))))\n",
    "  \n",
    "l1 = (np.percentile(cadastro['RENDA_PRESUMIDA'], 75) + 3 * (np.percentile(cadastro['RENDA_PRESUMIDA'], 75) - np.percentile(cadastro['RENDA_PRESUMIDA'], 25)))\n",
    "l2 = (np.percentile(cadastro['RENDA_PRESUMIDA'], 75) + 1.5 * (np.percentile(cadastro['RENDA_PRESUMIDA'], 75) - np.percentile(cadastro['RENDA_PRESUMIDA'], 25)))\n",
    "l3 = (np.percentile(cadastro['RENDA_PRESUMIDA'], 25) - 1.5 * (np.percentile(cadastro['RENDA_PRESUMIDA'], 75) - np.percentile(cadastro['RENDA_PRESUMIDA'], 25)))\n",
    "l4 = (np.percentile(cadastro['RENDA_PRESUMIDA'], 25) - 3 * (np.percentile(cadastro['RENDA_PRESUMIDA'], 75) - np.percentile(cadastro['RENDA_PRESUMIDA'], 25)))\n",
    "\n"
   ]
  },
  {
   "cell_type": "markdown",
   "metadata": {},
   "source": [
    "### Medidas resumo da variável Renda presumida"
   ]
  },
  {
   "cell_type": "code",
   "execution_count": null,
   "metadata": {},
   "outputs": [],
   "source": [
    "print('Mínimo = ', min(cadastro['RENDA_PRESUMIDA']))\n",
    "\n",
    "print('Máximo = ', max(cadastro['RENDA_PRESUMIDA']))\n",
    "\n",
    "print('Média = ', statistics.mean(cadastro['RENDA_PRESUMIDA']))\n",
    "\n",
    "print('STD = ', cadastro['RENDA_PRESUMIDA'].std())\n",
    "\n",
    "print('Coeficiente de Variação = ', (cadastro['RENDA_PRESUMIDA'].std() / cadastro['RENDA_PRESUMIDA'].mean()))"
   ]
  },
  {
   "cell_type": "markdown",
   "metadata": {},
   "source": [
    "### Quantos outliers? Quantos pontos extremos?"
   ]
  },
  {
   "cell_type": "code",
   "execution_count": null,
   "metadata": {},
   "outputs": [],
   "source": [
    "print('Outliers Inferior: ', cadastro.loc[(cadastro.RENDA_PRESUMIDA >= l2) & (cadastro.RENDA_PRESUMIDA <= l1), 'RENDA_PRESUMIDA'].count())\n",
    "print('Outliers Superior: ', cadastro.loc[(cadastro.RENDA_PRESUMIDA >= l4) & (cadastro.RENDA_PRESUMIDA <= l3), 'RENDA_PRESUMIDA'].count())\n",
    "print('Pontos Extremos: ', cadastro.loc[(cadastro.RENDA_PRESUMIDA >= l1) | (cadastro.RENDA_PRESUMIDA <= l4), 'RENDA_PRESUMIDA'].count())\n"
   ]
  },
  {
   "cell_type": "markdown",
   "metadata": {},
   "source": [
    "### Criar a variável Renda_Outlier na base de dados"
   ]
  },
  {
   "cell_type": "code",
   "execution_count": null,
   "metadata": {},
   "outputs": [],
   "source": [
    "cadastro.loc[(cadastro.RENDA_PRESUMIDA >= l2) & (cadastro.RENDA_PRESUMIDA <= l1), 'Renda_Outlier'] = 1.0\n",
    "cadastro.loc[(cadastro.RENDA_PRESUMIDA >= l4) & (cadastro.RENDA_PRESUMIDA <= l3), 'Renda_Outlier'] = 1.0\n",
    "cadastro.loc[(cadastro.RENDA_PRESUMIDA >= l1) | (cadastro.RENDA_PRESUMIDA <= l4), 'Renda_Outlier'] = 2.0\n",
    "cadastro.loc[(cadastro.RENDA_PRESUMIDA < l2) & (cadastro.RENDA_PRESUMIDA > l3), 'Renda_Outlier'] = 0.0"
   ]
  },
  {
   "cell_type": "code",
   "execution_count": null,
   "metadata": {},
   "outputs": [],
   "source": [
    "cadastro.head()"
   ]
  },
  {
   "cell_type": "markdown",
   "metadata": {},
   "source": [
    "### Calcular a média recortada (sem os outliers e pontos extremos)"
   ]
  },
  {
   "cell_type": "code",
   "execution_count": null,
   "metadata": {},
   "outputs": [],
   "source": [
    "################################################\n",
    "########### REMOVER OS OUTLIERS ############\n",
    "################################################\n",
    "\n",
    "# Removendo os Outliers\n",
    "cadastroSemOutlier = cadastro.loc[cadastro.Renda_Outlier == 0.0]\n",
    "\n",
    "print('Mínimo = ', min(cadastroSemOutlier['RENDA_PRESUMIDA']))\n",
    "\n",
    "print('Máximo = ', max(cadastroSemOutlier['RENDA_PRESUMIDA']))\n",
    "\n",
    "print('Média = ', statistics.mean(cadastroSemOutlier['RENDA_PRESUMIDA']))\n",
    "\n",
    "print('STD = ', cadastroSemOutlier['RENDA_PRESUMIDA'].std())\n",
    "\n",
    "print('Coeficiente de Variação = ', (cadastroSemOutlier['RENDA_PRESUMIDA'].std() / cadastroSemOutlier['RENDA_PRESUMIDA'].mean()))\n"
   ]
  },
  {
   "cell_type": "code",
   "execution_count": null,
   "metadata": {},
   "outputs": [],
   "source": [
    "Exercício:\n",
    "\n",
    "Use o arquivo cadastro e responda:\n",
    "(1) Qual a renda média? Qual o desvio padrão da variável renda? Qual o coeficiente de variação da renda? \n",
    "    \n",
    "(2) Criar a variável Renda_Outlier no arquivo de dados, sendo: 0 = não outilier, 1= outlier e 2= ponto extremo\n",
    "\n",
    "(3) Quantos outliers? \n",
    "\n",
    "(4) Quantos pontos extremos? \n",
    "\n",
    "(5) Excluir os outliers e os pontos extremos. Recalcular a média, desvio padrão e coeficiente de variação da renda. A renda média é: 2489.8616304347825 O desvio padrão é: 517.4251707755458 Coeficiente de Variação: 0.20781282158446385\n",
    "\n",
    "(6) Compare o resultado (1) e (5). Comente os resultados.\n",
    "\n",
    "\n"
   ]
  }
 ],
 "metadata": {
  "kernelspec": {
   "display_name": "Python 3",
   "language": "python",
   "name": "python3"
  },
  "language_info": {
   "codemirror_mode": {
    "name": "ipython",
    "version": 3
   },
   "file_extension": ".py",
   "mimetype": "text/x-python",
   "name": "python",
   "nbconvert_exporter": "python",
   "pygments_lexer": "ipython3",
   "version": "3.8.8"
  }
 },
 "nbformat": 4,
 "nbformat_minor": 4
}
