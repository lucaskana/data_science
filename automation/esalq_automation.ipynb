{
 "cells": [
  {
   "cell_type": "code",
   "execution_count": 38,
   "metadata": {},
   "outputs": [
    {
     "name": "stdout",
     "output_type": "stream",
     "text": [
      "ESALQ zip files: []\n"
     ]
    },
    {
     "data": {
      "text/plain": [
       "[None, None]"
      ]
     },
     "execution_count": 38,
     "metadata": {},
     "output_type": "execute_result"
    }
   ],
   "source": [
    "import os\n",
    "import os.path\n",
    "import pprint\n",
    "import shutil\n",
    "import zipfile\n",
    "  \n",
    "downloads = 'D:\\WindowsFolder\\Downloads'\n",
    "destination='D:\\Dev\\workspace\\esalqworkspace'\n",
    "## Move Downloads Files ZIP to workspace folder\n",
    "esalqfiles = [item for item in os.listdir(downloads) if 'ESALQ' in item]\n",
    "print('ESALQ zip files: {}'.format(esalqfiles))\n",
    "[shutil.move(os.path.join(downloads,item), destination) for item in esalqfiles]\n",
    "\n",
    "\n",
    "## Change to destination folder\n",
    "os.chdir(destination)\n",
    "## Unzip files destination folder \n",
    "[zipfile.ZipFile(item).extractall(os.path.basename(item).split('.')[0]) for item in os.listdir()]\n",
    "\n"
   ]
  },
  {
   "cell_type": "code",
   "execution_count": 32,
   "metadata": {},
   "outputs": [
    {
     "name": "stdout",
     "output_type": "stream",
     "text": [
      "moving to trash ESALQ_textmining_02.zip\n"
     ]
    },
    {
     "data": {
      "text/plain": [
       "[None]"
      ]
     },
     "execution_count": 32,
     "metadata": {},
     "output_type": "execute_result"
    }
   ],
   "source": [
    "#os.makedirs(r\"D:\\Dev\\workspace\\esalqworkspace\",exist_ok=True)\n",
    "import send2trash\n",
    "\n",
    "def loggingDeleteFile(item):\n",
    "    print('moving to trash {}'.format(item))\n",
    "    send2trash.send2trash(item)\n",
    "\n",
    "os.chdir(destination)\n",
    "[loggingDeleteFile(item) for item in os.listdir() if item.endswith('.zip')]"
   ]
  },
  {
   "cell_type": "code",
   "execution_count": null,
   "metadata": {},
   "outputs": [],
   "source": [
    "#directory=os.path.join(destination,os.path.basename(os.listdir(destination)[0]))\n",
    "#print(os.path.basename(directory).split('.')[0])\n",
    "\n",
    "#print(downloads)\n",
    "#[os.path.abspath(x) for x in os.listdir(path=os.path.expandvars('%USERPROFILE%'))]\n",
    "#os.chdir(os.path.expandvars(R'%USERPROFILE%'))\n",
    "#os.listdir('Downloads')\n",
    "#os.listdir(os.path.expandvars(R'%USERPROFILE%'))\n",
    "#print(os.path.expanduser(\"~\\Downloads\"))\n",
    "#os.listdir(os.path.expandvars('%USERPROFILE%\\\\Downloads'))\n",
    "#os.path.expandvars('%USERPROFILE%')\n",
    "#env_var = os.environ\n",
    "#os.path.expandvars(R'%USERPROFILE%')  \n",
    "#env_var['USERPROFILE']\n",
    "#downloads = os.path.join(env_var['USERPROFILE'],'Downloads')\n",
    "#for item in os.listdir(downloads):\n",
    "    #print(os.path.join('D:\\\\Dev\\\\workspace\\\\esalqworkspace\\\\',item))\n",
    "#    print(os.path.join(downloads,item))"
   ]
  }
 ],
 "metadata": {
  "interpreter": {
   "hash": "b3ba2566441a7c06988d0923437866b63cedc61552a5af99d1f4fb67d367b25f"
  },
  "kernelspec": {
   "display_name": "Python 3.8.8 ('base')",
   "language": "python",
   "name": "python3"
  },
  "language_info": {
   "codemirror_mode": {
    "name": "ipython",
    "version": 3
   },
   "file_extension": ".py",
   "mimetype": "text/x-python",
   "name": "python",
   "nbconvert_exporter": "python",
   "pygments_lexer": "ipython3",
   "version": "3.8.8"
  },
  "orig_nbformat": 4
 },
 "nbformat": 4,
 "nbformat_minor": 2
}
