{
 "cells": [
  {
   "cell_type": "markdown",
   "metadata": {},
   "source": [
    "https://towardsdatascience.com/automate-your-mundane-excel-reporting-with-python-f3a29e6e3a0a"
   ]
  },
  {
   "cell_type": "code",
   "execution_count": 1,
   "metadata": {},
   "outputs": [
    {
     "name": "stdout",
     "output_type": "stream",
     "text": [
      "Requirement already satisfied: pandas in /home/lucas/anaconda3/lib/python3.8/site-packages (1.2.4)\n",
      "Requirement already satisfied: openpyxl in /home/lucas/anaconda3/lib/python3.8/site-packages (3.0.7)\n",
      "Requirement already satisfied: et-xmlfile in /home/lucas/anaconda3/lib/python3.8/site-packages (from openpyxl) (1.0.1)\n",
      "Requirement already satisfied: python-dateutil>=2.7.3 in /home/lucas/anaconda3/lib/python3.8/site-packages (from pandas) (2.8.0)\n",
      "Requirement already satisfied: pytz>=2017.3 in /home/lucas/anaconda3/lib/python3.8/site-packages (from pandas) (2021.1)\n",
      "Requirement already satisfied: numpy>=1.16.5 in /home/lucas/anaconda3/lib/python3.8/site-packages (from pandas) (1.20.1)\n",
      "Requirement already satisfied: six>=1.5 in /home/lucas/anaconda3/lib/python3.8/site-packages (from python-dateutil>=2.7.3->pandas) (1.15.0)\n",
      "Note: you may need to restart the kernel to use updated packages.\n"
     ]
    }
   ],
   "source": [
    "%pip install pandas openpyxl"
   ]
  },
  {
   "cell_type": "code",
   "execution_count": 5,
   "metadata": {},
   "outputs": [],
   "source": [
    "import pandas as pd\n",
    "import os\n",
    "from openpyxl import load_workbook\n",
    "from openpyxl.chart import Reference, BarChart\n",
    "\n",
    "# Section 1: Gathering files\n",
    "path = '../data/Excel Files/'\n",
    "files = os.listdir(path)\n",
    "\n",
    "# Section 2: Combining Files\n",
    "combined = pd.DataFrame()\n",
    "for file in files:\n",
    "    df = pd.read_excel(path+file)\n",
    "    combined = pd.concat([combined, df], ignore_index=True)\n",
    "\n",
    "combined.to_excel('/home/lucas/Área de Trabalho/Combined.xlsx')"
   ]
  },
  {
   "cell_type": "code",
   "execution_count": 7,
   "metadata": {},
   "outputs": [],
   "source": [
    "# Section 3: Summarizing Data\n",
    "summary = pd.pivot_table(\n",
    "    data=combined,\n",
    "    index='Salesperson',\n",
    "    values='Amount',\n",
    "    aggfunc='sum'\n",
    ")\n",
    "\n",
    "summaryxls = '/home/lucas/Área de Trabalho/Summary.xlsx'\n",
    "\n",
    "summary.to_excel(summaryxls)"
   ]
  },
  {
   "cell_type": "code",
   "execution_count": 8,
   "metadata": {},
   "outputs": [],
   "source": [
    "\n",
    "# Section 4: Adding Descriptive Titles\n",
    "# Loading Workbook and Worksheet Objects\n",
    "wb = load_workbook(summaryxls)\n",
    "ws = wb['Sheet1']\n",
    "\n",
    "# Inserting Descriptive Titles\n",
    "ws.insert_rows(0, 3)\n",
    "ws['A1'].value = 'Sales by Salesperson'\n",
    "ws['A2'].value = 'datagy.io'\n",
    "\n",
    "# Saving the Workbook\n",
    "wb.save(summaryxls)"
   ]
  },
  {
   "cell_type": "code",
   "execution_count": 9,
   "metadata": {},
   "outputs": [],
   "source": [
    "# Section 5: Creating Reference Objects\n",
    "data = Reference(ws, min_col=2, max_col=2, min_row=5, max_row=ws.max_row)\n",
    "categories = Reference(ws, min_col=1, max_col=1, min_row=5, max_row=ws.max_row)\n",
    "\n",
    "# Section 6: Adding a Bar Chart to Our Workbook\n",
    "chart = BarChart()\n",
    "chart.add_data(data)\n",
    "chart.set_categories(categories)\n",
    "ws.add_chart(chart, anchor='F4')\n",
    "\n",
    "wb.save(summaryxls)"
   ]
  },
  {
   "cell_type": "code",
   "execution_count": 10,
   "metadata": {},
   "outputs": [],
   "source": [
    "# Section 7: Styling Cells\n",
    "ws['A1'].style = 'Title'\n",
    "ws['A2'].style = 'Headline 2'\n",
    "\n",
    "for cell in range(5, ws.max_row+1):\n",
    "    ws[f'B{cell}'].style = 'Currency'\n",
    "    \n",
    "wb.save(summaryxls)"
   ]
  },
  {
   "cell_type": "markdown",
   "metadata": {},
   "source": [
    "* How can you add names to worksheets?\n",
    "* How can you email your resulting file automatically?\n",
    "* How can you style values as tables?"
   ]
  },
  {
   "cell_type": "code",
   "execution_count": null,
   "metadata": {},
   "outputs": [],
   "source": [
    "from openpyxl import Workbook\n",
    "from openpyxl.worksheet.table import Table, TableStyleInfo\n",
    "\n",
    "wb = Workbook()\n",
    "ws = wb.active\n",
    "\n",
    "data = [\n",
    "    ['Apples', 10000, 5000, 8000, 6000],\n",
    "    ['Pears',   2000, 3000, 4000, 5000],\n",
    "    ['Bananas', 6000, 6000, 6500, 6000],\n",
    "    ['Oranges',  500,  300,  200,  700],\n",
    "]\n",
    "\n",
    "# add column headings. NB. these must be strings\n",
    "ws.append([\"Fruit\", \"2011\", \"2012\", \"2013\", \"2014\"])\n",
    "for row in data:\n",
    "    ws.append(row)\n",
    "\n",
    "tab = Table(displayName=\"Table1\", ref=\"A1:E5\")\n",
    "\n",
    "# Add a default style with striped rows and banded columns\n",
    "style = TableStyleInfo(name=\"TableStyleMedium9\", showFirstColumn=False,\n",
    "                       showLastColumn=False, showRowStripes=True, showColumnStripes=True)\n",
    "tab.tableStyleInfo = style\n",
    "\n",
    "'''\n",
    "Table must be added using ws.add_table() method to avoid duplicate names.\n",
    "Using this method ensures table name is unque through out defined names and all other table name. \n",
    "'''\n",
    "ws.add_table(tab)\n",
    "wb.save(\"table.xlsx\")"
   ]
  }
 ],
 "metadata": {
  "interpreter": {
   "hash": "112989f40982219f9c2133127490be09f86560db102a13a350eb86b01002b443"
  },
  "kernelspec": {
   "display_name": "Python 3.8.8 ('base')",
   "language": "python",
   "name": "python3"
  },
  "language_info": {
   "codemirror_mode": {
    "name": "ipython",
    "version": 3
   },
   "file_extension": ".py",
   "mimetype": "text/x-python",
   "name": "python",
   "nbconvert_exporter": "python",
   "pygments_lexer": "ipython3",
   "version": "3.8.8"
  },
  "orig_nbformat": 4
 },
 "nbformat": 4,
 "nbformat_minor": 2
}
