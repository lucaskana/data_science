{
 "cells": [
  {
   "cell_type": "code",
   "execution_count": 9,
   "metadata": {},
   "outputs": [
    {
     "name": "stdout",
     "output_type": "stream",
     "text": [
      "/home/lucas/Downloads\n"
     ]
    }
   ],
   "source": [
    "import platform\n",
    "\n",
    "if platform.system() == 'Linux':\n",
    "    print(os.path.expanduser('~/Downloads'))\n",
    "else:\n",
    "    print('Windows')"
   ]
  },
  {
   "cell_type": "code",
   "execution_count": 2,
   "metadata": {},
   "outputs": [
    {
     "ename": "FileNotFoundError",
     "evalue": "[Errno 2] No such file or directory: 'D:\\\\WindowsFolder\\\\Downloads'",
     "output_type": "error",
     "traceback": [
      "\u001b[0;31m---------------------------------------------------------------------------\u001b[0m",
      "\u001b[0;31mFileNotFoundError\u001b[0m                         Traceback (most recent call last)",
      "\u001b[0;32m<ipython-input-2-98e4a8122d92>\u001b[0m in \u001b[0;36m<module>\u001b[0;34m\u001b[0m\n\u001b[1;32m      9\u001b[0m \u001b[0mdestination\u001b[0m\u001b[0;34m=\u001b[0m\u001b[0;34m'D:\\Dev\\workspace\\esalqworkspace'\u001b[0m\u001b[0;34m\u001b[0m\u001b[0;34m\u001b[0m\u001b[0m\n\u001b[1;32m     10\u001b[0m \u001b[0;31m## Move Downloads Files ZIP to workspace folder\u001b[0m\u001b[0;34m\u001b[0m\u001b[0;34m\u001b[0m\u001b[0;34m\u001b[0m\u001b[0m\n\u001b[0;32m---> 11\u001b[0;31m \u001b[0mesalqfiles\u001b[0m \u001b[0;34m=\u001b[0m \u001b[0;34m[\u001b[0m\u001b[0mitem\u001b[0m \u001b[0;32mfor\u001b[0m \u001b[0mitem\u001b[0m \u001b[0;32min\u001b[0m \u001b[0mos\u001b[0m\u001b[0;34m.\u001b[0m\u001b[0mlistdir\u001b[0m\u001b[0;34m(\u001b[0m\u001b[0mdownloads\u001b[0m\u001b[0;34m)\u001b[0m \u001b[0;32mif\u001b[0m \u001b[0;34m'ESALQ'\u001b[0m \u001b[0;32min\u001b[0m \u001b[0mitem\u001b[0m\u001b[0;34m]\u001b[0m\u001b[0;34m\u001b[0m\u001b[0;34m\u001b[0m\u001b[0m\n\u001b[0m\u001b[1;32m     12\u001b[0m \u001b[0mprint\u001b[0m\u001b[0;34m(\u001b[0m\u001b[0;34m'ESALQ zip files: {}'\u001b[0m\u001b[0;34m.\u001b[0m\u001b[0mformat\u001b[0m\u001b[0;34m(\u001b[0m\u001b[0mesalqfiles\u001b[0m\u001b[0;34m)\u001b[0m\u001b[0;34m)\u001b[0m\u001b[0;34m\u001b[0m\u001b[0;34m\u001b[0m\u001b[0m\n\u001b[1;32m     13\u001b[0m \u001b[0;34m[\u001b[0m\u001b[0mshutil\u001b[0m\u001b[0;34m.\u001b[0m\u001b[0mmove\u001b[0m\u001b[0;34m(\u001b[0m\u001b[0mos\u001b[0m\u001b[0;34m.\u001b[0m\u001b[0mpath\u001b[0m\u001b[0;34m.\u001b[0m\u001b[0mjoin\u001b[0m\u001b[0;34m(\u001b[0m\u001b[0mdownloads\u001b[0m\u001b[0;34m,\u001b[0m\u001b[0mitem\u001b[0m\u001b[0;34m)\u001b[0m\u001b[0;34m,\u001b[0m \u001b[0mdestination\u001b[0m\u001b[0;34m)\u001b[0m \u001b[0;32mfor\u001b[0m \u001b[0mitem\u001b[0m \u001b[0;32min\u001b[0m \u001b[0mesalqfiles\u001b[0m\u001b[0;34m]\u001b[0m\u001b[0;34m\u001b[0m\u001b[0;34m\u001b[0m\u001b[0m\n",
      "\u001b[0;31mFileNotFoundError\u001b[0m: [Errno 2] No such file or directory: 'D:\\\\WindowsFolder\\\\Downloads'"
     ]
    }
   ],
   "source": [
    "import os\n",
    "import os.path\n",
    "import pprint\n",
    "import shutil\n",
    "import platform\n",
    "import zipfile\n",
    "  \n",
    "downloads = 'D:\\WindowsFolder\\Downloads'\n",
    "destination='D:\\Dev\\workspace\\esalqworkspace'\n",
    "## Move Downloads Files ZIP to workspace folder\n",
    "esalqfiles = [item for item in os.listdir(downloads) if 'ESALQ' in item]\n",
    "print('ESALQ zip files: {}'.format(esalqfiles))\n",
    "[shutil.move(os.path.join(downloads,item), destination) for item in esalqfiles]\n",
    "\n",
    "\n",
    "## Change to destination folder\n",
    "os.chdir(destination)\n",
    "## Unzip files destination folder \n",
    "[zipfile.ZipFile(item).extractall(os.path.basename(item).split('.')[0]) for item in os.listdir()]\n",
    "\n",
    "\n"
   ]
  },
  {
   "cell_type": "code",
   "execution_count": 32,
   "metadata": {},
   "outputs": [
    {
     "name": "stdout",
     "output_type": "stream",
     "text": [
      "moving to trash ESALQ_textmining_02.zip\n"
     ]
    },
    {
     "data": {
      "text/plain": [
       "[None]"
      ]
     },
     "execution_count": 32,
     "metadata": {},
     "output_type": "execute_result"
    }
   ],
   "source": [
    "#os.makedirs(r\"D:\\Dev\\workspace\\esalqworkspace\",exist_ok=True)\n",
    "import send2trash\n",
    "\n",
    "def loggingDeleteFile(item):\n",
    "    print('moving to trash {}'.format(item))\n",
    "    send2trash.send2trash(item)\n",
    "\n",
    "os.chdir(destination)\n",
    "[loggingDeleteFile(item) for item in os.listdir() if item.endswith('.zip')]"
   ]
  },
  {
   "cell_type": "code",
   "execution_count": null,
   "metadata": {},
   "outputs": [],
   "source": [
    "#directory=os.path.join(destination,os.path.basename(os.listdir(destination)[0]))\n",
    "#print(os.path.basename(directory).split('.')[0])\n",
    "\n",
    "#print(downloads)\n",
    "#[os.path.abspath(x) for x in os.listdir(path=os.path.expandvars('%USERPROFILE%'))]\n",
    "#os.chdir(os.path.expandvars(R'%USERPROFILE%'))\n",
    "#os.listdir('Downloads')\n",
    "#os.listdir(os.path.expandvars(R'%USERPROFILE%'))\n",
    "#print(os.path.expanduser(\"~\\Downloads\"))\n",
    "#os.listdir(os.path.expandvars('%USERPROFILE%\\\\Downloads'))\n",
    "#os.path.expandvars('%USERPROFILE%')\n",
    "#env_var = os.environ\n",
    "#os.path.expandvars(R'%USERPROFILE%')  \n",
    "#env_var['USERPROFILE']\n",
    "#downloads = os.path.join(env_var['USERPROFILE'],'Downloads')\n",
    "#for item in os.listdir(downloads):\n",
    "    #print(os.path.join('D:\\\\Dev\\\\workspace\\\\esalqworkspace\\\\',item))\n",
    "#    print(os.path.join(downloads,item))"
   ]
  }
 ],
 "metadata": {
  "interpreter": {
   "hash": "112989f40982219f9c2133127490be09f86560db102a13a350eb86b01002b443"
  },
  "kernelspec": {
   "display_name": "Python 3.8.8 ('base')",
   "language": "python",
   "name": "python3"
  },
  "language_info": {
   "codemirror_mode": {
    "name": "ipython",
    "version": 3
   },
   "file_extension": ".py",
   "mimetype": "text/x-python",
   "name": "python",
   "nbconvert_exporter": "python",
   "pygments_lexer": "ipython3",
   "version": "3.8.8"
  },
  "orig_nbformat": 4
 },
 "nbformat": 4,
 "nbformat_minor": 2
}
