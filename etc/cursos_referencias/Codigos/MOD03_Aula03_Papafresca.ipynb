{
  "nbformat": 4,
  "nbformat_minor": 0,
  "metadata": {
    "colab": {
      "name": "MOD03_Aula03_Papafresca.ipynb",
      "provenance": [],
      "collapsed_sections": []
    },
    "kernelspec": {
      "name": "python3",
      "display_name": "Python 3"
    },
    "language_info": {
      "name": "python"
    }
  },
  "cells": [
    {
      "cell_type": "code",
      "metadata": {
        "colab": {
          "base_uri": "https://localhost:8080/"
        },
        "id": "y13PUuiMonYz",
        "outputId": "d3a30229-9f83-4964-a66f-8addb8299821"
      },
      "source": [
        "%load_ext google.colab.data_table\n",
        "import pandas as pd\n",
        "from pandas import read_csv"
      ],
      "execution_count": null,
      "outputs": [
        {
          "output_type": "stream",
          "text": [
            "The google.colab.data_table extension is already loaded. To reload it, use:\n",
            "  %reload_ext google.colab.data_table\n"
          ],
          "name": "stdout"
        }
      ]
    },
    {
      "cell_type": "code",
      "metadata": {
        "colab": {
          "base_uri": "https://localhost:8080/",
          "height": 538
        },
        "id": "2RR_0dCBpApu",
        "outputId": "51ccf917-11ee-4b32-8328-a70782961470"
      },
      "source": [
        "\n",
        "from mlxtend.frequent_patterns import apriori\n",
        "from mlxtend.frequent_patterns import association_rules\n",
        "dataset = read_csv('papafrescaSimNao.csv', sep=';' , engine='python')\n",
        "dataset = dataset.replace(['Nao'],False)\n",
        "dataset = dataset.replace(['Sim'],True)\n",
        "dataset.head()"
      ],
      "execution_count": null,
      "outputs": [
        {
          "output_type": "error",
          "ename": "ParserError",
          "evalue": "ignored",
          "traceback": [
            "\u001b[0;31m---------------------------------------------------------------------------\u001b[0m",
            "\u001b[0;31mParserError\u001b[0m                               Traceback (most recent call last)",
            "\u001b[0;32m<ipython-input-42-99999f3456f6>\u001b[0m in \u001b[0;36m<module>\u001b[0;34m()\u001b[0m\n\u001b[1;32m      2\u001b[0m \u001b[0;32mfrom\u001b[0m \u001b[0mmlxtend\u001b[0m\u001b[0;34m.\u001b[0m\u001b[0mfrequent_patterns\u001b[0m \u001b[0;32mimport\u001b[0m \u001b[0mapriori\u001b[0m\u001b[0;34m\u001b[0m\u001b[0;34m\u001b[0m\u001b[0m\n\u001b[1;32m      3\u001b[0m \u001b[0;32mfrom\u001b[0m \u001b[0mmlxtend\u001b[0m\u001b[0;34m.\u001b[0m\u001b[0mfrequent_patterns\u001b[0m \u001b[0;32mimport\u001b[0m \u001b[0massociation_rules\u001b[0m\u001b[0;34m\u001b[0m\u001b[0;34m\u001b[0m\u001b[0m\n\u001b[0;32m----> 4\u001b[0;31m \u001b[0mdetran\u001b[0m \u001b[0;34m=\u001b[0m \u001b[0mread_csv\u001b[0m\u001b[0;34m(\u001b[0m\u001b[0;34m'datatran2020.csv'\u001b[0m\u001b[0;34m,\u001b[0m \u001b[0msep\u001b[0m\u001b[0;34m=\u001b[0m\u001b[0;34m';'\u001b[0m \u001b[0;34m,\u001b[0m \u001b[0mencoding\u001b[0m\u001b[0;34m=\u001b[0m\u001b[0;34m'latin-1'\u001b[0m\u001b[0;34m)\u001b[0m\u001b[0;34m\u001b[0m\u001b[0;34m\u001b[0m\u001b[0m\n\u001b[0m\u001b[1;32m      5\u001b[0m \u001b[0mdataset\u001b[0m \u001b[0;34m=\u001b[0m \u001b[0mread_csv\u001b[0m\u001b[0;34m(\u001b[0m\u001b[0;34m'papafrescaSimNao.csv'\u001b[0m\u001b[0;34m,\u001b[0m \u001b[0msep\u001b[0m\u001b[0;34m=\u001b[0m\u001b[0;34m';'\u001b[0m \u001b[0;34m,\u001b[0m \u001b[0mengine\u001b[0m\u001b[0;34m=\u001b[0m\u001b[0;34m'python'\u001b[0m\u001b[0;34m)\u001b[0m\u001b[0;34m\u001b[0m\u001b[0;34m\u001b[0m\u001b[0m\n\u001b[1;32m      6\u001b[0m \u001b[0mdataset\u001b[0m \u001b[0;34m=\u001b[0m \u001b[0mdataset\u001b[0m\u001b[0;34m.\u001b[0m\u001b[0mreplace\u001b[0m\u001b[0;34m(\u001b[0m\u001b[0;34m[\u001b[0m\u001b[0;34m'Nao'\u001b[0m\u001b[0;34m]\u001b[0m\u001b[0;34m,\u001b[0m\u001b[0;32mFalse\u001b[0m\u001b[0;34m)\u001b[0m\u001b[0;34m\u001b[0m\u001b[0;34m\u001b[0m\u001b[0m\n",
            "\u001b[0;32m/usr/local/lib/python3.7/dist-packages/pandas/io/parsers.py\u001b[0m in \u001b[0;36mread_csv\u001b[0;34m(filepath_or_buffer, sep, delimiter, header, names, index_col, usecols, squeeze, prefix, mangle_dupe_cols, dtype, engine, converters, true_values, false_values, skipinitialspace, skiprows, skipfooter, nrows, na_values, keep_default_na, na_filter, verbose, skip_blank_lines, parse_dates, infer_datetime_format, keep_date_col, date_parser, dayfirst, cache_dates, iterator, chunksize, compression, thousands, decimal, lineterminator, quotechar, quoting, doublequote, escapechar, comment, encoding, dialect, error_bad_lines, warn_bad_lines, delim_whitespace, low_memory, memory_map, float_precision)\u001b[0m\n\u001b[1;32m    686\u001b[0m     )\n\u001b[1;32m    687\u001b[0m \u001b[0;34m\u001b[0m\u001b[0m\n\u001b[0;32m--> 688\u001b[0;31m     \u001b[0;32mreturn\u001b[0m \u001b[0m_read\u001b[0m\u001b[0;34m(\u001b[0m\u001b[0mfilepath_or_buffer\u001b[0m\u001b[0;34m,\u001b[0m \u001b[0mkwds\u001b[0m\u001b[0;34m)\u001b[0m\u001b[0;34m\u001b[0m\u001b[0;34m\u001b[0m\u001b[0m\n\u001b[0m\u001b[1;32m    689\u001b[0m \u001b[0;34m\u001b[0m\u001b[0m\n\u001b[1;32m    690\u001b[0m \u001b[0;34m\u001b[0m\u001b[0m\n",
            "\u001b[0;32m/usr/local/lib/python3.7/dist-packages/pandas/io/parsers.py\u001b[0m in \u001b[0;36m_read\u001b[0;34m(filepath_or_buffer, kwds)\u001b[0m\n\u001b[1;32m    458\u001b[0m \u001b[0;34m\u001b[0m\u001b[0m\n\u001b[1;32m    459\u001b[0m     \u001b[0;32mtry\u001b[0m\u001b[0;34m:\u001b[0m\u001b[0;34m\u001b[0m\u001b[0;34m\u001b[0m\u001b[0m\n\u001b[0;32m--> 460\u001b[0;31m         \u001b[0mdata\u001b[0m \u001b[0;34m=\u001b[0m \u001b[0mparser\u001b[0m\u001b[0;34m.\u001b[0m\u001b[0mread\u001b[0m\u001b[0;34m(\u001b[0m\u001b[0mnrows\u001b[0m\u001b[0;34m)\u001b[0m\u001b[0;34m\u001b[0m\u001b[0;34m\u001b[0m\u001b[0m\n\u001b[0m\u001b[1;32m    461\u001b[0m     \u001b[0;32mfinally\u001b[0m\u001b[0;34m:\u001b[0m\u001b[0;34m\u001b[0m\u001b[0;34m\u001b[0m\u001b[0m\n\u001b[1;32m    462\u001b[0m         \u001b[0mparser\u001b[0m\u001b[0;34m.\u001b[0m\u001b[0mclose\u001b[0m\u001b[0;34m(\u001b[0m\u001b[0;34m)\u001b[0m\u001b[0;34m\u001b[0m\u001b[0;34m\u001b[0m\u001b[0m\n",
            "\u001b[0;32m/usr/local/lib/python3.7/dist-packages/pandas/io/parsers.py\u001b[0m in \u001b[0;36mread\u001b[0;34m(self, nrows)\u001b[0m\n\u001b[1;32m   1196\u001b[0m     \u001b[0;32mdef\u001b[0m \u001b[0mread\u001b[0m\u001b[0;34m(\u001b[0m\u001b[0mself\u001b[0m\u001b[0;34m,\u001b[0m \u001b[0mnrows\u001b[0m\u001b[0;34m=\u001b[0m\u001b[0;32mNone\u001b[0m\u001b[0;34m)\u001b[0m\u001b[0;34m:\u001b[0m\u001b[0;34m\u001b[0m\u001b[0;34m\u001b[0m\u001b[0m\n\u001b[1;32m   1197\u001b[0m         \u001b[0mnrows\u001b[0m \u001b[0;34m=\u001b[0m \u001b[0m_validate_integer\u001b[0m\u001b[0;34m(\u001b[0m\u001b[0;34m\"nrows\"\u001b[0m\u001b[0;34m,\u001b[0m \u001b[0mnrows\u001b[0m\u001b[0;34m)\u001b[0m\u001b[0;34m\u001b[0m\u001b[0;34m\u001b[0m\u001b[0m\n\u001b[0;32m-> 1198\u001b[0;31m         \u001b[0mret\u001b[0m \u001b[0;34m=\u001b[0m \u001b[0mself\u001b[0m\u001b[0;34m.\u001b[0m\u001b[0m_engine\u001b[0m\u001b[0;34m.\u001b[0m\u001b[0mread\u001b[0m\u001b[0;34m(\u001b[0m\u001b[0mnrows\u001b[0m\u001b[0;34m)\u001b[0m\u001b[0;34m\u001b[0m\u001b[0;34m\u001b[0m\u001b[0m\n\u001b[0m\u001b[1;32m   1199\u001b[0m \u001b[0;34m\u001b[0m\u001b[0m\n\u001b[1;32m   1200\u001b[0m         \u001b[0;31m# May alter columns / col_dict\u001b[0m\u001b[0;34m\u001b[0m\u001b[0;34m\u001b[0m\u001b[0;34m\u001b[0m\u001b[0m\n",
            "\u001b[0;32m/usr/local/lib/python3.7/dist-packages/pandas/io/parsers.py\u001b[0m in \u001b[0;36mread\u001b[0;34m(self, nrows)\u001b[0m\n\u001b[1;32m   2155\u001b[0m     \u001b[0;32mdef\u001b[0m \u001b[0mread\u001b[0m\u001b[0;34m(\u001b[0m\u001b[0mself\u001b[0m\u001b[0;34m,\u001b[0m \u001b[0mnrows\u001b[0m\u001b[0;34m=\u001b[0m\u001b[0;32mNone\u001b[0m\u001b[0;34m)\u001b[0m\u001b[0;34m:\u001b[0m\u001b[0;34m\u001b[0m\u001b[0;34m\u001b[0m\u001b[0m\n\u001b[1;32m   2156\u001b[0m         \u001b[0;32mtry\u001b[0m\u001b[0;34m:\u001b[0m\u001b[0;34m\u001b[0m\u001b[0;34m\u001b[0m\u001b[0m\n\u001b[0;32m-> 2157\u001b[0;31m             \u001b[0mdata\u001b[0m \u001b[0;34m=\u001b[0m \u001b[0mself\u001b[0m\u001b[0;34m.\u001b[0m\u001b[0m_reader\u001b[0m\u001b[0;34m.\u001b[0m\u001b[0mread\u001b[0m\u001b[0;34m(\u001b[0m\u001b[0mnrows\u001b[0m\u001b[0;34m)\u001b[0m\u001b[0;34m\u001b[0m\u001b[0;34m\u001b[0m\u001b[0m\n\u001b[0m\u001b[1;32m   2158\u001b[0m         \u001b[0;32mexcept\u001b[0m \u001b[0mStopIteration\u001b[0m\u001b[0;34m:\u001b[0m\u001b[0;34m\u001b[0m\u001b[0;34m\u001b[0m\u001b[0m\n\u001b[1;32m   2159\u001b[0m             \u001b[0;32mif\u001b[0m \u001b[0mself\u001b[0m\u001b[0;34m.\u001b[0m\u001b[0m_first_chunk\u001b[0m\u001b[0;34m:\u001b[0m\u001b[0;34m\u001b[0m\u001b[0;34m\u001b[0m\u001b[0m\n",
            "\u001b[0;32mpandas/_libs/parsers.pyx\u001b[0m in \u001b[0;36mpandas._libs.parsers.TextReader.read\u001b[0;34m()\u001b[0m\n",
            "\u001b[0;32mpandas/_libs/parsers.pyx\u001b[0m in \u001b[0;36mpandas._libs.parsers.TextReader._read_low_memory\u001b[0;34m()\u001b[0m\n",
            "\u001b[0;32mpandas/_libs/parsers.pyx\u001b[0m in \u001b[0;36mpandas._libs.parsers.TextReader._read_rows\u001b[0;34m()\u001b[0m\n",
            "\u001b[0;32mpandas/_libs/parsers.pyx\u001b[0m in \u001b[0;36mpandas._libs.parsers.TextReader._tokenize_rows\u001b[0;34m()\u001b[0m\n",
            "\u001b[0;32mpandas/_libs/parsers.pyx\u001b[0m in \u001b[0;36mpandas._libs.parsers.raise_parser_error\u001b[0;34m()\u001b[0m\n",
            "\u001b[0;31mParserError\u001b[0m: Error tokenizing data. C error: Expected 30 fields in line 7707, saw 39\n"
          ]
        }
      ]
    },
    {
      "cell_type": "code",
      "metadata": {
        "colab": {
          "base_uri": "https://localhost:8080/"
        },
        "id": "FGpOQLGwpRkj",
        "outputId": "c2fae051-66d2-4ccf-9ee6-f8aee8d81e69"
      },
      "source": [
        "frequencias = apriori(dataset,use_colnames=True, min_support=0.1)\n",
        "print(frequencias)"
      ],
      "execution_count": null,
      "outputs": [
        {
          "output_type": "stream",
          "text": [
            "     support                                           itemsets\n",
            "0   0.387321                                               (TV)\n",
            "1   0.279266                                (Lapapaessaludable)\n",
            "2   0.123820                                  (Lapapadaenergia)\n",
            "3   0.428578                                    (Lapapaengorda)\n",
            "4   0.731803                                (Lapapaeseconomica)\n",
            "..       ...                                                ...\n",
            "75  0.107528  (Lapapaeseconomica, TV, Lapapaessaludable, ARROZ)\n",
            "76  0.106378              (Lapapaeseconomica, TV, CARNE, ARROZ)\n",
            "77  0.121089   (Lapapaeseconomica, Lapapaengorda, CARNE, ARROZ)\n",
            "78  0.127606            (Lapapaeseconomica, CARNE, Sopa, ARROZ)\n",
            "79  0.108918        (Lapapaeseconomica, ENSALADA, CARNE, ARROZ)\n",
            "\n",
            "[80 rows x 2 columns]\n"
          ],
          "name": "stdout"
        }
      ]
    },
    {
      "cell_type": "code",
      "metadata": {
        "colab": {
          "base_uri": "https://localhost:8080/",
          "height": 624
        },
        "id": "NoVn5VMdpen5",
        "outputId": "987d17fa-49ef-49d6-f814-0c75f22bb790"
      },
      "source": [
        "regras = association_rules(frequencias, metric='confidence', min_threshold=0.5)\n",
        "\n",
        "regras = regras.sort_values ('confidence',ascending=False)\n",
        "regras = regras[['antecedents','consequents','support','confidence', 'lift' ]]\n",
        "\n",
        "regras"
      ],
      "execution_count": null,
      "outputs": [
        {
          "output_type": "execute_result",
          "data": {
            "application/vnd.google.colaboratory.module+javascript": "\n      import \"https://ssl.gstatic.com/colaboratory/data_table/a6224c040fa35dcf/data_table.js\";\n\n      window.createDataTable({\n        data: [[{\n            'v': 2,\n            'f': \"2\",\n        },\n\"frozenset({'Lapapadaenergia'})\",\n\"frozenset({'TV'})\",\n{\n            'v': 0.12013033686329004,\n            'f': \"0.12013033686329004\",\n        },\n{\n            'v': 0.9702012383900929,\n            'f': \"0.9702012383900929\",\n        },\n{\n            'v': 2.504902838545447,\n            'f': \"2.504902838545447\",\n        }],\n [{\n            'v': 33,\n            'f': \"33\",\n        },\n\"frozenset({'Lapapaessaludable', 'Lapapaengorda'})\",\n\"frozenset({'TV'})\",\n{\n            'v': 0.10379031098758924,\n            'f': \"0.10379031098758924\",\n        },\n{\n            'v': 0.9682610639248994,\n            'f': \"0.9682610639248994\",\n        },\n{\n            'v': 2.4998936215574323,\n            'f': \"2.4998936215574323\",\n        }],\n [{\n            'v': 42,\n            'f': \"42\",\n        },\n\"frozenset({'Lapapaessaludable', 'CARNE'})\",\n\"frozenset({'TV'})\",\n{\n            'v': 0.15003114667688916,\n            'f': \"0.15003114667688916\",\n        },\n{\n            'v': 0.9557387057387058,\n            'f': \"0.9557387057387058\",\n        },\n{\n            'v': 2.4675629160040886,\n            'f': \"2.4675629160040886\",\n        }],\n [{\n            'v': 39,\n            'f': \"39\",\n        },\n\"frozenset({'Lapapaessaludable', 'Sopa'})\",\n\"frozenset({'TV'})\",\n{\n            'v': 0.10810292778762758,\n            'f': \"0.10810292778762758\",\n        },\n{\n            'v': 0.9502948609941028,\n            'f': \"0.9502948609941028\",\n        },\n{\n            'v': 2.453507788455515,\n            'f': \"2.453507788455515\",\n        }],\n [{\n            'v': 46,\n            'f': \"46\",\n        },\n\"frozenset({'Lapapaessaludable', 'ARROZ'})\",\n\"frozenset({'TV'})\",\n{\n            'v': 0.1517561933969045,\n            'f': \"0.1517561933969045\",\n        },\n{\n            'v': 0.947636146020347,\n            'f': \"0.947636146020347\",\n        },\n{\n            'v': 2.446643415971622,\n            'f': \"2.446643415971622\",\n        }],\n [{\n            'v': 92,\n            'f': \"92\",\n        },\n\"frozenset({'Lapapaeseconomica', 'Lapapaessaludable', 'CARNE'})\",\n\"frozenset({'TV'})\",\n{\n            'v': 0.11236762662322104,\n            'f': \"0.11236762662322104\",\n        },\n{\n            'v': 0.9467097295115059,\n            'f': \"0.9467097295115059\",\n        },\n{\n            'v': 2.4442515582303126,\n            'f': \"2.4442515582303126\",\n        }],\n [{\n            'v': 1,\n            'f': \"1\",\n        },\n\"frozenset({'Lapapaessaludable'})\",\n\"frozenset({'TV'})\",\n{\n            'v': 0.26283003498011404,\n            'f': \"0.26283003498011404\",\n        },\n{\n            'v': 0.9411461908030199,\n            'f': \"0.9411461908030199\",\n        },\n{\n            'v': 2.429887400206386,\n            'f': \"2.429887400206386\",\n        }],\n [{\n            'v': 99,\n            'f': \"99\",\n        },\n\"frozenset({'Lapapaeseconomica', 'Lapapaessaludable', 'ARROZ'})\",\n\"frozenset({'TV'})\",\n{\n            'v': 0.10752791221428913,\n            'f': \"0.10752791221428913\",\n        },\n{\n            'v': 0.9334442595673876,\n            'f': \"0.9334442595673876\",\n        },\n{\n            'v': 2.410002258185304,\n            'f': \"2.410002258185304\",\n        }],\n [{\n            'v': 35,\n            'f': \"35\",\n        },\n\"frozenset({'Lapapaeseconomica', 'Lapapaessaludable'})\",\n\"frozenset({'TV'})\",\n{\n            'v': 0.19258229910393407,\n            'f': \"0.19258229910393407\",\n        },\n{\n            'v': 0.928175519630485,\n            'f': \"0.928175519630485\",\n        },\n{\n            'v': 2.3963992229578857,\n            'f': \"2.3963992229578857\",\n        }],\n [{\n            'v': 86,\n            'f': \"86\",\n        },\n\"frozenset({'ENSALADA', 'Sopa'})\",\n\"frozenset({'ARROZ'})\",\n{\n            'v': 0.10172983851645982,\n            'f': \"0.10172983851645982\",\n        },\n{\n            'v': 0.9072649572649573,\n            'f': \"0.9072649572649573\",\n        },\n{\n            'v': 1.488265397984782,\n            'f': \"1.488265397984782\",\n        }],\n [{\n            'v': 114,\n            'f': \"114\",\n        },\n\"frozenset({'Lapapaeseconomica', 'ENSALADA', 'CARNE'})\",\n\"frozenset({'ARROZ'})\",\n{\n            'v': 0.10891753318319038,\n            'f': \"0.10891753318319038\",\n        },\n{\n            'v': 0.8931237721021611,\n            'f': \"0.8931237721021611\",\n        },\n{\n            'v': 1.465068385473982,\n            'f': \"1.465068385473982\",\n        }],\n [{\n            'v': 87,\n            'f': \"87\",\n        },\n\"frozenset({'ENSALADA', 'CARNE'})\",\n\"frozenset({'ARROZ'})\",\n{\n            'v': 0.1525707987924673,\n            'f': \"0.1525707987924673\",\n        },\n{\n            'v': 0.8854282536151279,\n            'f': \"0.8854282536151279\",\n        },\n{\n            'v': 1.4524447590547167,\n            'f': \"1.4524447590547167\",\n        }],\n [{\n            'v': 30,\n            'f': \"30\",\n        },\n\"frozenset({'ENSALADA'})\",\n\"frozenset({'ARROZ'})\",\n{\n            'v': 0.20504096985960035,\n            'f': \"0.20504096985960035\",\n        },\n{\n            'v': 0.8362321672855187,\n            'f': \"0.8362321672855187\",\n        },\n{\n            'v': 1.3717441517907163,\n            'f': \"1.3717441517907163\",\n        }],\n [{\n            'v': 81,\n            'f': \"81\",\n        },\n\"frozenset({'Lapapaeseconomica', 'ENSALADA'})\",\n\"frozenset({'ARROZ'})\",\n{\n            'v': 0.14341846758349705,\n            'f': \"0.14341846758349705\",\n        },\n{\n            'v': 0.8337047353760446,\n            'f': \"0.8337047353760446\",\n        },\n{\n            'v': 1.3675981860212763,\n            'f': \"1.3675981860212763\",\n        }],\n [{\n            'v': 84,\n            'f': \"84\",\n        },\n\"frozenset({'CARNE', 'Sopa'})\",\n\"frozenset({'ARROZ'})\",\n{\n            'v': 0.1799319564904883,\n            'f': \"0.1799319564904883\",\n        },\n{\n            'v': 0.7900273511466442,\n            'f': \"0.7900273511466442\",\n        },\n{\n            'v': 1.295950384458365,\n            'f': \"1.295950384458365\",\n        }],\n [{\n            'v': 110,\n            'f': \"110\",\n        },\n\"frozenset({'Lapapaeseconomica', 'CARNE', 'Sopa'})\",\n\"frozenset({'ARROZ'})\",\n{\n            'v': 0.12760553931668983,\n            'f': \"0.12760553931668983\",\n        },\n{\n            'v': 0.7788827142439311,\n            'f': \"0.7788827142439311\",\n        },\n{\n            'v': 1.2776688699541423,\n            'f': \"1.2776688699541423\",\n        }],\n [{\n            'v': 115,\n            'f': \"115\",\n        },\n\"frozenset({'Lapapaeseconomica', 'ENSALADA', 'ARROZ'})\",\n\"frozenset({'CARNE'})\",\n{\n            'v': 0.10891753318319038,\n            'f': \"0.10891753318319038\",\n        },\n{\n            'v': 0.7594386902773137,\n            'f': \"0.7594386902773137\",\n        },\n{\n            'v': 1.3678023670835644,\n            'f': \"1.3678023670835644\",\n        }],\n [{\n            'v': 57,\n            'f': \"57\",\n        },\n\"frozenset({'Lapapaessaludable', 'CARNE'})\",\n\"frozenset({'Lapapaeseconomica'})\",\n{\n            'v': 0.11869279792994393,\n            'f': \"0.11869279792994393\",\n        },\n{\n            'v': 0.7561050061050061,\n            'f': \"0.7561050061050061\",\n        },\n{\n            'v': 1.0332081831066902,\n            'f': \"1.0332081831066902\",\n        }],\n [{\n            'v': 51,\n            'f': \"51\",\n        },\n\"frozenset({'TV', 'CARNE'})\",\n\"frozenset({'Lapapaeseconomica'})\",\n{\n            'v': 0.16301691504144905,\n            'f': \"0.16301691504144905\",\n        },\n{\n            'v': 0.7501653803748622,\n            'f': \"0.7501653803748622\",\n        },\n{\n            'v': 1.0250917576638947,\n            'f': \"1.0250917576638947\",\n        }],\n [{\n            'v': 93,\n            'f': \"93\",\n        },\n\"frozenset({'TV', 'CARNE', 'Lapapaessaludable'})\",\n\"frozenset({'Lapapaeseconomica'})\",\n{\n            'v': 0.11236762662322104,\n            'f': \"0.11236762662322104\",\n        },\n{\n            'v': 0.7489619929734909,\n            'f': \"0.7489619929734909\",\n        },\n{\n            'v': 1.0234473435937521,\n            'f': \"1.0234473435937521\",\n        }],\n [{\n            'v': 88,\n            'f': \"88\",\n        },\n\"frozenset({'ENSALADA', 'ARROZ'})\",\n\"frozenset({'CARNE'})\",\n{\n            'v': 0.1525707987924673,\n            'f': \"0.1525707987924673\",\n        },\n{\n            'v': 0.7440990885720963,\n            'f': \"0.7440990885720963\",\n        },\n{\n            'v': 1.3401746681117699,\n            'f': \"1.3401746681117699\",\n        }],\n [{\n            'v': 6,\n            'f': \"6\",\n        },\n\"frozenset({'Lapapaessaludable'})\",\n\"frozenset({'Lapapaeseconomica'})\",\n{\n            'v': 0.20748478604628875,\n            'f': \"0.20748478604628875\",\n        },\n{\n            'v': 0.742964996568291,\n            'f': \"0.742964996568291\",\n        },\n{\n            'v': 1.015252521829732,\n            'f': \"1.015252521829732\",\n        }],\n [{\n            'v': 69,\n            'f': \"69\",\n        },\n\"frozenset({'Lapapaengorda', 'CARNE'})\",\n\"frozenset({'ARROZ'})\",\n{\n            'v': 0.1766735349082371,\n            'f': \"0.1766735349082371\",\n        },\n{\n            'v': 0.7415526950925181,\n            'f': \"0.7415526950925181\",\n        },\n{\n            'v': 1.2164332018460746,\n            'f': \"1.2164332018460746\",\n        }],\n [{\n            'v': 3,\n            'f': \"3\",\n        },\n\"frozenset({'TV'})\",\n\"frozenset({'Lapapaeseconomica'})\",\n{\n            'v': 0.28597441180698646,\n            'f': \"0.28597441180698646\",\n        },\n{\n            'v': 0.738339725349499,\n            'f': \"0.738339725349499\",\n        },\n{\n            'v': 1.00893214564685,\n            'f': \"1.00893214564685\",\n        }],\n [{\n            'v': 16,\n            'f': \"16\",\n        },\n\"frozenset({'CARNE'})\",\n\"frozenset({'Lapapaeseconomica'})\",\n{\n            'v': 0.4069193540658393,\n            'f': \"0.4069193540658393\",\n        },\n{\n            'v': 0.7328903081039096,\n            'f': \"0.7328903081039096\",\n        },\n{\n            'v': 1.001485584063678,\n            'f': \"1.001485584063678\",\n        }],\n [{\n            'v': 36,\n            'f': \"36\",\n        },\n\"frozenset({'TV', 'Lapapaessaludable'})\",\n\"frozenset({'Lapapaeseconomica'})\",\n{\n            'v': 0.19258229910393407,\n            'f': \"0.19258229910393407\",\n        },\n{\n            'v': 0.7327256153144941,\n            'f': \"0.7327256153144941\",\n        },\n{\n            'v': 1.001260533394328,\n            'f': \"1.001260533394328\",\n        }],\n [{\n            'v': 106,\n            'f': \"106\",\n        },\n\"frozenset({'Lapapaeseconomica', 'Lapapaengorda', 'CARNE'})\",\n\"frozenset({'ARROZ'})\",\n{\n            'v': 0.12108869615218745,\n            'f': \"0.12108869615218745\",\n        },\n{\n            'v': 0.7288722238246322,\n            'f': \"0.7288722238246322\",\n        },\n{\n            'v': 1.1956323250272167,\n            'f': \"1.1956323250272167\",\n        }],\n [{\n            'v': 105,\n            'f': \"105\",\n        },\n\"frozenset({'TV', 'CARNE', 'ARROZ'})\",\n\"frozenset({'Lapapaeseconomica'})\",\n{\n            'v': 0.10637788106761224,\n            'f': \"0.10637788106761224\",\n        },\n{\n            'v': 0.727630285152409,\n            'f': \"0.727630285152409\",\n        },\n{\n            'v': 0.9942978274519136,\n            'f': \"0.9942978274519136\",\n        }],\n [{\n            'v': 77,\n            'f': \"77\",\n        },\n\"frozenset({'CARNE', 'ARROZ'})\",\n\"frozenset({'Lapapaeseconomica'})\",\n{\n            'v': 0.28966409506924146,\n            'f': \"0.28966409506924146\",\n        },\n{\n            'v': 0.7254290171606864,\n            'f': \"0.7254290171606864\",\n        },\n{\n            'v': 0.9912898218390758,\n            'f': \"0.9912898218390758\",\n        }],\n [{\n            'v': 20,\n            'f': \"20\",\n        },\n\"frozenset({'OTROS'})\",\n\"frozenset({'Lapapaeseconomica'})\",\n{\n            'v': 0.1603335090325363,\n            'f': \"0.1603335090325363\",\n        },\n{\n            'v': 0.7233030696065715,\n            'f': \"0.7233030696065715\",\n        },\n{\n            'v': 0.9883847406770261,\n            'f': \"0.9883847406770261\",\n        }],\n [{\n            'v': 49,\n            'f': \"49\",\n        },\n\"frozenset({'TV', 'Sopa'})\",\n\"frozenset({'Lapapaeseconomica'})\",\n{\n            'v': 0.11198428290766209,\n            'f': \"0.11198428290766209\",\n        },\n{\n            'v': 0.7224111282843895,\n            'f': \"0.7224111282843895\",\n        },\n{\n            'v': 0.9871659138401601,\n            'f': \"0.9871659138401601\",\n        }],\n [{\n            'v': 18,\n            'f': \"18\",\n        },\n\"frozenset({'ARROZ'})\",\n\"frozenset({'Lapapaeseconomica'})\",\n{\n            'v': 0.44017442139057933,\n            'f': \"0.44017442139057933\",\n        },\n{\n            'v': 0.7220562804590474,\n            'f': \"0.7220562804590474\",\n        },\n{\n            'v': 0.9866810186550458,\n            'f': \"0.9866810186550458\",\n        }],\n [{\n            'v': 72,\n            'f': \"72\",\n        },\n\"frozenset({'CARNE', 'Sopa'})\",\n\"frozenset({'Lapapaeseconomica'})\",\n{\n            'v': 0.16383152043701182,\n            'f': \"0.16383152043701182\",\n        },\n{\n            'v': 0.7193351567431095,\n            'f': \"0.7193351567431095\",\n        },\n{\n            'v': 0.9829626365945491,\n            'f': \"0.9829626365945491\",\n        }],\n [{\n            'v': 59,\n            'f': \"59\",\n        },\n\"frozenset({'Lapapaessaludable', 'ARROZ'})\",\n\"frozenset({'Lapapaeseconomica'})\",\n{\n            'v': 0.1151947865254684,\n            'f': \"0.1151947865254684\",\n        },\n{\n            'v': 0.7193297426690604,\n            'f': \"0.7193297426690604\",\n        },\n{\n            'v': 0.9829552383290087,\n            'f': \"0.9829552383290087\",\n        }],\n [{\n            'v': 27,\n            'f': \"27\",\n        },\n\"frozenset({'CARNE'})\",\n\"frozenset({'ARROZ'})\",\n{\n            'v': 0.3993003977191049,\n            'f': \"0.3993003977191049\",\n        },\n{\n            'v': 0.7191680331405887,\n            'f': \"0.7191680331405887\",\n        },\n{\n            'v': 1.1797136993877495,\n            'f': \"1.1797136993877495\",\n        }],\n [{\n            'v': 48,\n            'f': \"48\",\n        },\n\"frozenset({'TV', 'Lapapaengorda'})\",\n\"frozenset({'Lapapaeseconomica'})\",\n{\n            'v': 0.10800709185873784,\n            'f': \"0.10800709185873784\",\n        },\n{\n            'v': 0.7189792663476874,\n            'f': \"0.7189792663476874\",\n        },\n{\n            'v': 0.9824763167502546,\n            'f': \"0.9824763167502546\",\n        }],\n [{\n            'v': 53,\n            'f': \"53\",\n        },\n\"frozenset({'TV', 'ARROZ'})\",\n\"frozenset({'Lapapaeseconomica'})\",\n{\n            'v': 0.1593751497436389,\n            'f': \"0.1593751497436389\",\n        },\n{\n            'v': 0.7185137178656298,\n            'f': \"0.7185137178656298\",\n        },\n{\n            'v': 0.9818401504804759,\n            'f': \"0.9818401504804759\",\n        }],\n [{\n            'v': 26,\n            'f': \"26\",\n        },\n\"frozenset({'Sudada'})\",\n\"frozenset({'ARROZ'})\",\n{\n            'v': 0.11658440749436964,\n            'f': \"0.11658440749436964\",\n        },\n{\n            'v': 0.7183348095659876,\n            'f': \"0.7183348095659876\",\n        },\n{\n            'v': 1.1783468904914791,\n            'f': \"1.1783468904914791\",\n        }],\n [{\n            'v': 14,\n            'f': \"14\",\n        },\n\"frozenset({'Sudada'})\",\n\"frozenset({'Lapapaeseconomica'})\",\n{\n            'v': 0.11620106377881068,\n            'f': \"0.11620106377881068\",\n        },\n{\n            'v': 0.7159728373191615,\n            'f': \"0.7159728373191615\",\n        },\n{\n            'v': 0.9783680684922461,\n            'f': \"0.9783680684922461\",\n        }],\n [{\n            'v': 96,\n            'f': \"96\",\n        },\n\"frozenset({'Lapapaessaludable', 'CARNE'})\",\n\"frozenset({'Lapapaeseconomica', 'TV'})\",\n{\n            'v': 0.11236762662322104,\n            'f': \"0.11236762662322104\",\n        },\n{\n            'v': 0.7158119658119658,\n            'f': \"0.7158119658119658\",\n        },\n{\n            'v': 2.50306298835957,\n            'f': \"2.50306298835957\",\n        }],\n [{\n            'v': 12,\n            'f': \"12\",\n        },\n\"frozenset({'Sopa'})\",\n\"frozenset({'Lapapaeseconomica'})\",\n{\n            'v': 0.2875077866692223,\n            'f': \"0.2875077866692223\",\n        },\n{\n            'v': 0.7142006903940007,\n            'f': \"0.7142006903940007\",\n        },\n{\n            'v': 0.9759464515343375,\n            'f': \"0.9759464515343375\",\n        }],\n [{\n            'v': 116,\n            'f': \"116\",\n        },\n\"frozenset({'ENSALADA', 'CARNE', 'ARROZ'})\",\n\"frozenset({'Lapapaeseconomica'})\",\n{\n            'v': 0.10891753318319038,\n            'f': \"0.10891753318319038\",\n        },\n{\n            'v': 0.7138819095477387,\n            'f': \"0.7138819095477387\",\n        },\n{\n            'v': 0.9755108414321476,\n            'f': \"0.9755108414321476\",\n        }],\n [{\n            'v': 75,\n            'f': \"75\",\n        },\n\"frozenset({'Lapapaeseconomica', 'CARNE'})\",\n\"frozenset({'ARROZ'})\",\n{\n            'v': 0.28966409506924146,\n            'f': \"0.28966409506924146\",\n        },\n{\n            'v': 0.7118464437117287,\n            'f': \"0.7118464437117287\",\n        },\n{\n            'v': 1.167703461234088,\n            'f': \"1.167703461234088\",\n        }],\n [{\n            'v': 13,\n            'f': \"13\",\n        },\n\"frozenset({'Fritas'})\",\n\"frozenset({'Lapapaeseconomica'})\",\n{\n            'v': 0.13512865973453447,\n            'f': \"0.13512865973453447\",\n        },\n{\n            'v': 0.7110438729198184,\n            'f': \"0.7110438729198184\",\n        },\n{\n            'v': 0.9716326993166376,\n            'f': \"0.9716326993166376\",\n        }],\n [{\n            'v': 112,\n            'f': \"112\",\n        },\n\"frozenset({'CARNE', 'Sopa', 'ARROZ'})\",\n\"frozenset({'Lapapaeseconomica'})\",\n{\n            'v': 0.12760553931668983,\n            'f': \"0.12760553931668983\",\n        },\n{\n            'v': 0.7091877496671105,\n            'f': \"0.7091877496671105\",\n        },\n{\n            'v': 0.9690963297408938,\n            'f': \"0.9690963297408938\",\n        }],\n [{\n            'v': 79,\n            'f': \"79\",\n        },\n\"frozenset({'Lapapaeseconomica', 'ENSALADA'})\",\n\"frozenset({'CARNE'})\",\n{\n            'v': 0.12195121951219512,\n            'f': \"0.12195121951219512\",\n        },\n{\n            'v': 0.7089136490250696,\n            'f': \"0.7089136490250696\",\n        },\n{\n            'v': 1.276803222706842,\n            'f': \"1.276803222706842\",\n        }],\n [{\n            'v': 74,\n            'f': \"74\",\n        },\n\"frozenset({'Sopa', 'ARROZ'})\",\n\"frozenset({'Lapapaeseconomica'})\",\n{\n            'v': 0.1907134984905841,\n            'f': \"0.1907134984905841\",\n        },\n{\n            'v': 0.7086894586894587,\n            'f': \"0.7086894586894587\",\n        },\n{\n            'v': 0.9684154212539493,\n            'f': \"0.9684154212539493\",\n        }],\n [{\n            'v': 100,\n            'f': \"100\",\n        },\n\"frozenset({'TV', 'Lapapaessaludable', 'ARROZ'})\",\n\"frozenset({'Lapapaeseconomica'})\",\n{\n            'v': 0.10752791221428913,\n            'f': \"0.10752791221428913\",\n        },\n{\n            'v': 0.7085569940006315,\n            'f': \"0.7085569940006315\",\n        },\n{\n            'v': 0.9682344098873219,\n            'f': \"0.9682344098873219\",\n        }],\n [{\n            'v': 80,\n            'f': \"80\",\n        },\n\"frozenset({'ENSALADA', 'CARNE'})\",\n\"frozenset({'Lapapaeseconomica'})\",\n{\n            'v': 0.12195121951219512,\n            'f': \"0.12195121951219512\",\n        },\n{\n            'v': 0.7077308120133482,\n            'f': \"0.7077308120133482\",\n        },\n{\n            'v': 0.9671054423720904,\n            'f': \"0.9671054423720904\",\n        }],\n [{\n            'v': 9,\n            'f': \"9\",\n        },\n\"frozenset({'Lapapaengorda'})\",\n\"frozenset({'Lapapaeseconomica'})\",\n{\n            'v': 0.30245819157602183,\n            'f': \"0.30245819157602183\",\n        },\n{\n            'v': 0.7057245080500893,\n            'f': \"0.7057245080500893\",\n        },\n{\n            'v': 0.9643638527041196,\n            'f': \"0.9643638527041196\",\n        }],\n [{\n            'v': 29,\n            'f': \"29\",\n        },\n\"frozenset({'ENSALADA'})\",\n\"frozenset({'CARNE'})\",\n{\n            'v': 0.1723130001437539,\n            'f': \"0.1723130001437539\",\n        },\n{\n            'v': 0.7027555208129763,\n            'f': \"0.7027555208129763\",\n        },\n{\n            'v': 1.2657120017127819,\n            'f': \"1.2657120017127819\",\n        }],\n [{\n            'v': 19,\n            'f': \"19\",\n        },\n\"frozenset({'ENSALADA'})\",\n\"frozenset({'Lapapaeseconomica'})\",\n{\n            'v': 0.17202549235708467,\n            'f': \"0.17202549235708467\",\n        },\n{\n            'v': 0.7015829587649013,\n            'f': \"0.7015829587649013\",\n        },\n{\n            'v': 0.9587044765888374,\n            'f': \"0.9587044765888374\",\n        }],\n [{\n            'v': 66,\n            'f': \"66\",\n        },\n\"frozenset({'Lapapaengorda', 'ARROZ'})\",\n\"frozenset({'Lapapaeseconomica'})\",\n{\n            'v': 0.18664047151277013,\n            'f': \"0.18664047151277013\",\n        },\n{\n            'v': 0.6997844053180021,\n            'f': \"0.6997844053180021\",\n        },\n{\n            'v': 0.9562467754440405,\n            'f': \"0.9562467754440405\",\n        }],\n [{\n            'v': 82,\n            'f': \"82\",\n        },\n\"frozenset({'ENSALADA', 'ARROZ'})\",\n\"frozenset({'Lapapaeseconomica'})\",\n{\n            'v': 0.14341846758349705,\n            'f': \"0.14341846758349705\",\n        },\n{\n            'v': 0.6994624912362701,\n            'f': \"0.6994624912362701\",\n        },\n{\n            'v': 0.9558068838141515,\n            'f': \"0.9558068838141515\",\n        }],\n [{\n            'v': 62,\n            'f': \"62\",\n        },\n\"frozenset({'Lapapaengorda', 'Sopa'})\",\n\"frozenset({'Lapapaeseconomica'})\",\n{\n            'v': 0.12511380516555656,\n            'f': \"0.12511380516555656\",\n        },\n{\n            'v': 0.6977552111170496,\n            'f': \"0.6977552111170496\",\n        },\n{\n            'v': 0.9534739065480428,\n            'f': \"0.9534739065480428\",\n        }],\n [{\n            'v': 38,\n            'f': \"38\",\n        },\n\"frozenset({'TV', 'Sopa'})\",\n\"frozenset({'Lapapaessaludable'})\",\n{\n            'v': 0.10810292778762758,\n            'f': \"0.10810292778762758\",\n        },\n{\n            'v': 0.697372488408037,\n            'f': \"0.697372488408037\",\n        },\n{\n            'v': 2.497163085207159,\n            'f': \"2.497163085207159\",\n        }],\n [{\n            'v': 64,\n            'f': \"64\",\n        },\n\"frozenset({'Lapapaengorda', 'CARNE'})\",\n\"frozenset({'Lapapaeseconomica'})\",\n{\n            'v': 0.1661315827303656,\n            'f': \"0.1661315827303656\",\n        },\n{\n            'v': 0.6973049074818987,\n            'f': \"0.6973049074818987\",\n        },\n{\n            'v': 0.9528585721738962,\n            'f': \"0.9528585721738962\",\n        }],\n [{\n            'v': 25,\n            'f': \"25\",\n        },\n\"frozenset({'Sudada'})\",\n\"frozenset({'CARNE'})\",\n{\n            'v': 0.11236762662322104,\n            'f': \"0.11236762662322104\",\n        },\n{\n            'v': 0.6923531148509005,\n            'f': \"0.6923531148509005\",\n        },\n{\n            'v': 1.2469765386919343,\n            'f': \"1.2469765386919343\",\n        }],\n [{\n            'v': 32,\n            'f': \"32\",\n        },\n\"frozenset({'TV', 'Lapapaengorda'})\",\n\"frozenset({'Lapapaessaludable'})\",\n{\n            'v': 0.10379031098758924,\n            'f': \"0.10379031098758924\",\n        },\n{\n            'v': 0.6909090909090909,\n            'f': \"0.6909090909090909\",\n        },\n{\n            'v': 2.4740188432020966,\n            'f': \"2.4740188432020966\",\n        }],\n [{\n            'v': 41,\n            'f': \"41\",\n        },\n\"frozenset({'TV', 'CARNE'})\",\n\"frozenset({'Lapapaessaludable'})\",\n{\n            'v': 0.15003114667688916,\n            'f': \"0.15003114667688916\",\n        },\n{\n            'v': 0.6904079382579934,\n            'f': \"0.6904079382579934\",\n        },\n{\n            'v': 2.4722243073963734,\n            'f': \"2.4722243073963734\",\n        }],\n [{\n            'v': 37,\n            'f': \"37\",\n        },\n\"frozenset({'Lapapaessaludable'})\",\n\"frozenset({'Lapapaeseconomica', 'TV'})\",\n{\n            'v': 0.19258229910393407,\n            'f': \"0.19258229910393407\",\n        },\n{\n            'v': 0.689601921757035,\n            'f': \"0.689601921757035\",\n        },\n{\n            'v': 2.4114112776721788,\n            'f': \"2.4114112776721788\",\n        }],\n [{\n            'v': 91,\n            'f': \"91\",\n        },\n\"frozenset({'Lapapaeseconomica', 'TV', 'CARNE'})\",\n\"frozenset({'Lapapaessaludable'})\",\n{\n            'v': 0.11236762662322104,\n            'f': \"0.11236762662322104\",\n        },\n{\n            'v': 0.6893004115226337,\n            'f': \"0.6893004115226337\",\n        },\n{\n            'v': 2.468258457114935,\n            'f': \"2.468258457114935\",\n        }],\n [{\n            'v': 108,\n            'f': \"108\",\n        },\n\"frozenset({'Lapapaengorda', 'CARNE', 'ARROZ'})\",\n\"frozenset({'Lapapaeseconomica'})\",\n{\n            'v': 0.12108869615218745,\n            'f': \"0.12108869615218745\",\n        },\n{\n            'v': 0.6853810686194739,\n            'f': \"0.6853810686194739\",\n        },\n{\n            'v': 0.9365647931521609,\n            'f': \"0.9365647931521609\",\n        }],\n [{\n            'v': 45,\n            'f': \"45\",\n        },\n\"frozenset({'TV', 'ARROZ'})\",\n\"frozenset({'Lapapaessaludable'})\",\n{\n            'v': 0.1517561933969045,\n            'f': \"0.1517561933969045\",\n        },\n{\n            'v': 0.6841650464463167,\n            'f': \"0.6841650464463167\",\n        },\n{\n            'v': 2.449869655849036,\n            'f': \"2.449869655849036\",\n        }],\n [{\n            'v': 0,\n            'f': \"0\",\n        },\n\"frozenset({'TV'})\",\n\"frozenset({'Lapapaessaludable'})\",\n{\n            'v': 0.26283003498011404,\n            'f': \"0.26283003498011404\",\n        },\n{\n            'v': 0.6785846839044909,\n            'f': \"0.6785846839044909\",\n        },\n{\n            'v': 2.4298874002063866,\n            'f': \"2.4298874002063866\",\n        }],\n [{\n            'v': 98,\n            'f': \"98\",\n        },\n\"frozenset({'Lapapaeseconomica', 'TV', 'ARROZ'})\",\n\"frozenset({'Lapapaessaludable'})\",\n{\n            'v': 0.10752791221428913,\n            'f': \"0.10752791221428913\",\n        },\n{\n            'v': 0.6746843054720384,\n            'f': \"0.6746843054720384\",\n        },\n{\n            'v': 2.4159208597968376,\n            'f': \"2.4159208597968376\",\n        }],\n [{\n            'v': 34,\n            'f': \"34\",\n        },\n\"frozenset({'Lapapaeseconomica', 'TV'})\",\n\"frozenset({'Lapapaessaludable'})\",\n{\n            'v': 0.19258229910393407,\n            'f': \"0.19258229910393407\",\n        },\n{\n            'v': 0.6734249329758712,\n            'f': \"0.6734249329758712\",\n        },\n{\n            'v': 2.4114112776721788,\n            'f': \"2.4114112776721788\",\n        }],\n [{\n            'v': 54,\n            'f': \"54\",\n        },\n\"frozenset({'TV', 'CARNE'})\",\n\"frozenset({'ARROZ'})\",\n{\n            'v': 0.14619770952129954,\n            'f': \"0.14619770952129954\",\n        },\n{\n            'v': 0.6727673649393606,\n            'f': \"0.6727673649393606\",\n        },\n{\n            'v': 1.1035986589309479,\n            'f': \"1.1035986589309479\",\n        }],\n [{\n            'v': 102,\n            'f': \"102\",\n        },\n\"frozenset({'Lapapaessaludable', 'ARROZ'})\",\n\"frozenset({'Lapapaeseconomica', 'TV'})\",\n{\n            'v': 0.10752791221428913,\n            'f': \"0.10752791221428913\",\n        },\n{\n            'v': 0.6714542190305206,\n            'f': \"0.6714542190305206\",\n        },\n{\n            'v': 2.347952093992616,\n            'f': \"2.347952093992616\",\n        }],\n [{\n            'v': 111,\n            'f': \"111\",\n        },\n\"frozenset({'Lapapaeseconomica', 'Sopa', 'ARROZ'})\",\n\"frozenset({'CARNE'})\",\n{\n            'v': 0.12760553931668983,\n            'f': \"0.12760553931668983\",\n        },\n{\n            'v': 0.6690954773869348,\n            'f': \"0.6690954773869348\",\n        },\n{\n            'v': 1.2050879017509228,\n            'f': \"1.2050879017509228\",\n        }],\n [{\n            'v': 85,\n            'f': \"85\",\n        },\n\"frozenset({'Sopa', 'ARROZ'})\",\n\"frozenset({'CARNE'})\",\n{\n            'v': 0.1799319564904883,\n            'f': \"0.1799319564904883\",\n        },\n{\n            'v': 0.6686253561253562,\n            'f': \"0.6686253561253562\",\n        },\n{\n            'v': 1.2042411803728368,\n            'f': \"1.2042411803728368\",\n        }],\n [{\n            'v': 22,\n            'f': \"22\",\n        },\n\"frozenset({'Sopa'})\",\n\"frozenset({'ARROZ'})\",\n{\n            'v': 0.26910728832239206,\n            'f': \"0.26910728832239206\",\n        },\n{\n            'v': 0.6684918462087847,\n            'f': \"0.6684918462087847\",\n        },\n{\n            'v': 1.0965851547344072,\n            'f': \"1.0965851547344072\",\n        }],\n [{\n            'v': 104,\n            'f': \"104\",\n        },\n\"frozenset({'Lapapaeseconomica', 'TV', 'ARROZ'})\",\n\"frozenset({'CARNE'})\",\n{\n            'v': 0.10637788106761224,\n            'f': \"0.10637788106761224\",\n        },\n{\n            'v': 0.6674684305472038,\n            'f': \"0.6674684305472038\",\n        },\n{\n            'v': 1.2021574762310865,\n            'f': \"1.2021574762310865\",\n        }],\n [{\n            'v': 73,\n            'f': \"73\",\n        },\n\"frozenset({'Lapapaeseconomica', 'Sopa'})\",\n\"frozenset({'ARROZ'})\",\n{\n            'v': 0.1907134984905841,\n            'f': \"0.1907134984905841\",\n        },\n{\n            'v': 0.6633333333333333,\n            'f': \"0.6633333333333333\",\n        },\n{\n            'v': 1.088123198658492,\n            'f': \"1.088123198658492\",\n        }],\n [{\n            'v': 60,\n            'f': \"60\",\n        },\n\"frozenset({'Lapapaessaludable', 'CARNE'})\",\n\"frozenset({'ARROZ'})\",\n{\n            'v': 0.1040299008098136,\n            'f': \"0.1040299008098136\",\n        },\n{\n            'v': 0.6626984126984128,\n            'f': \"0.6626984126984128\",\n        },\n{\n            'v': 1.08708168327332,\n            'f': \"1.08708168327332\",\n        }],\n [{\n            'v': 70,\n            'f': \"70\",\n        },\n\"frozenset({'Lapapaengorda', 'ARROZ'})\",\n\"frozenset({'CARNE'})\",\n{\n            'v': 0.1766735349082371,\n            'f': \"0.1766735349082371\",\n        },\n{\n            'v': 0.6624146604383758,\n            'f': \"0.6624146604383758\",\n        },\n{\n            'v': 1.1930552816681166,\n            'f': \"1.1930552816681166\",\n        }],\n [{\n            'v': 55,\n            'f': \"55\",\n        },\n\"frozenset({'TV', 'ARROZ'})\",\n\"frozenset({'CARNE'})\",\n{\n            'v': 0.14619770952129954,\n            'f': \"0.14619770952129954\",\n        },\n{\n            'v': 0.6591056383668179,\n            'f': \"0.6591056383668179\",\n        },\n{\n            'v': 1.1870955007402368,\n            'f': \"1.1870955007402368\",\n        }],\n [{\n            'v': 76,\n            'f': \"76\",\n        },\n\"frozenset({'Lapapaeseconomica', 'ARROZ'})\",\n\"frozenset({'CARNE'})\",\n{\n            'v': 0.28966409506924146,\n            'f': \"0.28966409506924146\",\n        },\n{\n            'v': 0.6580666231221424,\n            'f': \"0.6580666231221424\",\n        },\n{\n            'v': 1.1852241613822379,\n            'f': \"1.1852241613822379\",\n        }],\n [{\n            'v': 28,\n            'f': \"28\",\n        },\n\"frozenset({'ARROZ'})\",\n\"frozenset({'CARNE'})\",\n{\n            'v': 0.3993003977191049,\n            'f': \"0.3993003977191049\",\n        },\n{\n            'v': 0.6550070743593776,\n            'f': \"0.6550070743593776\",\n        },\n{\n            'v': 1.1797136993877493,\n            'f': \"1.1797136993877493\",\n        }],\n [{\n            'v': 68,\n            'f': \"68\",\n        },\n\"frozenset({'Lapapaengorda', 'Sopa'})\",\n\"frozenset({'ARROZ'})\",\n{\n            'v': 0.11744693085437731,\n            'f': \"0.11744693085437731\",\n        },\n{\n            'v': 0.6549973276322821,\n            'f': \"0.6549973276322821\",\n        },\n{\n            'v': 1.0744489255115623,\n            'f': \"1.0744489255115623\",\n        }],\n [{\n            'v': 103,\n            'f': \"103\",\n        },\n\"frozenset({'Lapapaeseconomica', 'TV', 'CARNE'})\",\n\"frozenset({'ARROZ'})\",\n{\n            'v': 0.10637788106761224,\n            'f': \"0.10637788106761224\",\n        },\n{\n            'v': 0.6525573192239859,\n            'f': \"0.6525573192239859\",\n        },\n{\n            'v': 1.0704463680934886,\n            'f': \"1.0704463680934886\",\n        }],\n [{\n            'v': 61,\n            'f': \"61\",\n        },\n\"frozenset({'Lapapaessaludable', 'ARROZ'})\",\n\"frozenset({'CARNE'})\",\n{\n            'v': 0.1040299008098136,\n            'f': \"0.1040299008098136\",\n        },\n{\n            'v': 0.6496110113704369,\n            'f': \"0.6496110113704369\",\n        },\n{\n            'v': 1.1699950113307713,\n            'f': \"1.1699950113307713\",\n        }],\n [{\n            'v': 107,\n            'f': \"107\",\n        },\n\"frozenset({'Lapapaeseconomica', 'Lapapaengorda', 'ARROZ'})\",\n\"frozenset({'CARNE'})\",\n{\n            'v': 0.12108869615218745,\n            'f': \"0.12108869615218745\",\n        },\n{\n            'v': 0.6487804878048781,\n            'f': \"0.6487804878048781\",\n        },\n{\n            'v': 1.168499180115647,\n            'f': \"1.168499180115647\",\n        }],\n [{\n            'v': 117,\n            'f': \"117\",\n        },\n\"frozenset({'Lapapaeseconomica', 'ENSALADA'})\",\n\"frozenset({'CARNE', 'ARROZ'})\",\n{\n            'v': 0.10891753318319038,\n            'f': \"0.10891753318319038\",\n        },\n{\n            'v': 0.6331476323119777,\n            'f': \"0.6331476323119777\",\n        },\n{\n            'v': 1.5856423783413731,\n            'f': \"1.5856423783413731\",\n        }],\n [{\n            'v': 118,\n            'f': \"118\",\n        },\n\"frozenset({'ENSALADA', 'CARNE'})\",\n\"frozenset({'Lapapaeseconomica', 'ARROZ'})\",\n{\n            'v': 0.10891753318319038,\n            'f': \"0.10891753318319038\",\n        },\n{\n            'v': 0.632091212458287,\n            'f': \"0.632091212458287\",\n        },\n{\n            'v': 1.4360016887428688,\n            'f': \"1.4360016887428688\",\n        }],\n [{\n            'v': 24,\n            'f': \"24\",\n        },\n\"frozenset({'Fritas'})\",\n\"frozenset({'ARROZ'})\",\n{\n            'v': 0.1190761416455029,\n            'f': \"0.1190761416455029\",\n        },\n{\n            'v': 0.6265758951084216,\n            'f': \"0.6265758951084216\",\n        },\n{\n            'v': 1.0278267847050504,\n            'f': \"1.0278267847050504\",\n        }],\n [{\n            'v': 11,\n            'f': \"11\",\n        },\n\"frozenset({'Lapapaengorda'})\",\n\"frozenset({'ARROZ'})\",\n{\n            'v': 0.26671139010014855,\n            'f': \"0.26671139010014855\",\n        },\n{\n            'v': 0.6223166368515206,\n            'f': \"0.6223166368515206\",\n        },\n{\n            'v': 1.0208399539737765,\n            'f': \"1.0208399539737765\",\n        }],\n [{\n            'v': 89,\n            'f': \"89\",\n        },\n\"frozenset({'ENSALADA'})\",\n\"frozenset({'CARNE', 'ARROZ'})\",\n{\n            'v': 0.1525707987924673,\n            'f': \"0.1525707987924673\",\n        },\n{\n            'v': 0.6222395935118233,\n            'f': \"0.6222395935118233\",\n        },\n{\n            'v': 1.5583245022198777,\n            'f': \"1.5583245022198777\",\n        }],\n [{\n            'v': 65,\n            'f': \"65\",\n        },\n\"frozenset({'Lapapaeseconomica', 'Lapapaengorda'})\",\n\"frozenset({'ARROZ'})\",\n{\n            'v': 0.18664047151277013,\n            'f': \"0.18664047151277013\",\n        },\n{\n            'v': 0.6170785804816223,\n            'f': \"0.6170785804816223\",\n        },\n{\n            'v': 1.0122475158049817,\n            'f': \"1.0122475158049817\",\n        }],\n [{\n            'v': 17,\n            'f': \"17\",\n        },\n\"frozenset({'Lapapaeseconomica'})\",\n\"frozenset({'ARROZ'})\",\n{\n            'v': 0.44017442139057933,\n            'f': \"0.44017442139057933\",\n        },\n{\n            'v': 0.6014929282346778,\n            'f': \"0.6014929282346778\",\n        },\n{\n            'v': 0.9866810186550458,\n            'f': \"0.9866810186550458\",\n        }],\n [{\n            'v': 83,\n            'f': \"83\",\n        },\n\"frozenset({'ENSALADA'})\",\n\"frozenset({'Lapapaeseconomica', 'ARROZ'})\",\n{\n            'v': 0.14341846758349705,\n            'f': \"0.14341846758349705\",\n        },\n{\n            'v': 0.5849130349814344,\n            'f': \"0.5849130349814344\",\n        },\n{\n            'v': 1.3288210458336114,\n            'f': \"1.3288210458336114\",\n        }],\n [{\n            'v': 90,\n            'f': \"90\",\n        },\n\"frozenset({'Lapapaeseconomica', 'TV', 'Lapapaessaludable'})\",\n\"frozenset({'CARNE'})\",\n{\n            'v': 0.11236762662322104,\n            'f': \"0.11236762662322104\",\n        },\n{\n            'v': 0.5834784772331425,\n            'f': \"0.5834784772331425\",\n        },\n{\n            'v': 1.050885677170834,\n            'f': \"1.050885677170834\",\n        }],\n [{\n            'v': 44,\n            'f': \"44\",\n        },\n\"frozenset({'TV', 'Lapapaessaludable'})\",\n\"frozenset({'ARROZ'})\",\n{\n            'v': 0.1517561933969045,\n            'f': \"0.1517561933969045\",\n        },\n{\n            'v': 0.5773928896991796,\n            'f': \"0.5773928896991796\",\n        },\n{\n            'v': 0.9471476352092579,\n            'f': \"0.9471476352092579\",\n        }],\n [{\n            'v': 8,\n            'f': \"8\",\n        },\n\"frozenset({'Lapapaessaludable'})\",\n\"frozenset({'ARROZ'})\",\n{\n            'v': 0.16014183717475683,\n            'f': \"0.16014183717475683\",\n        },\n{\n            'v': 0.5734385724090597,\n            'f': \"0.5734385724090597\",\n        },\n{\n            'v': 0.9406610255938271,\n            'f': \"0.9406610255938271\",\n        }],\n [{\n            'v': 5,\n            'f': \"5\",\n        },\n\"frozenset({'TV'})\",\n\"frozenset({'ARROZ'})\",\n{\n            'v': 0.221812257415305,\n            'f': \"0.221812257415305\",\n        },\n{\n            'v': 0.5726834096251392,\n            'f': \"0.5726834096251392\",\n        },\n{\n            'v': 0.939422266582851,\n            'f': \"0.939422266582851\",\n        }],\n [{\n            'v': 56,\n            'f': \"56\",\n        },\n\"frozenset({'Lapapaeseconomica', 'Lapapaessaludable'})\",\n\"frozenset({'CARNE'})\",\n{\n            'v': 0.11869279792994393,\n            'f': \"0.11869279792994393\",\n        },\n{\n            'v': 0.5720554272517321,\n            'f': \"0.5720554272517321\",\n        },\n{\n            'v': 1.0303119626578405,\n            'f': \"1.0303119626578405\",\n        }],\n [{\n            'v': 40,\n            'f': \"40\",\n        },\n\"frozenset({'TV', 'Lapapaessaludable'})\",\n\"frozenset({'CARNE'})\",\n{\n            'v': 0.15003114667688916,\n            'f': \"0.15003114667688916\",\n        },\n{\n            'v': 0.5708295350957155,\n            'f': \"0.5708295350957155\",\n        },\n{\n            'v': 1.0281040448703278,\n            'f': \"1.0281040448703278\",\n        }],\n [{\n            'v': 50,\n            'f': \"50\",\n        },\n\"frozenset({'Lapapaeseconomica', 'TV'})\",\n\"frozenset({'CARNE'})\",\n{\n            'v': 0.16301691504144905,\n            'f': \"0.16301691504144905\",\n        },\n{\n            'v': 0.5700402144772118,\n            'f': \"0.5700402144772118\",\n        },\n{\n            'v': 1.0266824230538476,\n            'f': \"1.0266824230538476\",\n        }],\n [{\n            'v': 71,\n            'f': \"71\",\n        },\n\"frozenset({'Lapapaeseconomica', 'Sopa'})\",\n\"frozenset({'CARNE'})\",\n{\n            'v': 0.16383152043701182,\n            'f': \"0.16383152043701182\",\n        },\n{\n            'v': 0.5698333333333333,\n            'f': \"0.5698333333333333\",\n        },\n{\n            'v': 1.0263098155979402,\n            'f': \"1.0263098155979402\",\n        }],\n [{\n            'v': 21,\n            'f': \"21\",\n        },\n\"frozenset({'Sopa'})\",\n\"frozenset({'CARNE'})\",\n{\n            'v': 0.22775408500646893,\n            'f': \"0.22775408500646893\",\n        },\n{\n            'v': 0.5657659802404476,\n            'f': \"0.5657659802404476\",\n        },\n{\n            'v': 1.0189842272924745,\n            'f': \"1.0189842272924745\",\n        }],\n [{\n            'v': 67,\n            'f': \"67\",\n        },\n\"frozenset({'Lapapaengorda', 'Sopa'})\",\n\"frozenset({'CARNE'})\",\n{\n            'v': 0.10081939719200729,\n            'f': \"0.10081939719200729\",\n        },\n{\n            'v': 0.5622661678246926,\n            'f': \"0.5622661678246926\",\n        },\n{\n            'v': 1.012680819567922,\n            'f': \"1.012680819567922\",\n        }],\n [{\n            'v': 7,\n            'f': \"7\",\n        },\n\"frozenset({'Lapapaessaludable'})\",\n\"frozenset({'CARNE'})\",\n{\n            'v': 0.15697925152139536,\n            'f': \"0.15697925152139536\",\n        },\n{\n            'v': 0.5621139327385037,\n            'f': \"0.5621139327385037\",\n        },\n{\n            'v': 1.0124066334961452,\n            'f': \"1.0124066334961452\",\n        }],\n [{\n            'v': 4,\n            'f': \"4\",\n        },\n\"frozenset({'TV'})\",\n\"frozenset({'CARNE'})\",\n{\n            'v': 0.21730796875748717,\n            'f': \"0.21730796875748717\",\n        },\n{\n            'v': 0.5610540640851168,\n            'f': \"0.5610540640851168\",\n        },\n{\n            'v': 1.010497735685881,\n            'f': \"1.010497735685881\",\n        }],\n [{\n            'v': 113,\n            'f': \"113\",\n        },\n\"frozenset({'CARNE', 'Sopa'})\",\n\"frozenset({'Lapapaeseconomica', 'ARROZ'})\",\n{\n            'v': 0.12760553931668983,\n            'f': \"0.12760553931668983\",\n        },\n{\n            'v': 0.5602777193351568,\n            'f': \"0.5602777193351568\",\n        },\n{\n            'v': 1.2728538781630074,\n            'f': \"1.2728538781630074\",\n        }],\n [{\n            'v': 97,\n            'f': \"97\",\n        },\n\"frozenset({'Lapapaeseconomica', 'TV', 'Lapapaessaludable'})\",\n\"frozenset({'ARROZ'})\",\n{\n            'v': 0.10752791221428913,\n            'f': \"0.10752791221428913\",\n        },\n{\n            'v': 0.5583478477233143,\n            'f': \"0.5583478477233143\",\n        },\n{\n            'v': 0.9159064010484079,\n            'f': \"0.9159064010484079\",\n        }],\n [{\n            'v': 52,\n            'f': \"52\",\n        },\n\"frozenset({'Lapapaeseconomica', 'TV'})\",\n\"frozenset({'ARROZ'})\",\n{\n            'v': 0.1593751497436389,\n            'f': \"0.1593751497436389\",\n        },\n{\n            'v': 0.5573056300268097,\n            'f': \"0.5573056300268097\",\n        },\n{\n            'v': 0.9141967609675752,\n            'f': \"0.9141967609675752\",\n        }],\n [{\n            'v': 15,\n            'f': \"15\",\n        },\n\"frozenset({'Lapapaeseconomica'})\",\n\"frozenset({'CARNE'})\",\n{\n            'v': 0.4069193540658393,\n            'f': \"0.4069193540658393\",\n        },\n{\n            'v': 0.5560502881089576,\n            'f': \"0.5560502881089576\",\n        },\n{\n            'v': 1.001485584063678,\n            'f': \"1.001485584063678\",\n        }],\n [{\n            'v': 10,\n            'f': \"10\",\n        },\n\"frozenset({'Lapapaengorda'})\",\n\"frozenset({'CARNE'})\",\n{\n            'v': 0.23824811921989553,\n            'f': \"0.23824811921989553\",\n        },\n{\n            'v': 0.5559033989266547,\n            'f': \"0.5559033989266547\",\n        },\n{\n            'v': 1.0012210263398946,\n            'f': \"1.0012210263398946\",\n        }],\n [{\n            'v': 58,\n            'f': \"58\",\n        },\n\"frozenset({'Lapapaeseconomica', 'Lapapaessaludable'})\",\n\"frozenset({'ARROZ'})\",\n{\n            'v': 0.1151947865254684,\n            'f': \"0.1151947865254684\",\n        },\n{\n            'v': 0.5551963048498845,\n            'f': \"0.5551963048498845\",\n        },\n{\n            'v': 0.9107366519346204,\n            'f': \"0.9107366519346204\",\n        }],\n [{\n            'v': 23,\n            'f': \"23\",\n        },\n\"frozenset({'Fritas'})\",\n\"frozenset({'CARNE'})\",\n{\n            'v': 0.10470075231204179,\n            'f': \"0.10470075231204179\",\n        },\n{\n            'v': 0.5509329299041856,\n            'f': \"0.5509329299041856\",\n        },\n{\n            'v': 0.9922688628782645,\n            'f': \"0.9922688628782645\",\n        }],\n [{\n            'v': 63,\n            'f': \"63\",\n        },\n\"frozenset({'Lapapaeseconomica', 'Lapapaengorda'})\",\n\"frozenset({'CARNE'})\",\n{\n            'v': 0.1661315827303656,\n            'f': \"0.1661315827303656\",\n        },\n{\n            'v': 0.5492712294043093,\n            'f': \"0.5492712294043093\",\n        },\n{\n            'v': 0.9892760236850376,\n            'f': \"0.9892760236850376\",\n        }],\n [{\n            'v': 47,\n            'f': \"47\",\n        },\n\"frozenset({'Lapapaessaludable'})\",\n\"frozenset({'TV', 'ARROZ'})\",\n{\n            'v': 0.1517561933969045,\n            'f': \"0.1517561933969045\",\n        },\n{\n            'v': 0.5434111187371311,\n            'f': \"0.5434111187371311\",\n        },\n{\n            'v': 2.4498696558490365,\n            'f': \"2.4498696558490365\",\n        }],\n [{\n            'v': 94,\n            'f': \"94\",\n        },\n\"frozenset({'Lapapaeseconomica', 'Lapapaessaludable'})\",\n\"frozenset({'TV', 'CARNE'})\",\n{\n            'v': 0.11236762662322104,\n            'f': \"0.11236762662322104\",\n        },\n{\n            'v': 0.5415704387990762,\n            'f': \"0.5415704387990762\",\n        },\n{\n            'v': 2.4921793797790346,\n            'f': \"2.4921793797790346\",\n        }],\n [{\n            'v': 31,\n            'f': \"31\",\n        },\n\"frozenset({'OTROS'})\",\n\"frozenset({'ARROZ'})\",\n{\n            'v': 0.11945948536106187,\n            'f': \"0.11945948536106187\",\n        },\n{\n            'v': 0.5389105058365758,\n            'f': \"0.5389105058365758\",\n        },\n{\n            'v': 0.8840216433189358,\n            'f': \"0.8840216433189358\",\n        }],\n [{\n            'v': 43,\n            'f': \"43\",\n        },\n\"frozenset({'Lapapaessaludable'})\",\n\"frozenset({'TV', 'CARNE'})\",\n{\n            'v': 0.15003114667688916,\n            'f': \"0.15003114667688916\",\n        },\n{\n            'v': 0.5372340425531914,\n            'f': \"0.5372340425531914\",\n        },\n{\n            'v': 2.472224307396373,\n            'f': \"2.472224307396373\",\n        }],\n [{\n            'v': 119,\n            'f': \"119\",\n        },\n\"frozenset({'ENSALADA', 'ARROZ'})\",\n\"frozenset({'Lapapaeseconomica', 'CARNE'})\",\n{\n            'v': 0.10891753318319038,\n            'f': \"0.10891753318319038\",\n        },\n{\n            'v': 0.53119887824258,\n            'f': \"0.53119887824258\",\n        },\n{\n            'v': 1.3054156135238346,\n            'f': \"1.3054156135238346\",\n        }],\n [{\n            'v': 78,\n            'f': \"78\",\n        },\n\"frozenset({'CARNE'})\",\n\"frozenset({'Lapapaeseconomica', 'ARROZ'})\",\n{\n            'v': 0.28966409506924146,\n            'f': \"0.28966409506924146\",\n        },\n{\n            'v': 0.5217053594545612,\n            'f': \"0.5217053594545612\",\n        },\n{\n            'v': 1.1852241613822379,\n            'f': \"1.1852241613822379\",\n        }],\n [{\n            'v': 101,\n            'f': \"101\",\n        },\n\"frozenset({'Lapapaeseconomica', 'Lapapaessaludable'})\",\n\"frozenset({'TV', 'ARROZ'})\",\n{\n            'v': 0.10752791221428913,\n            'f': \"0.10752791221428913\",\n        },\n{\n            'v': 0.5182448036951501,\n            'f': \"0.5182448036951501\",\n        },\n{\n            'v': 2.336411926617863,\n            'f': \"2.336411926617863\",\n        }],\n [{\n            'v': 95,\n            'f': \"95\",\n        },\n\"frozenset({'TV', 'CARNE'})\",\n\"frozenset({'Lapapaeseconomica', 'Lapapaessaludable'})\",\n{\n            'v': 0.11236762662322104,\n            'f': \"0.11236762662322104\",\n        },\n{\n            'v': 0.5170893054024256,\n            'f': \"0.5170893054024256\",\n        },\n{\n            'v': 2.4921793797790346,\n            'f': \"2.4921793797790346\",\n        }],\n [{\n            'v': 109,\n            'f': \"109\",\n        },\n\"frozenset({'Lapapaengorda', 'CARNE'})\",\n\"frozenset({'Lapapaeseconomica', 'ARROZ'})\",\n{\n            'v': 0.12108869615218745,\n            'f': \"0.12108869615218745\",\n        },\n{\n            'v': 0.508246178600161,\n            'f': \"0.508246178600161\",\n        },\n{\n            'v': 1.154647235054078,\n            'f': \"1.154647235054078\",\n        }]],\n        columns: [[\"number\", \"index\"], [\"string\", \"antecedents\"], [\"string\", \"consequents\"], [\"number\", \"support\"], [\"number\", \"confidence\"], [\"number\", \"lift\"]],\n        columnOptions: [{\"width\": \"1px\", \"className\": \"index_column\"}],\n        rowsPerPage: 25,\n        helpUrl: \"https://colab.research.google.com/notebooks/data_table.ipynb\",\n        suppressOutputScrolling: true,\n        minimumWidth: undefined,\n      });\n    ",
            "text/html": [
              "<div>\n",
              "<style scoped>\n",
              "    .dataframe tbody tr th:only-of-type {\n",
              "        vertical-align: middle;\n",
              "    }\n",
              "\n",
              "    .dataframe tbody tr th {\n",
              "        vertical-align: top;\n",
              "    }\n",
              "\n",
              "    .dataframe thead th {\n",
              "        text-align: right;\n",
              "    }\n",
              "</style>\n",
              "<table border=\"1\" class=\"dataframe\">\n",
              "  <thead>\n",
              "    <tr style=\"text-align: right;\">\n",
              "      <th></th>\n",
              "      <th>antecedents</th>\n",
              "      <th>consequents</th>\n",
              "      <th>support</th>\n",
              "      <th>confidence</th>\n",
              "      <th>lift</th>\n",
              "    </tr>\n",
              "  </thead>\n",
              "  <tbody>\n",
              "    <tr>\n",
              "      <th>2</th>\n",
              "      <td>(Lapapadaenergia)</td>\n",
              "      <td>(TV)</td>\n",
              "      <td>0.120130</td>\n",
              "      <td>0.970201</td>\n",
              "      <td>2.504903</td>\n",
              "    </tr>\n",
              "    <tr>\n",
              "      <th>33</th>\n",
              "      <td>(Lapapaessaludable, Lapapaengorda)</td>\n",
              "      <td>(TV)</td>\n",
              "      <td>0.103790</td>\n",
              "      <td>0.968261</td>\n",
              "      <td>2.499894</td>\n",
              "    </tr>\n",
              "    <tr>\n",
              "      <th>42</th>\n",
              "      <td>(Lapapaessaludable, CARNE)</td>\n",
              "      <td>(TV)</td>\n",
              "      <td>0.150031</td>\n",
              "      <td>0.955739</td>\n",
              "      <td>2.467563</td>\n",
              "    </tr>\n",
              "    <tr>\n",
              "      <th>39</th>\n",
              "      <td>(Lapapaessaludable, Sopa)</td>\n",
              "      <td>(TV)</td>\n",
              "      <td>0.108103</td>\n",
              "      <td>0.950295</td>\n",
              "      <td>2.453508</td>\n",
              "    </tr>\n",
              "    <tr>\n",
              "      <th>46</th>\n",
              "      <td>(Lapapaessaludable, ARROZ)</td>\n",
              "      <td>(TV)</td>\n",
              "      <td>0.151756</td>\n",
              "      <td>0.947636</td>\n",
              "      <td>2.446643</td>\n",
              "    </tr>\n",
              "    <tr>\n",
              "      <th>...</th>\n",
              "      <td>...</td>\n",
              "      <td>...</td>\n",
              "      <td>...</td>\n",
              "      <td>...</td>\n",
              "      <td>...</td>\n",
              "    </tr>\n",
              "    <tr>\n",
              "      <th>119</th>\n",
              "      <td>(ENSALADA, ARROZ)</td>\n",
              "      <td>(Lapapaeseconomica, CARNE)</td>\n",
              "      <td>0.108918</td>\n",
              "      <td>0.531199</td>\n",
              "      <td>1.305416</td>\n",
              "    </tr>\n",
              "    <tr>\n",
              "      <th>78</th>\n",
              "      <td>(CARNE)</td>\n",
              "      <td>(Lapapaeseconomica, ARROZ)</td>\n",
              "      <td>0.289664</td>\n",
              "      <td>0.521705</td>\n",
              "      <td>1.185224</td>\n",
              "    </tr>\n",
              "    <tr>\n",
              "      <th>101</th>\n",
              "      <td>(Lapapaeseconomica, Lapapaessaludable)</td>\n",
              "      <td>(TV, ARROZ)</td>\n",
              "      <td>0.107528</td>\n",
              "      <td>0.518245</td>\n",
              "      <td>2.336412</td>\n",
              "    </tr>\n",
              "    <tr>\n",
              "      <th>95</th>\n",
              "      <td>(TV, CARNE)</td>\n",
              "      <td>(Lapapaeseconomica, Lapapaessaludable)</td>\n",
              "      <td>0.112368</td>\n",
              "      <td>0.517089</td>\n",
              "      <td>2.492179</td>\n",
              "    </tr>\n",
              "    <tr>\n",
              "      <th>109</th>\n",
              "      <td>(Lapapaengorda, CARNE)</td>\n",
              "      <td>(Lapapaeseconomica, ARROZ)</td>\n",
              "      <td>0.121089</td>\n",
              "      <td>0.508246</td>\n",
              "      <td>1.154647</td>\n",
              "    </tr>\n",
              "  </tbody>\n",
              "</table>\n",
              "<p>120 rows × 5 columns</p>\n",
              "</div>"
            ],
            "text/plain": [
              "                                antecedents  ...      lift\n",
              "2                         (Lapapadaenergia)  ...  2.504903\n",
              "33       (Lapapaessaludable, Lapapaengorda)  ...  2.499894\n",
              "42               (Lapapaessaludable, CARNE)  ...  2.467563\n",
              "39                (Lapapaessaludable, Sopa)  ...  2.453508\n",
              "46               (Lapapaessaludable, ARROZ)  ...  2.446643\n",
              "..                                      ...  ...       ...\n",
              "119                       (ENSALADA, ARROZ)  ...  1.305416\n",
              "78                                  (CARNE)  ...  1.185224\n",
              "101  (Lapapaeseconomica, Lapapaessaludable)  ...  2.336412\n",
              "95                              (TV, CARNE)  ...  2.492179\n",
              "109                  (Lapapaengorda, CARNE)  ...  1.154647\n",
              "\n",
              "[120 rows x 5 columns]"
            ]
          },
          "metadata": {},
          "execution_count": 10
        }
      ]
    },
    {
      "cell_type": "code",
      "metadata": {
        "colab": {
          "base_uri": "https://localhost:8080/",
          "height": 152
        },
        "id": "UHGSkNCwtGMS",
        "outputId": "cc4d60af-e32f-4543-a8ef-7004f7d2b685"
      },
      "source": [
        "regras[regras['antecedents'] == {'Lapapaengorda'}]"
      ],
      "execution_count": null,
      "outputs": [
        {
          "output_type": "execute_result",
          "data": {
            "application/vnd.google.colaboratory.module+javascript": "\n      import \"https://ssl.gstatic.com/colaboratory/data_table/a6224c040fa35dcf/data_table.js\";\n\n      window.createDataTable({\n        data: [[{\n            'v': 9,\n            'f': \"9\",\n        },\n\"frozenset({'Lapapaengorda'})\",\n\"frozenset({'Lapapaeseconomica'})\",\n{\n            'v': 0.30245819157602183,\n            'f': \"0.30245819157602183\",\n        },\n{\n            'v': 0.7057245080500893,\n            'f': \"0.7057245080500893\",\n        },\n{\n            'v': 0.9643638527041196,\n            'f': \"0.9643638527041196\",\n        }],\n [{\n            'v': 11,\n            'f': \"11\",\n        },\n\"frozenset({'Lapapaengorda'})\",\n\"frozenset({'ARROZ'})\",\n{\n            'v': 0.26671139010014855,\n            'f': \"0.26671139010014855\",\n        },\n{\n            'v': 0.6223166368515206,\n            'f': \"0.6223166368515206\",\n        },\n{\n            'v': 1.0208399539737765,\n            'f': \"1.0208399539737765\",\n        }],\n [{\n            'v': 10,\n            'f': \"10\",\n        },\n\"frozenset({'Lapapaengorda'})\",\n\"frozenset({'CARNE'})\",\n{\n            'v': 0.23824811921989553,\n            'f': \"0.23824811921989553\",\n        },\n{\n            'v': 0.5559033989266547,\n            'f': \"0.5559033989266547\",\n        },\n{\n            'v': 1.0012210263398946,\n            'f': \"1.0012210263398946\",\n        }]],\n        columns: [[\"number\", \"index\"], [\"string\", \"antecedents\"], [\"string\", \"consequents\"], [\"number\", \"support\"], [\"number\", \"confidence\"], [\"number\", \"lift\"]],\n        columnOptions: [{\"width\": \"1px\", \"className\": \"index_column\"}],\n        rowsPerPage: 25,\n        helpUrl: \"https://colab.research.google.com/notebooks/data_table.ipynb\",\n        suppressOutputScrolling: true,\n        minimumWidth: undefined,\n      });\n    ",
            "text/html": [
              "<div>\n",
              "<style scoped>\n",
              "    .dataframe tbody tr th:only-of-type {\n",
              "        vertical-align: middle;\n",
              "    }\n",
              "\n",
              "    .dataframe tbody tr th {\n",
              "        vertical-align: top;\n",
              "    }\n",
              "\n",
              "    .dataframe thead th {\n",
              "        text-align: right;\n",
              "    }\n",
              "</style>\n",
              "<table border=\"1\" class=\"dataframe\">\n",
              "  <thead>\n",
              "    <tr style=\"text-align: right;\">\n",
              "      <th></th>\n",
              "      <th>antecedents</th>\n",
              "      <th>consequents</th>\n",
              "      <th>support</th>\n",
              "      <th>confidence</th>\n",
              "      <th>lift</th>\n",
              "    </tr>\n",
              "  </thead>\n",
              "  <tbody>\n",
              "    <tr>\n",
              "      <th>9</th>\n",
              "      <td>(Lapapaengorda)</td>\n",
              "      <td>(Lapapaeseconomica)</td>\n",
              "      <td>0.302458</td>\n",
              "      <td>0.705725</td>\n",
              "      <td>0.964364</td>\n",
              "    </tr>\n",
              "    <tr>\n",
              "      <th>11</th>\n",
              "      <td>(Lapapaengorda)</td>\n",
              "      <td>(ARROZ)</td>\n",
              "      <td>0.266711</td>\n",
              "      <td>0.622317</td>\n",
              "      <td>1.020840</td>\n",
              "    </tr>\n",
              "    <tr>\n",
              "      <th>10</th>\n",
              "      <td>(Lapapaengorda)</td>\n",
              "      <td>(CARNE)</td>\n",
              "      <td>0.238248</td>\n",
              "      <td>0.555903</td>\n",
              "      <td>1.001221</td>\n",
              "    </tr>\n",
              "  </tbody>\n",
              "</table>\n",
              "</div>"
            ],
            "text/plain": [
              "        antecedents          consequents   support  confidence      lift\n",
              "9   (Lapapaengorda)  (Lapapaeseconomica)  0.302458    0.705725  0.964364\n",
              "11  (Lapapaengorda)              (ARROZ)  0.266711    0.622317  1.020840\n",
              "10  (Lapapaengorda)              (CARNE)  0.238248    0.555903  1.001221"
            ]
          },
          "metadata": {},
          "execution_count": 14
        }
      ]
    },
    {
      "cell_type": "code",
      "metadata": {
        "colab": {
          "base_uri": "https://localhost:8080/",
          "height": 269
        },
        "id": "68px-ceSuP8z",
        "outputId": "f7af779a-a09d-45df-c1e5-4934538c6195"
      },
      "source": [
        "regras[regras['antecedents'] == {'Lapapaessaludable'}]"
      ],
      "execution_count": null,
      "outputs": [
        {
          "output_type": "execute_result",
          "data": {
            "application/vnd.google.colaboratory.module+javascript": "\n      import \"https://ssl.gstatic.com/colaboratory/data_table/a6224c040fa35dcf/data_table.js\";\n\n      window.createDataTable({\n        data: [[{\n            'v': 1,\n            'f': \"1\",\n        },\n\"frozenset({'Lapapaessaludable'})\",\n\"frozenset({'TV'})\",\n{\n            'v': 0.26283003498011404,\n            'f': \"0.26283003498011404\",\n        },\n{\n            'v': 0.9411461908030199,\n            'f': \"0.9411461908030199\",\n        },\n{\n            'v': 2.429887400206386,\n            'f': \"2.429887400206386\",\n        }],\n [{\n            'v': 6,\n            'f': \"6\",\n        },\n\"frozenset({'Lapapaessaludable'})\",\n\"frozenset({'Lapapaeseconomica'})\",\n{\n            'v': 0.20748478604628875,\n            'f': \"0.20748478604628875\",\n        },\n{\n            'v': 0.742964996568291,\n            'f': \"0.742964996568291\",\n        },\n{\n            'v': 1.015252521829732,\n            'f': \"1.015252521829732\",\n        }],\n [{\n            'v': 37,\n            'f': \"37\",\n        },\n\"frozenset({'Lapapaessaludable'})\",\n\"frozenset({'Lapapaeseconomica', 'TV'})\",\n{\n            'v': 0.19258229910393407,\n            'f': \"0.19258229910393407\",\n        },\n{\n            'v': 0.689601921757035,\n            'f': \"0.689601921757035\",\n        },\n{\n            'v': 2.4114112776721788,\n            'f': \"2.4114112776721788\",\n        }],\n [{\n            'v': 8,\n            'f': \"8\",\n        },\n\"frozenset({'Lapapaessaludable'})\",\n\"frozenset({'ARROZ'})\",\n{\n            'v': 0.16014183717475683,\n            'f': \"0.16014183717475683\",\n        },\n{\n            'v': 0.5734385724090597,\n            'f': \"0.5734385724090597\",\n        },\n{\n            'v': 0.9406610255938271,\n            'f': \"0.9406610255938271\",\n        }],\n [{\n            'v': 7,\n            'f': \"7\",\n        },\n\"frozenset({'Lapapaessaludable'})\",\n\"frozenset({'CARNE'})\",\n{\n            'v': 0.15697925152139536,\n            'f': \"0.15697925152139536\",\n        },\n{\n            'v': 0.5621139327385037,\n            'f': \"0.5621139327385037\",\n        },\n{\n            'v': 1.0124066334961452,\n            'f': \"1.0124066334961452\",\n        }],\n [{\n            'v': 47,\n            'f': \"47\",\n        },\n\"frozenset({'Lapapaessaludable'})\",\n\"frozenset({'TV', 'ARROZ'})\",\n{\n            'v': 0.1517561933969045,\n            'f': \"0.1517561933969045\",\n        },\n{\n            'v': 0.5434111187371311,\n            'f': \"0.5434111187371311\",\n        },\n{\n            'v': 2.4498696558490365,\n            'f': \"2.4498696558490365\",\n        }],\n [{\n            'v': 43,\n            'f': \"43\",\n        },\n\"frozenset({'Lapapaessaludable'})\",\n\"frozenset({'TV', 'CARNE'})\",\n{\n            'v': 0.15003114667688916,\n            'f': \"0.15003114667688916\",\n        },\n{\n            'v': 0.5372340425531914,\n            'f': \"0.5372340425531914\",\n        },\n{\n            'v': 2.472224307396373,\n            'f': \"2.472224307396373\",\n        }]],\n        columns: [[\"number\", \"index\"], [\"string\", \"antecedents\"], [\"string\", \"consequents\"], [\"number\", \"support\"], [\"number\", \"confidence\"], [\"number\", \"lift\"]],\n        columnOptions: [{\"width\": \"1px\", \"className\": \"index_column\"}],\n        rowsPerPage: 25,\n        helpUrl: \"https://colab.research.google.com/notebooks/data_table.ipynb\",\n        suppressOutputScrolling: true,\n        minimumWidth: undefined,\n      });\n    ",
            "text/html": [
              "<div>\n",
              "<style scoped>\n",
              "    .dataframe tbody tr th:only-of-type {\n",
              "        vertical-align: middle;\n",
              "    }\n",
              "\n",
              "    .dataframe tbody tr th {\n",
              "        vertical-align: top;\n",
              "    }\n",
              "\n",
              "    .dataframe thead th {\n",
              "        text-align: right;\n",
              "    }\n",
              "</style>\n",
              "<table border=\"1\" class=\"dataframe\">\n",
              "  <thead>\n",
              "    <tr style=\"text-align: right;\">\n",
              "      <th></th>\n",
              "      <th>antecedents</th>\n",
              "      <th>consequents</th>\n",
              "      <th>support</th>\n",
              "      <th>confidence</th>\n",
              "      <th>lift</th>\n",
              "    </tr>\n",
              "  </thead>\n",
              "  <tbody>\n",
              "    <tr>\n",
              "      <th>1</th>\n",
              "      <td>(Lapapaessaludable)</td>\n",
              "      <td>(TV)</td>\n",
              "      <td>0.262830</td>\n",
              "      <td>0.941146</td>\n",
              "      <td>2.429887</td>\n",
              "    </tr>\n",
              "    <tr>\n",
              "      <th>6</th>\n",
              "      <td>(Lapapaessaludable)</td>\n",
              "      <td>(Lapapaeseconomica)</td>\n",
              "      <td>0.207485</td>\n",
              "      <td>0.742965</td>\n",
              "      <td>1.015253</td>\n",
              "    </tr>\n",
              "    <tr>\n",
              "      <th>37</th>\n",
              "      <td>(Lapapaessaludable)</td>\n",
              "      <td>(Lapapaeseconomica, TV)</td>\n",
              "      <td>0.192582</td>\n",
              "      <td>0.689602</td>\n",
              "      <td>2.411411</td>\n",
              "    </tr>\n",
              "    <tr>\n",
              "      <th>8</th>\n",
              "      <td>(Lapapaessaludable)</td>\n",
              "      <td>(ARROZ)</td>\n",
              "      <td>0.160142</td>\n",
              "      <td>0.573439</td>\n",
              "      <td>0.940661</td>\n",
              "    </tr>\n",
              "    <tr>\n",
              "      <th>7</th>\n",
              "      <td>(Lapapaessaludable)</td>\n",
              "      <td>(CARNE)</td>\n",
              "      <td>0.156979</td>\n",
              "      <td>0.562114</td>\n",
              "      <td>1.012407</td>\n",
              "    </tr>\n",
              "    <tr>\n",
              "      <th>47</th>\n",
              "      <td>(Lapapaessaludable)</td>\n",
              "      <td>(TV, ARROZ)</td>\n",
              "      <td>0.151756</td>\n",
              "      <td>0.543411</td>\n",
              "      <td>2.449870</td>\n",
              "    </tr>\n",
              "    <tr>\n",
              "      <th>43</th>\n",
              "      <td>(Lapapaessaludable)</td>\n",
              "      <td>(TV, CARNE)</td>\n",
              "      <td>0.150031</td>\n",
              "      <td>0.537234</td>\n",
              "      <td>2.472224</td>\n",
              "    </tr>\n",
              "  </tbody>\n",
              "</table>\n",
              "</div>"
            ],
            "text/plain": [
              "            antecedents              consequents  ...  confidence      lift\n",
              "1   (Lapapaessaludable)                     (TV)  ...    0.941146  2.429887\n",
              "6   (Lapapaessaludable)      (Lapapaeseconomica)  ...    0.742965  1.015253\n",
              "37  (Lapapaessaludable)  (Lapapaeseconomica, TV)  ...    0.689602  2.411411\n",
              "8   (Lapapaessaludable)                  (ARROZ)  ...    0.573439  0.940661\n",
              "7   (Lapapaessaludable)                  (CARNE)  ...    0.562114  1.012407\n",
              "47  (Lapapaessaludable)              (TV, ARROZ)  ...    0.543411  2.449870\n",
              "43  (Lapapaessaludable)              (TV, CARNE)  ...    0.537234  2.472224\n",
              "\n",
              "[7 rows x 5 columns]"
            ]
          },
          "metadata": {},
          "execution_count": 15
        }
      ]
    },
    {
      "cell_type": "code",
      "metadata": {
        "colab": {
          "base_uri": "https://localhost:8080/",
          "height": 488
        },
        "id": "-U0yUaUdxS9M",
        "outputId": "f5363847-50da-4f56-def4-4615ce5e0536"
      },
      "source": [
        "detran = read_csv('../content/datatran2020.csv', sep=';' , encoding='latin-1', decimal=',')"
      ],
      "execution_count": null,
      "outputs": [
        {
          "output_type": "error",
          "ename": "ParserError",
          "evalue": "ignored",
          "traceback": [
            "\u001b[0;31m---------------------------------------------------------------------------\u001b[0m",
            "\u001b[0;31mParserError\u001b[0m                               Traceback (most recent call last)",
            "\u001b[0;32m<ipython-input-53-0b72de621b04>\u001b[0m in \u001b[0;36m<module>\u001b[0;34m()\u001b[0m\n\u001b[0;32m----> 1\u001b[0;31m \u001b[0mdetran\u001b[0m \u001b[0;34m=\u001b[0m \u001b[0mread_csv\u001b[0m\u001b[0;34m(\u001b[0m\u001b[0;34m'../content/datatran2020.csv'\u001b[0m\u001b[0;34m,\u001b[0m \u001b[0msep\u001b[0m\u001b[0;34m=\u001b[0m\u001b[0;34m';'\u001b[0m \u001b[0;34m,\u001b[0m \u001b[0mencoding\u001b[0m\u001b[0;34m=\u001b[0m\u001b[0;34m'latin-1'\u001b[0m\u001b[0;34m,\u001b[0m \u001b[0mdecimal\u001b[0m\u001b[0;34m=\u001b[0m\u001b[0;34m','\u001b[0m\u001b[0;34m)\u001b[0m\u001b[0;34m\u001b[0m\u001b[0;34m\u001b[0m\u001b[0m\n\u001b[0m",
            "\u001b[0;32m/usr/local/lib/python3.7/dist-packages/pandas/io/parsers.py\u001b[0m in \u001b[0;36mread_csv\u001b[0;34m(filepath_or_buffer, sep, delimiter, header, names, index_col, usecols, squeeze, prefix, mangle_dupe_cols, dtype, engine, converters, true_values, false_values, skipinitialspace, skiprows, skipfooter, nrows, na_values, keep_default_na, na_filter, verbose, skip_blank_lines, parse_dates, infer_datetime_format, keep_date_col, date_parser, dayfirst, cache_dates, iterator, chunksize, compression, thousands, decimal, lineterminator, quotechar, quoting, doublequote, escapechar, comment, encoding, dialect, error_bad_lines, warn_bad_lines, delim_whitespace, low_memory, memory_map, float_precision)\u001b[0m\n\u001b[1;32m    686\u001b[0m     )\n\u001b[1;32m    687\u001b[0m \u001b[0;34m\u001b[0m\u001b[0m\n\u001b[0;32m--> 688\u001b[0;31m     \u001b[0;32mreturn\u001b[0m \u001b[0m_read\u001b[0m\u001b[0;34m(\u001b[0m\u001b[0mfilepath_or_buffer\u001b[0m\u001b[0;34m,\u001b[0m \u001b[0mkwds\u001b[0m\u001b[0;34m)\u001b[0m\u001b[0;34m\u001b[0m\u001b[0;34m\u001b[0m\u001b[0m\n\u001b[0m\u001b[1;32m    689\u001b[0m \u001b[0;34m\u001b[0m\u001b[0m\n\u001b[1;32m    690\u001b[0m \u001b[0;34m\u001b[0m\u001b[0m\n",
            "\u001b[0;32m/usr/local/lib/python3.7/dist-packages/pandas/io/parsers.py\u001b[0m in \u001b[0;36m_read\u001b[0;34m(filepath_or_buffer, kwds)\u001b[0m\n\u001b[1;32m    458\u001b[0m \u001b[0;34m\u001b[0m\u001b[0m\n\u001b[1;32m    459\u001b[0m     \u001b[0;32mtry\u001b[0m\u001b[0;34m:\u001b[0m\u001b[0;34m\u001b[0m\u001b[0;34m\u001b[0m\u001b[0m\n\u001b[0;32m--> 460\u001b[0;31m         \u001b[0mdata\u001b[0m \u001b[0;34m=\u001b[0m \u001b[0mparser\u001b[0m\u001b[0;34m.\u001b[0m\u001b[0mread\u001b[0m\u001b[0;34m(\u001b[0m\u001b[0mnrows\u001b[0m\u001b[0;34m)\u001b[0m\u001b[0;34m\u001b[0m\u001b[0;34m\u001b[0m\u001b[0m\n\u001b[0m\u001b[1;32m    461\u001b[0m     \u001b[0;32mfinally\u001b[0m\u001b[0;34m:\u001b[0m\u001b[0;34m\u001b[0m\u001b[0;34m\u001b[0m\u001b[0m\n\u001b[1;32m    462\u001b[0m         \u001b[0mparser\u001b[0m\u001b[0;34m.\u001b[0m\u001b[0mclose\u001b[0m\u001b[0;34m(\u001b[0m\u001b[0;34m)\u001b[0m\u001b[0;34m\u001b[0m\u001b[0;34m\u001b[0m\u001b[0m\n",
            "\u001b[0;32m/usr/local/lib/python3.7/dist-packages/pandas/io/parsers.py\u001b[0m in \u001b[0;36mread\u001b[0;34m(self, nrows)\u001b[0m\n\u001b[1;32m   1196\u001b[0m     \u001b[0;32mdef\u001b[0m \u001b[0mread\u001b[0m\u001b[0;34m(\u001b[0m\u001b[0mself\u001b[0m\u001b[0;34m,\u001b[0m \u001b[0mnrows\u001b[0m\u001b[0;34m=\u001b[0m\u001b[0;32mNone\u001b[0m\u001b[0;34m)\u001b[0m\u001b[0;34m:\u001b[0m\u001b[0;34m\u001b[0m\u001b[0;34m\u001b[0m\u001b[0m\n\u001b[1;32m   1197\u001b[0m         \u001b[0mnrows\u001b[0m \u001b[0;34m=\u001b[0m \u001b[0m_validate_integer\u001b[0m\u001b[0;34m(\u001b[0m\u001b[0;34m\"nrows\"\u001b[0m\u001b[0;34m,\u001b[0m \u001b[0mnrows\u001b[0m\u001b[0;34m)\u001b[0m\u001b[0;34m\u001b[0m\u001b[0;34m\u001b[0m\u001b[0m\n\u001b[0;32m-> 1198\u001b[0;31m         \u001b[0mret\u001b[0m \u001b[0;34m=\u001b[0m \u001b[0mself\u001b[0m\u001b[0;34m.\u001b[0m\u001b[0m_engine\u001b[0m\u001b[0;34m.\u001b[0m\u001b[0mread\u001b[0m\u001b[0;34m(\u001b[0m\u001b[0mnrows\u001b[0m\u001b[0;34m)\u001b[0m\u001b[0;34m\u001b[0m\u001b[0;34m\u001b[0m\u001b[0m\n\u001b[0m\u001b[1;32m   1199\u001b[0m \u001b[0;34m\u001b[0m\u001b[0m\n\u001b[1;32m   1200\u001b[0m         \u001b[0;31m# May alter columns / col_dict\u001b[0m\u001b[0;34m\u001b[0m\u001b[0;34m\u001b[0m\u001b[0;34m\u001b[0m\u001b[0m\n",
            "\u001b[0;32m/usr/local/lib/python3.7/dist-packages/pandas/io/parsers.py\u001b[0m in \u001b[0;36mread\u001b[0;34m(self, nrows)\u001b[0m\n\u001b[1;32m   2155\u001b[0m     \u001b[0;32mdef\u001b[0m \u001b[0mread\u001b[0m\u001b[0;34m(\u001b[0m\u001b[0mself\u001b[0m\u001b[0;34m,\u001b[0m \u001b[0mnrows\u001b[0m\u001b[0;34m=\u001b[0m\u001b[0;32mNone\u001b[0m\u001b[0;34m)\u001b[0m\u001b[0;34m:\u001b[0m\u001b[0;34m\u001b[0m\u001b[0;34m\u001b[0m\u001b[0m\n\u001b[1;32m   2156\u001b[0m         \u001b[0;32mtry\u001b[0m\u001b[0;34m:\u001b[0m\u001b[0;34m\u001b[0m\u001b[0;34m\u001b[0m\u001b[0m\n\u001b[0;32m-> 2157\u001b[0;31m             \u001b[0mdata\u001b[0m \u001b[0;34m=\u001b[0m \u001b[0mself\u001b[0m\u001b[0;34m.\u001b[0m\u001b[0m_reader\u001b[0m\u001b[0;34m.\u001b[0m\u001b[0mread\u001b[0m\u001b[0;34m(\u001b[0m\u001b[0mnrows\u001b[0m\u001b[0;34m)\u001b[0m\u001b[0;34m\u001b[0m\u001b[0;34m\u001b[0m\u001b[0m\n\u001b[0m\u001b[1;32m   2158\u001b[0m         \u001b[0;32mexcept\u001b[0m \u001b[0mStopIteration\u001b[0m\u001b[0;34m:\u001b[0m\u001b[0;34m\u001b[0m\u001b[0;34m\u001b[0m\u001b[0m\n\u001b[1;32m   2159\u001b[0m             \u001b[0;32mif\u001b[0m \u001b[0mself\u001b[0m\u001b[0;34m.\u001b[0m\u001b[0m_first_chunk\u001b[0m\u001b[0;34m:\u001b[0m\u001b[0;34m\u001b[0m\u001b[0;34m\u001b[0m\u001b[0m\n",
            "\u001b[0;32mpandas/_libs/parsers.pyx\u001b[0m in \u001b[0;36mpandas._libs.parsers.TextReader.read\u001b[0;34m()\u001b[0m\n",
            "\u001b[0;32mpandas/_libs/parsers.pyx\u001b[0m in \u001b[0;36mpandas._libs.parsers.TextReader._read_low_memory\u001b[0;34m()\u001b[0m\n",
            "\u001b[0;32mpandas/_libs/parsers.pyx\u001b[0m in \u001b[0;36mpandas._libs.parsers.TextReader._read_rows\u001b[0;34m()\u001b[0m\n",
            "\u001b[0;32mpandas/_libs/parsers.pyx\u001b[0m in \u001b[0;36mpandas._libs.parsers.TextReader._tokenize_rows\u001b[0;34m()\u001b[0m\n",
            "\u001b[0;32mpandas/_libs/parsers.pyx\u001b[0m in \u001b[0;36mpandas._libs.parsers.raise_parser_error\u001b[0;34m()\u001b[0m\n",
            "\u001b[0;31mParserError\u001b[0m: Error tokenizing data. C error: Expected 30 fields in line 7707, saw 39\n"
          ]
        }
      ]
    }
  ]
}