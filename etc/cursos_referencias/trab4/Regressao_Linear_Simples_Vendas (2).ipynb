{
 "cells": [
  {
   "cell_type": "markdown",
   "metadata": {},
   "source": [
    "## PYTHON JOURNEY MACHINE & DEEP LEARNING\n",
    "### Trabalho prático usando Python\n",
    " \n",
    "### Modelo de regressão linear simples"
   ]
  },
  {
   "attachments": {
    "dic_vendas.png": {
     "image/png": "[encoded data removed]"
    }
   },
   "cell_type": "markdown",
   "metadata": {},
   "source": [
    "### Exemplo \n",
    "Faça a previsão das vendas (R$) mensal no período de 12 meses\n",
    "da empresa XYZ a partir dos dados disponíveis de Vendas (R$) e Budget Advertising (R$) da empresa.\n",
    "\n",
    "### Dicionário de variáveis\n",
    "![dic_vendas.png](attachment:dic_vendas.png)"
   ]
  },
  {
   "cell_type": "code",
   "execution_count": 6,
   "metadata": {},
   "outputs": [],
   "source": [
    "# Importar as bibliotecas\n",
    "import pandas as pd\n",
    "import numpy as np\n",
    "import matplotlib.pyplot as plt\n",
    "import seaborn as sns"
   ]
  },
  {
   "cell_type": "code",
   "execution_count": 10,
   "metadata": {},
   "outputs": [],
   "source": [
    "# Importar os dados\n",
    "df = pd.read_csv(r'C:\\Users\\lucas\\Downloads\\trab4\\Vendas_2016a2018.csv', sep=';')"
   ]
  },
  {
   "cell_type": "code",
   "execution_count": 11,
   "metadata": {},
   "outputs": [
    {
     "data": {
      "text/html": [
       "<div>\n",
       "<style scoped>\n",
       "    .dataframe tbody tr th:only-of-type {\n",
       "        vertical-align: middle;\n",
       "    }\n",
       "\n",
       "    .dataframe tbody tr th {\n",
       "        vertical-align: top;\n",
       "    }\n",
       "\n",
       "    .dataframe thead th {\n",
       "        text-align: right;\n",
       "    }\n",
       "</style>\n",
       "<table border=\"1\" class=\"dataframe\">\n",
       "  <thead>\n",
       "    <tr style=\"text-align: right;\">\n",
       "      <th></th>\n",
       "      <th>Data</th>\n",
       "      <th>ano</th>\n",
       "      <th>Vendas</th>\n",
       "      <th>Budget_Advertising</th>\n",
       "    </tr>\n",
       "  </thead>\n",
       "  <tbody>\n",
       "    <tr>\n",
       "      <th>0</th>\n",
       "      <td>jan/16</td>\n",
       "      <td>2016</td>\n",
       "      <td>1160080.88</td>\n",
       "      <td>72800</td>\n",
       "    </tr>\n",
       "    <tr>\n",
       "      <th>1</th>\n",
       "      <td>fev/16</td>\n",
       "      <td>2016</td>\n",
       "      <td>1622539.52</td>\n",
       "      <td>123392</td>\n",
       "    </tr>\n",
       "    <tr>\n",
       "      <th>2</th>\n",
       "      <td>mar/16</td>\n",
       "      <td>2016</td>\n",
       "      <td>1597260.00</td>\n",
       "      <td>135761</td>\n",
       "    </tr>\n",
       "    <tr>\n",
       "      <th>3</th>\n",
       "      <td>abr/16</td>\n",
       "      <td>2016</td>\n",
       "      <td>1640674.56</td>\n",
       "      <td>148064</td>\n",
       "    </tr>\n",
       "    <tr>\n",
       "      <th>4</th>\n",
       "      <td>mai/16</td>\n",
       "      <td>2016</td>\n",
       "      <td>1511269.76</td>\n",
       "      <td>159746</td>\n",
       "    </tr>\n",
       "  </tbody>\n",
       "</table>\n",
       "</div>"
      ],
      "text/plain": [
       "     Data   ano      Vendas  Budget_Advertising\n",
       "0  jan/16  2016  1160080.88               72800\n",
       "1  fev/16  2016  1622539.52              123392\n",
       "2  mar/16  2016  1597260.00              135761\n",
       "3  abr/16  2016  1640674.56              148064\n",
       "4  mai/16  2016  1511269.76              159746"
      ]
     },
     "execution_count": 11,
     "metadata": {},
     "output_type": "execute_result"
    }
   ],
   "source": [
    "df.head()"
   ]
  },
  {
   "cell_type": "code",
   "execution_count": 12,
   "metadata": {},
   "outputs": [
    {
     "name": "stdout",
     "output_type": "stream",
     "text": [
      "<class 'pandas.core.frame.DataFrame'>\n",
      "RangeIndex: 36 entries, 0 to 35\n",
      "Data columns (total 4 columns):\n",
      " #   Column              Non-Null Count  Dtype  \n",
      "---  ------              --------------  -----  \n",
      " 0   Data                36 non-null     object \n",
      " 1   ano                 36 non-null     int64  \n",
      " 2   Vendas              36 non-null     float64\n",
      " 3   Budget_Advertising  36 non-null     int64  \n",
      "dtypes: float64(1), int64(2), object(1)\n",
      "memory usage: 1.2+ KB\n"
     ]
    }
   ],
   "source": [
    "df.info()"
   ]
  },
  {
   "cell_type": "code",
   "execution_count": 14,
   "metadata": {},
   "outputs": [
    {
     "data": {
      "text/html": [
       "<div>\n",
       "<style scoped>\n",
       "    .dataframe tbody tr th:only-of-type {\n",
       "        vertical-align: middle;\n",
       "    }\n",
       "\n",
       "    .dataframe tbody tr th {\n",
       "        vertical-align: top;\n",
       "    }\n",
       "\n",
       "    .dataframe thead th {\n",
       "        text-align: right;\n",
       "    }\n",
       "</style>\n",
       "<table border=\"1\" class=\"dataframe\">\n",
       "  <thead>\n",
       "    <tr style=\"text-align: right;\">\n",
       "      <th></th>\n",
       "      <th>ano</th>\n",
       "      <th>Vendas</th>\n",
       "      <th>Budget_Advertising</th>\n",
       "    </tr>\n",
       "  </thead>\n",
       "  <tbody>\n",
       "    <tr>\n",
       "      <th>count</th>\n",
       "      <td>36.00</td>\n",
       "      <td>36.00</td>\n",
       "      <td>36.00</td>\n",
       "    </tr>\n",
       "    <tr>\n",
       "      <th>mean</th>\n",
       "      <td>2017.00</td>\n",
       "      <td>2388185.93</td>\n",
       "      <td>267445.17</td>\n",
       "    </tr>\n",
       "    <tr>\n",
       "      <th>std</th>\n",
       "      <td>0.83</td>\n",
       "      <td>657317.41</td>\n",
       "      <td>112764.72</td>\n",
       "    </tr>\n",
       "    <tr>\n",
       "      <th>min</th>\n",
       "      <td>2016.00</td>\n",
       "      <td>1160080.88</td>\n",
       "      <td>72800.00</td>\n",
       "    </tr>\n",
       "    <tr>\n",
       "      <th>25%</th>\n",
       "      <td>2016.00</td>\n",
       "      <td>1827778.39</td>\n",
       "      <td>188879.75</td>\n",
       "    </tr>\n",
       "    <tr>\n",
       "      <th>50%</th>\n",
       "      <td>2017.00</td>\n",
       "      <td>2326152.00</td>\n",
       "      <td>259143.00</td>\n",
       "    </tr>\n",
       "    <tr>\n",
       "      <th>75%</th>\n",
       "      <td>2018.00</td>\n",
       "      <td>2902212.40</td>\n",
       "      <td>343735.75</td>\n",
       "    </tr>\n",
       "    <tr>\n",
       "      <th>max</th>\n",
       "      <td>2018.00</td>\n",
       "      <td>3708768.00</td>\n",
       "      <td>533582.00</td>\n",
       "    </tr>\n",
       "  </tbody>\n",
       "</table>\n",
       "</div>"
      ],
      "text/plain": [
       "           ano      Vendas  Budget_Advertising\n",
       "count    36.00       36.00               36.00\n",
       "mean   2017.00  2388185.93           267445.17\n",
       "std       0.83   657317.41           112764.72\n",
       "min    2016.00  1160080.88            72800.00\n",
       "25%    2016.00  1827778.39           188879.75\n",
       "50%    2017.00  2326152.00           259143.00\n",
       "75%    2018.00  2902212.40           343735.75\n",
       "max    2018.00  3708768.00           533582.00"
      ]
     },
     "execution_count": 14,
     "metadata": {},
     "output_type": "execute_result"
    }
   ],
   "source": [
    "# Análise exploratória dos dados\n",
    "df.describe().round(2)"
   ]
  },
  {
   "cell_type": "code",
   "execution_count": 15,
   "metadata": {},
   "outputs": [
    {
     "data": {
      "text/plain": [
       "Text(0.5, 1.0, 'Scatter Plot')"
      ]
     },
     "execution_count": 15,
     "metadata": {},
     "output_type": "execute_result"
    },
    {
     "data": {
      "image/png": "[encoded data removed]",
      "text/plain": [
       "<Figure size 432x288 with 1 Axes>"
      ]
     },
     "metadata": {
      "needs_background": "light"
     },
     "output_type": "display_data"
    }
   ],
   "source": [
    "# Gráfico de dispersão ou scatterplot\n",
    "plt.scatter('Budget_Advertising','Vendas',data=df)\n",
    "plt.xlabel(\"Budget\")\n",
    "plt.ylabel(\"Vendas\")\n",
    "plt.title(\"Scatter Plot\")"
   ]
  },
  {
   "cell_type": "code",
   "execution_count": null,
   "metadata": {},
   "outputs": [],
   "source": [
    "# Modelo\n",
    "Vendas = A + B * Budget"
   ]
  },
  {
   "cell_type": "code",
   "execution_count": 17,
   "metadata": {},
   "outputs": [
    {
     "data": {
      "text/plain": [
       "<seaborn.axisgrid.JointGrid at 0x27a449afb50>"
      ]
     },
     "execution_count": 17,
     "metadata": {},
     "output_type": "execute_result"
    },
    {
     "data": {
      "image/png": "[encoded data removed]",
      "text/plain": [
       "<Figure size 432x432 with 3 Axes>"
      ]
     },
     "metadata": {
      "needs_background": "light"
     },
     "output_type": "display_data"
    }
   ],
   "source": [
    "# Grafico de dispersao usando a biblioteca seaborn\n",
    "sns.jointplot(x='Budget_Advertising',y='Vendas',data=df,kind='scatter')"
   ]
  },
  {
   "cell_type": "code",
   "execution_count": 18,
   "metadata": {
    "scrolled": true
   },
   "outputs": [
    {
     "data": {
      "text/plain": [
       "<seaborn.axisgrid.JointGrid at 0x27a46182dc0>"
      ]
     },
     "execution_count": 18,
     "metadata": {},
     "output_type": "execute_result"
    },
    {
     "data": {
      "image/png": "[encoded data removed]",
      "text/plain": [
       "<Figure size 432x432 with 3 Axes>"
      ]
     },
     "metadata": {
      "needs_background": "light"
     },
     "output_type": "display_data"
    }
   ],
   "source": [
    "# Grafico de dispersao usando a biblioteca seaborn\n",
    "sns.jointplot(x='Budget_Advertising',y='Vendas',data=df,kind='reg')"
   ]
  },
  {
   "cell_type": "code",
   "execution_count": null,
   "metadata": {},
   "outputs": [],
   "source": [
    "# Modelo\n",
    "\n",
    "Vendas = b0 + b1 * Budget"
   ]
  },
  {
   "cell_type": "code",
   "execution_count": 20,
   "metadata": {
    "scrolled": true
   },
   "outputs": [
    {
     "data": {
      "text/plain": [
       "<seaborn.axisgrid.JointGrid at 0x27a4634b3d0>"
      ]
     },
     "execution_count": 20,
     "metadata": {},
     "output_type": "execute_result"
    },
    {
     "data": {
      "image/png": "[encoded data removed]",
      "text/plain": [
       "<Figure size 432x432 with 3 Axes>"
      ]
     },
     "metadata": {
      "needs_background": "light"
     },
     "output_type": "display_data"
    }
   ],
   "source": [
    "# Grafico de dispersao usando a biblioteca seaborn\n",
    "sns.jointplot(x='Budget_Advertising',y='Vendas',data=df,kind='hex')"
   ]
  },
  {
   "cell_type": "code",
   "execution_count": 21,
   "metadata": {},
   "outputs": [
    {
     "data": {
      "text/plain": [
       "<seaborn.axisgrid.JointGrid at 0x27a4646c880>"
      ]
     },
     "execution_count": 21,
     "metadata": {},
     "output_type": "execute_result"
    },
    {
     "data": {
      "image/png": "[encoded data removed]",
      "text/plain": [
       "<Figure size 432x432 with 3 Axes>"
      ]
     },
     "metadata": {
      "needs_background": "light"
     },
     "output_type": "display_data"
    }
   ],
   "source": [
    "# Grafico de dispersao usando a biblioteca seaborn\n",
    "sns.jointplot(x='Budget_Advertising',y='Vendas',data=df,hue='ano')"
   ]
  },
  {
   "cell_type": "code",
   "execution_count": 47,
   "metadata": {},
   "outputs": [],
   "source": [
    "# Selecionar as variáveis de análise\n",
    "\n",
    "var_num = df[['Vendas','Budget_Advertising']]\n",
    "# Correlação de Pearson\n",
    "#corr = df[var_num].corr(method='pearson')\n",
    "#corr"
   ]
  },
  {
   "cell_type": "code",
   "execution_count": 25,
   "metadata": {},
   "outputs": [
    {
     "name": "stdout",
     "output_type": "stream",
     "text": [
      "Requirement already satisfied: sklearn in c:\\programdata\\anaconda3\\lib\\site-packages (0.0)\n",
      "Requirement already satisfied: scikit-learn in c:\\programdata\\anaconda3\\lib\\site-packages (from sklearn) (0.24.1)\n",
      "Requirement already satisfied: threadpoolctl>=2.0.0 in c:\\programdata\\anaconda3\\lib\\site-packages (from scikit-learn->sklearn) (2.1.0)\n",
      "Requirement already satisfied: numpy>=1.13.3 in c:\\programdata\\anaconda3\\lib\\site-packages (from scikit-learn->sklearn) (1.20.1)\n",
      "Requirement already satisfied: joblib>=0.11 in c:\\programdata\\anaconda3\\lib\\site-packages (from scikit-learn->sklearn) (1.0.1)\n",
      "Requirement already satisfied: scipy>=0.19.1 in c:\\programdata\\anaconda3\\lib\\site-packages (from scikit-learn->sklearn) (1.6.2)\n"
     ]
    }
   ],
   "source": [
    "! pip install sklearn"
   ]
  },
  {
   "cell_type": "code",
   "execution_count": 29,
   "metadata": {},
   "outputs": [
    {
     "data": {
      "text/plain": [
       "LinearRegression()"
      ]
     },
     "execution_count": 29,
     "metadata": {},
     "output_type": "execute_result"
    }
   ],
   "source": [
    "# Ajustar regressao linear simples\n",
    "# linear model\n",
    "\n",
    "from sklearn.linear_model import LinearRegression\n",
    "lm = LinearRegression()\n",
    "X=df[['Budget_Advertising']]\n",
    "y=df[['Vendas']]\n",
    "lm.fit(X,y)"
   ]
  },
  {
   "cell_type": "code",
   "execution_count": 36,
   "metadata": {},
   "outputs": [
    {
     "name": "stdout",
     "output_type": "stream",
     "text": [
      "[1060550.39605172]\n"
     ]
    },
    {
     "data": {
      "text/plain": [
       "array([1060550.4])"
      ]
     },
     "execution_count": 36,
     "metadata": {},
     "output_type": "execute_result"
    }
   ],
   "source": [
    "# Intercepto do modelo\n",
    "print(lm.intercept_)\n",
    "b0 = lm.intercept_\n",
    "b0.round(2)"
   ]
  },
  {
   "cell_type": "code",
   "execution_count": 37,
   "metadata": {},
   "outputs": [
    {
     "data": {
      "text/html": [
       "<div>\n",
       "<style scoped>\n",
       "    .dataframe tbody tr th:only-of-type {\n",
       "        vertical-align: middle;\n",
       "    }\n",
       "\n",
       "    .dataframe tbody tr th {\n",
       "        vertical-align: top;\n",
       "    }\n",
       "\n",
       "    .dataframe thead th {\n",
       "        text-align: right;\n",
       "    }\n",
       "</style>\n",
       "<table border=\"1\" class=\"dataframe\">\n",
       "  <thead>\n",
       "    <tr style=\"text-align: right;\">\n",
       "      <th></th>\n",
       "      <th>Coefficient</th>\n",
       "    </tr>\n",
       "  </thead>\n",
       "  <tbody>\n",
       "    <tr>\n",
       "      <th>Budget_Advertising</th>\n",
       "      <td>4.96</td>\n",
       "    </tr>\n",
       "  </tbody>\n",
       "</table>\n",
       "</div>"
      ],
      "text/plain": [
       "                    Coefficient\n",
       "Budget_Advertising         4.96"
      ]
     },
     "execution_count": 37,
     "metadata": {},
     "output_type": "execute_result"
    }
   ],
   "source": [
    "# Coeficiente angular  da reta de regressão\n",
    "coeff_df = pd.DataFrame(lm.coef_, X.columns, columns=['Coefficient'])\n",
    "coeff_df.round(2)"
   ]
  },
  {
   "cell_type": "code",
   "execution_count": null,
   "metadata": {},
   "outputs": [],
   "source": [
    "# Modelo Ajustado\n",
    "\n",
    "Vendas = 1060550.4 + 4.968 * Budget_Advertising"
   ]
  },
  {
   "cell_type": "code",
   "execution_count": 38,
   "metadata": {},
   "outputs": [],
   "source": [
    "# importar a biblioteca de metrica sklearn\n",
    "from sklearn.metrics import r2_score"
   ]
  },
  {
   "cell_type": "code",
   "execution_count": 42,
   "metadata": {},
   "outputs": [],
   "source": [
    "predictions = lm.predict(X)"
   ]
  },
  {
   "cell_type": "code",
   "execution_count": 43,
   "metadata": {},
   "outputs": [
    {
     "name": "stdout",
     "output_type": "stream",
     "text": [
      "Coeficiente of determintarion: 0.73\n"
     ]
    }
   ],
   "source": [
    "# Acuracia do modelo ajusto: Coeficiente de determinacao (R2)\n",
    "print('Coeficiente of determintarion: %.2f'\n",
    "      %r2_score(y,predictions))"
   ]
  },
  {
   "cell_type": "code",
   "execution_count": null,
   "metadata": {},
   "outputs": [],
   "source": [
    "X = 100.000\n",
    "Vendas = 1060550.4 + 4.968 * 100.000\n"
   ]
  },
  {
   "attachments": {
    "fig_correlacao.png": {
     "image/png": "[encoded data removed]"
    }
   },
   "cell_type": "markdown",
   "metadata": {},
   "source": [
    "### Análise de correlação de Pearson\n",
    "\n",
    "![fig_correlacao.png](attachment:fig_correlacao.png)"
   ]
  },
  {
   "cell_type": "code",
   "execution_count": null,
   "metadata": {},
   "outputs": [],
   "source": [
    "# Correlação de Pearson"
   ]
  },
  {
   "cell_type": "code",
   "execution_count": null,
   "metadata": {},
   "outputs": [],
   "source": [
    "# Gráfico de dispersão ou scatterplot"
   ]
  },
  {
   "attachments": {
    "fig_reg_simples.png": {
     "image/png": "[encoded data removed]"
    }
   },
   "cell_type": "markdown",
   "metadata": {},
   "source": [
    "![fig_reg_simples.png](attachment:fig_reg_simples.png)"
   ]
  },
  {
   "cell_type": "code",
   "execution_count": null,
   "metadata": {},
   "outputs": [],
   "source": [
    "# Importar biblioteca"
   ]
  },
  {
   "cell_type": "code",
   "execution_count": null,
   "metadata": {},
   "outputs": [],
   "source": [
    "# Definir a variável resposta (Y) e a preditora (X)"
   ]
  },
  {
   "cell_type": "code",
   "execution_count": null,
   "metadata": {},
   "outputs": [],
   "source": [
    "# Ajustar o modelo linear"
   ]
  },
  {
   "cell_type": "code",
   "execution_count": null,
   "metadata": {},
   "outputs": [],
   "source": [
    "# Itercepto do modelo (b0)"
   ]
  },
  {
   "cell_type": "code",
   "execution_count": null,
   "metadata": {},
   "outputs": [],
   "source": [
    "# Coeficiente angular (b1)"
   ]
  },
  {
   "cell_type": "code",
   "execution_count": null,
   "metadata": {},
   "outputs": [],
   "source": [
    "# Importar a biblioteca (R2)"
   ]
  },
  {
   "cell_type": "code",
   "execution_count": 48,
   "metadata": {},
   "outputs": [],
   "source": [
    "# Calcular a estimativa das Vendas pelo modelo\n",
    "df['vendas_estimadas'] = lm.predict(X)"
   ]
  },
  {
   "cell_type": "code",
   "execution_count": 51,
   "metadata": {},
   "outputs": [
    {
     "data": {
      "text/html": [
       "<div>\n",
       "<style scoped>\n",
       "    .dataframe tbody tr th:only-of-type {\n",
       "        vertical-align: middle;\n",
       "    }\n",
       "\n",
       "    .dataframe tbody tr th {\n",
       "        vertical-align: top;\n",
       "    }\n",
       "\n",
       "    .dataframe thead th {\n",
       "        text-align: right;\n",
       "    }\n",
       "</style>\n",
       "<table border=\"1\" class=\"dataframe\">\n",
       "  <thead>\n",
       "    <tr style=\"text-align: right;\">\n",
       "      <th></th>\n",
       "      <th>Data</th>\n",
       "      <th>ano</th>\n",
       "      <th>Vendas</th>\n",
       "      <th>Budget_Advertising</th>\n",
       "      <th>vendas_estimadas</th>\n",
       "      <th>residuo</th>\n",
       "    </tr>\n",
       "  </thead>\n",
       "  <tbody>\n",
       "    <tr>\n",
       "      <th>0</th>\n",
       "      <td>jan/16</td>\n",
       "      <td>2016</td>\n",
       "      <td>1160080.88</td>\n",
       "      <td>72800</td>\n",
       "      <td>1421939.87</td>\n",
       "      <td>-261858.99</td>\n",
       "    </tr>\n",
       "    <tr>\n",
       "      <th>1</th>\n",
       "      <td>fev/16</td>\n",
       "      <td>2016</td>\n",
       "      <td>1622539.52</td>\n",
       "      <td>123392</td>\n",
       "      <td>1673085.69</td>\n",
       "      <td>-50546.17</td>\n",
       "    </tr>\n",
       "    <tr>\n",
       "      <th>2</th>\n",
       "      <td>mar/16</td>\n",
       "      <td>2016</td>\n",
       "      <td>1597260.00</td>\n",
       "      <td>135761</td>\n",
       "      <td>1734487.15</td>\n",
       "      <td>-137227.15</td>\n",
       "    </tr>\n",
       "    <tr>\n",
       "      <th>3</th>\n",
       "      <td>abr/16</td>\n",
       "      <td>2016</td>\n",
       "      <td>1640674.56</td>\n",
       "      <td>148064</td>\n",
       "      <td>1795560.98</td>\n",
       "      <td>-154886.42</td>\n",
       "    </tr>\n",
       "    <tr>\n",
       "      <th>4</th>\n",
       "      <td>mai/16</td>\n",
       "      <td>2016</td>\n",
       "      <td>1511269.76</td>\n",
       "      <td>159746</td>\n",
       "      <td>1853552.08</td>\n",
       "      <td>-342282.32</td>\n",
       "    </tr>\n",
       "  </tbody>\n",
       "</table>\n",
       "</div>"
      ],
      "text/plain": [
       "     Data   ano      Vendas  Budget_Advertising  vendas_estimadas    residuo\n",
       "0  jan/16  2016  1160080.88               72800        1421939.87 -261858.99\n",
       "1  fev/16  2016  1622539.52              123392        1673085.69  -50546.17\n",
       "2  mar/16  2016  1597260.00              135761        1734487.15 -137227.15\n",
       "3  abr/16  2016  1640674.56              148064        1795560.98 -154886.42\n",
       "4  mai/16  2016  1511269.76              159746        1853552.08 -342282.32"
      ]
     },
     "execution_count": 51,
     "metadata": {},
     "output_type": "execute_result"
    }
   ],
   "source": [
    "# Calcular o resíduo do modelo\n",
    "df.head().round(2)\n",
    "\n",
    "df['residuo'] = df['Vendas'] - df['vendas_estimadas']\n",
    "df.head().round(2)"
   ]
  },
  {
   "cell_type": "code",
   "execution_count": 53,
   "metadata": {},
   "outputs": [
    {
     "data": {
      "text/html": [
       "<div>\n",
       "<style scoped>\n",
       "    .dataframe tbody tr th:only-of-type {\n",
       "        vertical-align: middle;\n",
       "    }\n",
       "\n",
       "    .dataframe tbody tr th {\n",
       "        vertical-align: top;\n",
       "    }\n",
       "\n",
       "    .dataframe thead th {\n",
       "        text-align: right;\n",
       "    }\n",
       "</style>\n",
       "<table border=\"1\" class=\"dataframe\">\n",
       "  <thead>\n",
       "    <tr style=\"text-align: right;\">\n",
       "      <th></th>\n",
       "      <th>Data</th>\n",
       "      <th>ano</th>\n",
       "      <th>Vendas</th>\n",
       "      <th>Budget_Advertising</th>\n",
       "      <th>vendas_estimadas</th>\n",
       "      <th>residuo</th>\n",
       "      <th>residuo_padronizado</th>\n",
       "    </tr>\n",
       "  </thead>\n",
       "  <tbody>\n",
       "    <tr>\n",
       "      <th>0</th>\n",
       "      <td>jan/16</td>\n",
       "      <td>2016</td>\n",
       "      <td>1160080.88</td>\n",
       "      <td>72800</td>\n",
       "      <td>1421939.87</td>\n",
       "      <td>-261858.99</td>\n",
       "      <td>-0.76</td>\n",
       "    </tr>\n",
       "    <tr>\n",
       "      <th>1</th>\n",
       "      <td>fev/16</td>\n",
       "      <td>2016</td>\n",
       "      <td>1622539.52</td>\n",
       "      <td>123392</td>\n",
       "      <td>1673085.69</td>\n",
       "      <td>-50546.17</td>\n",
       "      <td>-0.15</td>\n",
       "    </tr>\n",
       "    <tr>\n",
       "      <th>2</th>\n",
       "      <td>mar/16</td>\n",
       "      <td>2016</td>\n",
       "      <td>1597260.00</td>\n",
       "      <td>135761</td>\n",
       "      <td>1734487.15</td>\n",
       "      <td>-137227.15</td>\n",
       "      <td>-0.40</td>\n",
       "    </tr>\n",
       "    <tr>\n",
       "      <th>3</th>\n",
       "      <td>abr/16</td>\n",
       "      <td>2016</td>\n",
       "      <td>1640674.56</td>\n",
       "      <td>148064</td>\n",
       "      <td>1795560.98</td>\n",
       "      <td>-154886.42</td>\n",
       "      <td>-0.45</td>\n",
       "    </tr>\n",
       "    <tr>\n",
       "      <th>4</th>\n",
       "      <td>mai/16</td>\n",
       "      <td>2016</td>\n",
       "      <td>1511269.76</td>\n",
       "      <td>159746</td>\n",
       "      <td>1853552.08</td>\n",
       "      <td>-342282.32</td>\n",
       "      <td>-0.99</td>\n",
       "    </tr>\n",
       "  </tbody>\n",
       "</table>\n",
       "</div>"
      ],
      "text/plain": [
       "     Data   ano      Vendas  Budget_Advertising  vendas_estimadas    residuo  \\\n",
       "0  jan/16  2016  1160080.88               72800        1421939.87 -261858.99   \n",
       "1  fev/16  2016  1622539.52              123392        1673085.69  -50546.17   \n",
       "2  mar/16  2016  1597260.00              135761        1734487.15 -137227.15   \n",
       "3  abr/16  2016  1640674.56              148064        1795560.98 -154886.42   \n",
       "4  mai/16  2016  1511269.76              159746        1853552.08 -342282.32   \n",
       "\n",
       "   residuo_padronizado  \n",
       "0                -0.76  \n",
       "1                -0.15  \n",
       "2                -0.40  \n",
       "3                -0.45  \n",
       "4                -0.99  "
      ]
     },
     "execution_count": 53,
     "metadata": {},
     "output_type": "execute_result"
    }
   ],
   "source": [
    "# Calcular o resíduo padronizado\n",
    "df['residuo_padronizado'] = df['residuo']/df['residuo'].std()\n",
    "df.head().round(2)"
   ]
  },
  {
   "cell_type": "code",
   "execution_count": 56,
   "metadata": {},
   "outputs": [
    {
     "data": {
      "text/plain": [
       "Text(0.5, 1.0, 'Distribuicao dos residuos padronizados')"
      ]
     },
     "execution_count": 56,
     "metadata": {},
     "output_type": "execute_result"
    },
    {
     "data": {
      "image/png": "[encoded data removed]",
      "text/plain": [
       "<Figure size 432x288 with 1 Axes>"
      ]
     },
     "metadata": {
      "needs_background": "light"
     },
     "output_type": "display_data"
    }
   ],
   "source": [
    "# Gráfico do resíduo\n",
    "plt.hist(df['residuo_padronizado'], bins=10)\n",
    "plt.xlabel(\"Residuo Padronizado\")\n",
    "plt.ylabel(\"Frequencia\")\n",
    "plt.title(\"Distribuicao dos residuos padronizados\", fontsize=15)"
   ]
  },
  {
   "cell_type": "markdown",
   "metadata": {},
   "source": [
    "### Previsão do modelo para  as Vendas em 2019 "
   ]
  },
  {
   "cell_type": "code",
   "execution_count": 58,
   "metadata": {},
   "outputs": [
    {
     "data": {
      "text/html": [
       "<div>\n",
       "<style scoped>\n",
       "    .dataframe tbody tr th:only-of-type {\n",
       "        vertical-align: middle;\n",
       "    }\n",
       "\n",
       "    .dataframe tbody tr th {\n",
       "        vertical-align: top;\n",
       "    }\n",
       "\n",
       "    .dataframe thead th {\n",
       "        text-align: right;\n",
       "    }\n",
       "</style>\n",
       "<table border=\"1\" class=\"dataframe\">\n",
       "  <thead>\n",
       "    <tr style=\"text-align: right;\">\n",
       "      <th></th>\n",
       "      <th>Data</th>\n",
       "      <th>ano</th>\n",
       "      <th>Budget_Advertising</th>\n",
       "    </tr>\n",
       "  </thead>\n",
       "  <tbody>\n",
       "    <tr>\n",
       "      <th>0</th>\n",
       "      <td>jan/19</td>\n",
       "      <td>2019</td>\n",
       "      <td>91000</td>\n",
       "    </tr>\n",
       "    <tr>\n",
       "      <th>1</th>\n",
       "      <td>fev/19</td>\n",
       "      <td>2019</td>\n",
       "      <td>154240</td>\n",
       "    </tr>\n",
       "    <tr>\n",
       "      <th>2</th>\n",
       "      <td>mar/19</td>\n",
       "      <td>2019</td>\n",
       "      <td>169702</td>\n",
       "    </tr>\n",
       "    <tr>\n",
       "      <th>3</th>\n",
       "      <td>abr/19</td>\n",
       "      <td>2019</td>\n",
       "      <td>185081</td>\n",
       "    </tr>\n",
       "    <tr>\n",
       "      <th>4</th>\n",
       "      <td>mai/19</td>\n",
       "      <td>2019</td>\n",
       "      <td>199683</td>\n",
       "    </tr>\n",
       "  </tbody>\n",
       "</table>\n",
       "</div>"
      ],
      "text/plain": [
       "     Data   ano  Budget_Advertising\n",
       "0  jan/19  2019               91000\n",
       "1  fev/19  2019              154240\n",
       "2  mar/19  2019              169702\n",
       "3  abr/19  2019              185081\n",
       "4  mai/19  2019              199683"
      ]
     },
     "execution_count": 58,
     "metadata": {},
     "output_type": "execute_result"
    }
   ],
   "source": [
    "# Importar a base de dados de 2019\n",
    "df2019 = pd.read_csv(r'C:\\Users\\lucas\\Downloads\\trab4\\Budget_2019.csv')\n",
    "df2019.head()"
   ]
  },
  {
   "cell_type": "code",
   "execution_count": 60,
   "metadata": {},
   "outputs": [
    {
     "data": {
      "text/html": [
       "<div>\n",
       "<style scoped>\n",
       "    .dataframe tbody tr th:only-of-type {\n",
       "        vertical-align: middle;\n",
       "    }\n",
       "\n",
       "    .dataframe tbody tr th {\n",
       "        vertical-align: top;\n",
       "    }\n",
       "\n",
       "    .dataframe thead th {\n",
       "        text-align: right;\n",
       "    }\n",
       "</style>\n",
       "<table border=\"1\" class=\"dataframe\">\n",
       "  <thead>\n",
       "    <tr style=\"text-align: right;\">\n",
       "      <th></th>\n",
       "      <th>Data</th>\n",
       "      <th>ano</th>\n",
       "      <th>Budget_Advertising</th>\n",
       "      <th>vendas_estimadas</th>\n",
       "    </tr>\n",
       "  </thead>\n",
       "  <tbody>\n",
       "    <tr>\n",
       "      <th>0</th>\n",
       "      <td>jan/19</td>\n",
       "      <td>2019</td>\n",
       "      <td>91000</td>\n",
       "      <td>1512638.40</td>\n",
       "    </tr>\n",
       "    <tr>\n",
       "      <th>1</th>\n",
       "      <td>fev/19</td>\n",
       "      <td>2019</td>\n",
       "      <td>154240</td>\n",
       "      <td>1826814.72</td>\n",
       "    </tr>\n",
       "    <tr>\n",
       "      <th>2</th>\n",
       "      <td>mar/19</td>\n",
       "      <td>2019</td>\n",
       "      <td>169702</td>\n",
       "      <td>1903629.94</td>\n",
       "    </tr>\n",
       "    <tr>\n",
       "      <th>3</th>\n",
       "      <td>abr/19</td>\n",
       "      <td>2019</td>\n",
       "      <td>185081</td>\n",
       "      <td>1980032.81</td>\n",
       "    </tr>\n",
       "    <tr>\n",
       "      <th>4</th>\n",
       "      <td>mai/19</td>\n",
       "      <td>2019</td>\n",
       "      <td>199683</td>\n",
       "      <td>2052575.54</td>\n",
       "    </tr>\n",
       "  </tbody>\n",
       "</table>\n",
       "</div>"
      ],
      "text/plain": [
       "     Data   ano  Budget_Advertising  vendas_estimadas\n",
       "0  jan/19  2019               91000        1512638.40\n",
       "1  fev/19  2019              154240        1826814.72\n",
       "2  mar/19  2019              169702        1903629.94\n",
       "3  abr/19  2019              185081        1980032.81\n",
       "4  mai/19  2019              199683        2052575.54"
      ]
     },
     "execution_count": 60,
     "metadata": {},
     "output_type": "execute_result"
    }
   ],
   "source": [
    "# Calcular as estimativas das Vendas para 2019\n",
    "# Vendas = 1060550.4 + 4.968 * Budget_Advertising\n",
    "df2019['vendas_estimadas'] = 1060550.4 + 4.968 * df2019['Budget_Advertising']\n",
    "df2019.head().round(2)"
   ]
  },
  {
   "cell_type": "code",
   "execution_count": 64,
   "metadata": {},
   "outputs": [
    {
     "name": "stdout",
     "output_type": "stream",
     "text": [
      "Vendas estimadas para 2019:  26914090.031999998\n",
      "Requirement already satisfied: statsmodels in c:\\programdata\\anaconda3\\lib\\site-packages (0.12.2)\n",
      "Requirement already satisfied: numpy>=1.15 in c:\\programdata\\anaconda3\\lib\\site-packages (from statsmodels) (1.20.1)\n",
      "Requirement already satisfied: scipy>=1.1 in c:\\programdata\\anaconda3\\lib\\site-packages (from statsmodels) (1.6.2)\n",
      "Requirement already satisfied: pandas>=0.21 in c:\\programdata\\anaconda3\\lib\\site-packages (from statsmodels) (1.2.4)\n",
      "Requirement already satisfied: patsy>=0.5 in c:\\programdata\\anaconda3\\lib\\site-packages (from statsmodels) (0.5.1)\n",
      "Requirement already satisfied: python-dateutil>=2.7.3 in c:\\programdata\\anaconda3\\lib\\site-packages (from pandas>=0.21->statsmodels) (2.8.1)\n",
      "Requirement already satisfied: pytz>=2017.3 in c:\\programdata\\anaconda3\\lib\\site-packages (from pandas>=0.21->statsmodels) (2021.1)\n",
      "Requirement already satisfied: six in c:\\programdata\\anaconda3\\lib\\site-packages (from patsy>=0.5->statsmodels) (1.15.0)\n"
     ]
    }
   ],
   "source": [
    "# Calcular a estimativa do total de Vendas para 2019 \n",
    "venda_2019 = df2019['vendas_estimadas'].sum()\n",
    "print('Vendas estimadas para 2019: ', venda_2019)\n",
    "!pip install statsmodels"
   ]
  },
  {
   "cell_type": "code",
   "execution_count": 2,
   "metadata": {},
   "outputs": [],
   "source": [
    "import statsmodels.api as sm\n",
    "from scipy import stats\n",
    "from statsmodels.compat import lzip\n",
    "from scipy.stats.stats import pearsonr"
   ]
  },
  {
   "cell_type": "code",
   "execution_count": 3,
   "metadata": {},
   "outputs": [
    {
     "ename": "NameError",
     "evalue": "name 'X' is not defined",
     "output_type": "error",
     "traceback": [
      "\u001b[1;31m---------------------------------------------------------------------------\u001b[0m",
      "\u001b[1;31mNameError\u001b[0m                                 Traceback (most recent call last)",
      "\u001b[1;32m<ipython-input-3-d4ff9e3e0249>\u001b[0m in \u001b[0;36m<module>\u001b[1;34m\u001b[0m\n\u001b[0;32m      1\u001b[0m \u001b[1;31m# Ordinary Least Square (OLS)\u001b[0m\u001b[1;33m\u001b[0m\u001b[1;33m\u001b[0m\u001b[1;33m\u001b[0m\u001b[0m\n\u001b[1;32m----> 2\u001b[1;33m \u001b[0mX_\u001b[0m \u001b[1;33m=\u001b[0m \u001b[0msm\u001b[0m\u001b[1;33m.\u001b[0m\u001b[0madd_constant\u001b[0m\u001b[1;33m(\u001b[0m\u001b[0mX\u001b[0m\u001b[1;33m)\u001b[0m\u001b[1;33m\u001b[0m\u001b[1;33m\u001b[0m\u001b[0m\n\u001b[0m\u001b[0;32m      3\u001b[0m \u001b[0mest\u001b[0m \u001b[1;33m=\u001b[0m \u001b[0msm\u001b[0m\u001b[1;33m.\u001b[0m\u001b[0mOLS\u001b[0m\u001b[1;33m(\u001b[0m\u001b[0my\u001b[0m\u001b[1;33m,\u001b[0m\u001b[0mX_\u001b[0m\u001b[1;33m)\u001b[0m\u001b[1;33m\u001b[0m\u001b[1;33m\u001b[0m\u001b[0m\n\u001b[0;32m      4\u001b[0m \u001b[0mest2\u001b[0m \u001b[1;33m=\u001b[0m \u001b[0mest\u001b[0m\u001b[1;33m.\u001b[0m\u001b[0mfit\u001b[0m\u001b[1;33m(\u001b[0m\u001b[1;33m)\u001b[0m\u001b[1;33m\u001b[0m\u001b[1;33m\u001b[0m\u001b[0m\n\u001b[0;32m      5\u001b[0m \u001b[0mprint\u001b[0m\u001b[1;33m(\u001b[0m\u001b[0mest2\u001b[0m\u001b[1;33m.\u001b[0m\u001b[0msummary\u001b[0m\u001b[1;33m(\u001b[0m\u001b[1;33m)\u001b[0m\u001b[1;33m)\u001b[0m\u001b[1;33m\u001b[0m\u001b[1;33m\u001b[0m\u001b[0m\n",
      "\u001b[1;31mNameError\u001b[0m: name 'X' is not defined"
     ]
    }
   ],
   "source": [
    "# Ordinary Least Square (OLS)\n",
    "X_ = sm.add_constant(X)\n",
    "est = sm.OLS(y,X_)\n",
    "est2 = est.fit()\n",
    "print(est2.summary())"
   ]
  },
  {
   "cell_type": "code",
   "execution_count": null,
   "metadata": {},
   "outputs": [],
   "source": []
  },
  {
   "cell_type": "code",
   "execution_count": null,
   "metadata": {},
   "outputs": [],
   "source": []
  }
 ],
 "metadata": {
  "kernelspec": {
   "display_name": "Python 3",
   "language": "python",
   "name": "python3"
  },
  "language_info": {
   "codemirror_mode": {
    "name": "ipython",
    "version": 3
   },
   "file_extension": ".py",
   "mimetype": "text/x-python",
   "name": "python",
   "nbconvert_exporter": "python",
   "pygments_lexer": "ipython3",
   "version": "3.8.8"
  }
 },
 "nbformat": 4,
 "nbformat_minor": 4
}
